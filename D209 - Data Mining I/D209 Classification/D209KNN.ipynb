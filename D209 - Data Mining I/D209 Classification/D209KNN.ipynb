{
 "cells": [
  {
   "cell_type": "markdown",
   "id": "442814d9-54e7-43ec-ad7a-bdb92ad2a7bf",
   "metadata": {
    "pycharm": {
     "name": "#%% md\n"
    }
   },
   "source": [
    "# Western Governors University\n",
    "## Data Mining I Part I:\n",
    "### Shane Boyce"
   ]
  },
  {
   "cell_type": "markdown",
   "id": "b88e4654-8215-4cc4-9d6f-3c2d4dd58fc7",
   "metadata": {
    "pycharm": {
     "name": "#%% md\n"
    }
   },
   "source": [
    "## Part I: Research Question\n",
    "\n",
    "A.  Describe the purpose of this data mining report by doing the following:\n",
    "\n",
    "1.  Propose one question relevant to a real-world organizational situation that you will answer using one of the following classification methods:\n",
    "\n",
    "•  k-nearest neighbor (KNN)\n",
    "\n",
    "•  Naive Bayes\n",
    "\n",
    "Using features featured earlier in linear and logisitic regression analysis, can churn be predicted with an 70% accuracy with K-Nearest Neighbors?\n",
    "\n",
    "2.  Define one goal of the data analysis. Ensure that your goal is reasonable within the scope of the scenario and is represented in the available data.\n",
    "\n",
    "One goal will be to determine if the current selected features are sufficient for an 70% accuracy on the current data using train, test, predict split. If more than sufficient, less neighbors can be used to increase speed of the algorithm. If not, more features will be added to the data set.\n",
    " "
   ]
  },
  {
   "cell_type": "code",
   "execution_count": 1,
   "id": "5b4eafea-704a-440a-a895-b17f4cb4567e",
   "metadata": {
    "pycharm": {
     "name": "#%%\n"
    }
   },
   "outputs": [],
   "source": [
    "# necessary import statements\n",
    "\n",
    "#math, dataframes and visualizations\n",
    "import numpy as np\n",
    "import pandas as pd\n",
    "import matplotlib.pyplot as plt\n",
    "import seaborn as sns\n",
    "\n",
    "#settings to make the notebook read better\n",
    "import warnings\n",
    "\n",
    "import timeit\n",
    "\n",
    "# sklearn libraries for classification\n",
    "from sklearn.model_selection import train_test_split\n",
    "from sklearn.naive_bayes import GaussianNB\n",
    "from sklearn.neighbors import KNeighborsClassifier\n",
    "from sklearn.metrics import confusion_matrix\n",
    "from sklearn.metrics import accuracy_score\n",
    "from sklearn.metrics import roc_auc_score\n",
    "\n",
    "#scipy for t-test\n",
    "from scipy.stats import ttest_ind\n",
    "\n",
    "#personal scripts developed during the course lifecycle\n",
    "import churn_helper as ch\n",
    "\n",
    "#magic words and settings\n",
    "warnings.filterwarnings('ignore')\n",
    "%matplotlib inline\n",
    "pd.set_option('display.max_columns', None)\n",
    "np.random.seed(42069)"
   ]
  },
  {
   "cell_type": "code",
   "execution_count": 2,
   "id": "ddf56fdd-bf6b-47db-9d65-528871c21f85",
   "metadata": {
    "pycharm": {
     "name": "#%%\n"
    }
   },
   "outputs": [],
   "source": [
    "df = pd.read_csv('churn_clean.csv')\n",
    "df.shape\n",
    "ch.churnauotclean(df)"
   ]
  },
  {
   "cell_type": "markdown",
   "id": "2fb9006a-23b0-4ce8-bbd4-cf887ae39a1b",
   "metadata": {
    "pycharm": {
     "name": "#%% md\n"
    }
   },
   "source": [
    "## Part II: Method Justification\n",
    "\n",
    "B.  Explain the reasons for your chosen classification method from part A1 by doing the following:\n",
    "\n",
    "1.  Explain how the classification method you chose analyzes the selected data set. Include expected outcomes.\n",
    "\n",
    "KNN is one of the most widely used classification machine learning algorithms and is great for lazy learning(Starmer, 2017). Since the data is already labeled, and speed of processing is less important than accuracy, KNN is the go-to algorithm over Naive Bayes in this context.\n",
    "\n",
    "2.  Summarize one assumption of the chosen classification method.\n",
    "\n",
    "KNN assumes that similar data points are related and that the data is labeled. KNN also assumes that the data is not too noisy, meaning similar points are related and not at random (Hacham, 2022). KNN also uses all the training data to make predictions, which can be computationally expensive. KNN can only be used on continuous data or categorical data but not both simultaneously.\n",
    "\n",
    "3. List the packages or libraries you have chosen for Python or R, and justify how each item on the list supports the analysis.\n",
    "\n",
    "The imported libraries are as follows:\n",
    "Numpy - for mathematical operations on the data set\n",
    "Pandas - for dataframes, necessary for data manipulation\n",
    "Matplotlib - for visualizations\n",
    "Seaborn - for visualizations\n",
    "Sklearn - for machine learning algorithms and data preprocessing tools for scaling/splitting data into training and testing sets for validation of the model.\n",
    "SciPy - for statistical analysis, specifically a t-test for accuracy of data models\n",
    "timeit - for timing the execution of the KNN algorithm\n",
    "Warnings - to filter out warnings, this just ensures the notebook is clean and easy to read\n",
    "Churn_helper - a personal script developed during the course lifecycle for preprocessing dataset importing recurring issues.\n",
    " "
   ]
  },
  {
   "cell_type": "markdown",
   "id": "c5995f03-b6d8-4db2-adf1-86561a3653a5",
   "metadata": {
    "pycharm": {
     "name": "#%% md\n"
    },
    "tags": []
   },
   "source": [
    "## Part III: Data Preparation\n",
    "\n",
    "C.  Perform data preparation for the chosen data set by doing the following:\n",
    "\n",
    "1.  Describe one data preprocessing goal relevant to the classification method from part A1.\n",
    "\n",
    "> The data is already cleaned, but it will need to be subsetted, one hot encoded (to run categories) and test, train and predict splits. A larger categorical feature set will be used initially to see if accuracy meets the 70% accuracy goal. The reduced logisitic regression features from previous analysis will also be modeled to see if a smaller set of features can meet the 70% accuracy goal. The less features used, the faster the model will run as well as reduce the chance of overfitting. No scaling will be necessary as the data is binary.\n",
    "\n",
    "2.  Identify the initial data set variables that you will use to perform the analysis for the classification question from part A1, and classify each variable as continuous or categorical.<br>\n",
    "\n",
    "> I will only be using categorical variables for this analysis. The variables are as follows:\n",
    "    ['Marital','Gender', 'Techie', 'Contract', 'Port_modem', 'Tablet', 'InternetService','Phone', 'Multiple', 'OnlineSecurity', 'OnlineBackup','DeviceProtection', 'TechSupport', 'StreamingTV', 'StreamingMovies','PaperlessBilling', 'PaymentMethod']\n",
    "\n",
    "> A subest of statistically significant values from an earlier logistic regression will be used to test a computationally smaller number of features. The features are as follows:\n",
    "    ['Contract', 'InternetService', 'OnlineSecurity', 'OnlineBackup', 'DeviceProtection', 'TechSupport', 'StreamingTV', 'StreamingMovies', 'PaymentMethod']\n"
   ]
  },
  {
   "cell_type": "markdown",
   "id": "6df20cdf",
   "metadata": {
    "pycharm": {
     "name": "#%% md\n"
    }
   },
   "source": [
    "3.  Explain each of the steps used to prepare the data for the analysis. Identify the code segment for each step.\n",
    "\n",
    "    1. Data will be subsetted for each of the two feature sets. The first feature set will be the full set of features listed, the second will be the reduced feature set.\n",
    "    2. Data will be one hot encoded with the get_dummies function from pandas. Null columns (such as Married_Never) will be dropped as they are default 0s for the dummy variables within a category. This reduces the number of features as well as reduce introducing noise into the model of an absent feature\n",
    "    3. Data will be split into training and testing sets with a 70/30 split. The training set will be used to train the model, the testing set will be used to test the model. This will be done with the same seed on each dataset ensuring same row selection for each model giving an apples to apples comparison."
   ]
  },
  {
   "cell_type": "markdown",
   "id": "7cfa71f2",
   "metadata": {
    "pycharm": {
     "name": "#%% md\n"
    }
   },
   "source": [
    "4.  Provide a copy of the cleaned data set."
   ]
  },
  {
   "cell_type": "code",
   "execution_count": 3,
   "id": "80525683-2c7a-476d-a09a-55f14222d470",
   "metadata": {
    "pycharm": {
     "name": "#%%\n"
    }
   },
   "outputs": [],
   "source": [
    "# chosen subset\n",
    "\n",
    "cats = ['Marital','Gender', 'Techie', 'Contract', 'Port_modem', 'Tablet', 'InternetService',\n",
    "                'Phone', 'Multiple', 'OnlineSecurity', 'OnlineBackup',\n",
    "                'DeviceProtection', 'TechSupport', 'StreamingTV', 'StreamingMovies',\n",
    "                'PaperlessBilling', 'PaymentMethod']\n",
    "\n",
    "# from logistic analysis, below were statistically significant categories from a previous model\n",
    "redlogregcats = ['Techie', 'Multiple', 'OnlineBackup', 'DeviceProtection', 'TechSupport', 'StreamingTV', 'StreamingMovies', 'InternetService_DSL', 'Marital_Widowed']"
   ]
  },
  {
   "cell_type": "code",
   "execution_count": 4,
   "id": "3b0e95a6",
   "metadata": {
    "collapsed": false,
    "jupyter": {
     "outputs_hidden": false
    },
    "pycharm": {
     "name": "#%%\n"
    }
   },
   "outputs": [
    {
     "data": {
      "text/plain": [
       "Index(['Techie', 'Port_modem', 'Tablet', 'Phone', 'Multiple', 'OnlineSecurity',\n",
       "       'OnlineBackup', 'DeviceProtection', 'TechSupport', 'StreamingTV',\n",
       "       'StreamingMovies', 'PaperlessBilling', 'Gender_Female', 'Gender_Male',\n",
       "       'Gender_Nonbinary', 'Contract_Month-to-month', 'Contract_One year',\n",
       "       'Contract_Two Year', 'InternetService_DSL',\n",
       "       'InternetService_Fiber Optic', 'PaymentMethod_Bank Transfer(automatic)',\n",
       "       'PaymentMethod_Credit Card (automatic)',\n",
       "       'PaymentMethod_Electronic Check', 'PaymentMethod_Mailed Check',\n",
       "       'Marital_Divorced', 'Marital_Married', 'Marital_Separated',\n",
       "       'Marital_Widowed'],\n",
       "      dtype='object')"
      ]
     },
     "execution_count": 4,
     "metadata": {},
     "output_type": "execute_result"
    }
   ],
   "source": [
    "# set subset df, get dummies and get further reduced subset based on logistic regression variables\n",
    "dffullknn = df[cats]\n",
    "\n",
    "dffullknn = pd.get_dummies(dffullknn, columns=['Gender','Contract','InternetService','PaymentMethod', 'Marital'])\n",
    "\n",
    "#drop non identifier column\n",
    "dffullknn.drop(['InternetService_None', 'Marital_Never Married'], axis=1, inplace=True)\n",
    "\n",
    "dffullknn.columns\n"
   ]
  },
  {
   "cell_type": "code",
   "execution_count": 5,
   "id": "e8c29f22",
   "metadata": {
    "collapsed": false,
    "jupyter": {
     "outputs_hidden": false
    },
    "pycharm": {
     "name": "#%%\n"
    }
   },
   "outputs": [
    {
     "data": {
      "text/plain": [
       "Index(['Techie', 'Multiple', 'OnlineBackup', 'DeviceProtection', 'TechSupport',\n",
       "       'StreamingTV', 'StreamingMovies', 'InternetService_DSL',\n",
       "       'Marital_Widowed'],\n",
       "      dtype='object')"
      ]
     },
     "execution_count": 5,
     "metadata": {},
     "output_type": "execute_result"
    }
   ],
   "source": [
    "#build pre-emptive reduced model from reduced logistic model\n",
    "\n",
    "dfknnred = dffullknn[redlogregcats]\n",
    "dfknnred.columns"
   ]
  },
  {
   "cell_type": "code",
   "execution_count": 6,
   "id": "54d2ab36",
   "metadata": {
    "collapsed": false,
    "jupyter": {
     "outputs_hidden": false
    },
    "pycharm": {
     "name": "#%%\n"
    }
   },
   "outputs": [
    {
     "data": {
      "text/plain": [
       "((10000, 29), (10000, 10))"
      ]
     },
     "execution_count": 6,
     "metadata": {},
     "output_type": "execute_result"
    }
   ],
   "source": [
    "#add churn to both subframes for the purpose of\n",
    "dfknnred['Churn'], dffullknn['Churn'] = df['Churn'], df['Churn']\n",
    "\n",
    "dffullknn.shape, dfknnred.shape"
   ]
  },
  {
   "cell_type": "code",
   "execution_count": 7,
   "id": "0cd57671",
   "metadata": {
    "collapsed": false,
    "jupyter": {
     "outputs_hidden": false
    },
    "pycharm": {
     "name": "#%%\n"
    }
   },
   "outputs": [],
   "source": [
    "#subsetted files for KNN\n",
    "dfknnred.to_csv('dfknnred.csv', index=False)\n",
    "dffullknn.to_csv('dffullknn.csv', index=False)"
   ]
  },
  {
   "cell_type": "code",
   "execution_count": 8,
   "id": "dfda20e6",
   "metadata": {
    "collapsed": false,
    "jupyter": {
     "outputs_hidden": false
    },
    "pycharm": {
     "name": "#%%\n"
    }
   },
   "outputs": [],
   "source": [
    "#test and training split\n",
    "X_train, X_test, y_train, y_test = train_test_split(dffullknn.drop('Churn', axis=1), dffullknn['Churn'], test_size=0.3, random_state=42069)\n",
    "\n",
    "#reduced test and training split\n",
    "redX_train, redX_test, redy_train, redy_test = train_test_split(dfknnred.drop('Churn', axis=1), dfknnred['Churn'], test_size=0.3, random_state=42069)"
   ]
  },
  {
   "cell_type": "code",
   "execution_count": 9,
   "id": "ec1e0a65",
   "metadata": {
    "collapsed": false,
    "jupyter": {
     "outputs_hidden": false
    },
    "pycharm": {
     "name": "#%%\n"
    }
   },
   "outputs": [],
   "source": [
    "#train and test split to CSV for full model\n",
    "X_train.to_csv('full_knn_X_train.csv', index=False)\n",
    "X_test.to_csv('full_knn_X_test.csv', index=False)\n",
    "y_train.to_csv('full_knn_y_train.csv', index=False)\n",
    "y_test.to_csv('full_knn_y_test.csv', index=False)\n",
    "\n",
    "#reduced model\n",
    "redX_train.to_csv('red_knn_X_train.csv', index=False)\n",
    "redX_test.to_csv('red_knn_X_test.csv', index=False)\n",
    "redy_train.to_csv('red_knn_y_train.csv', index=False)\n",
    "redy_test.to_csv('red_knn_y_test.csv', index=False)"
   ]
  },
  {
   "cell_type": "markdown",
   "id": "5c57fbe9-62ae-4e63-8d75-7152a05df2f7",
   "metadata": {
    "pycharm": {
     "name": "#%% md\n"
    }
   },
   "source": [
    "## Part IV: Analysis\n",
    "\n",
    "D.  Perform the data analysis and report on the results by doing the following:"
   ]
  },
  {
   "cell_type": "markdown",
   "id": "eccadc32-4dda-448e-aa6a-9d63329abc7a",
   "metadata": {
    "pycharm": {
     "name": "#%% md\n"
    }
   },
   "source": [
    "1. Split the data into training and test data sets and provide the file(s).\n",
    "\n",
    "    Split Above"
   ]
  },
  {
   "cell_type": "markdown",
   "id": "237a3445-ecfe-46fe-a131-98714bdb1b5b",
   "metadata": {
    "pycharm": {
     "name": "#%% md\n"
    }
   },
   "source": [
    "3. Describe the analysis technique you used to appropriately analyze the data. Include screenshots of the intermediate calculations you performed.\n"
   ]
  },
  {
   "cell_type": "code",
   "execution_count": 10,
   "id": "ca1b2e55",
   "metadata": {
    "collapsed": false,
    "jupyter": {
     "outputs_hidden": false
    },
    "pycharm": {
     "name": "#%%\n"
    }
   },
   "outputs": [
    {
     "name": "stdout",
     "output_type": "stream",
     "text": [
      "WITH K = 1\n",
      "[[1715  464]\n",
      " [ 476  345]]\n",
      "accuracy is 0.6866666666666666 and ROC AUC is 0.603638764219862\n",
      "WITH K = 2\n",
      "[[2040  139]\n",
      " [ 661  160]]\n",
      "accuracy is 0.7333333333333333 and ROC AUC is 0.5655467788809022\n",
      "WITH K = 3\n",
      "[[1868  311]\n",
      " [ 516  305]]\n",
      "accuracy is 0.7243333333333334 and ROC AUC is 0.6143860759246019\n",
      "WITH K = 4\n",
      "[[2032  147]\n",
      " [ 631  190]]\n",
      "accuracy is 0.7406666666666667 and ROC AUC is 0.5819814763781618\n",
      "WITH K = 5\n",
      "[[1922  257]\n",
      " [ 530  291]]\n",
      "accuracy is 0.7376666666666667 and ROC AUC is 0.6182508933966626\n",
      "WITH K = 6\n",
      "[[2039  140]\n",
      " [ 613  208]]\n",
      "accuracy is 0.749 and ROC AUC is 0.594549958942603\n",
      "WITH K = 7\n",
      "[[1974  205]\n",
      " [ 538  283]]\n",
      "accuracy is 0.7523333333333333 and ROC AUC is 0.6253108651455959\n",
      "WITH K = 8\n",
      "[[2053  126]\n",
      " [ 633  188]]\n",
      "accuracy is 0.747 and ROC AUC is 0.5855821737669784\n",
      "WITH K = 9\n",
      "[[1992  187]\n",
      " [ 557  264]]\n",
      "accuracy is 0.752 and ROC AUC is 0.6178699455940577\n"
     ]
    }
   ],
   "source": [
    "#empty list to hold accuracy scores\n",
    "accuracy_scores = []\n",
    "roc_auc_scores = []\n",
    "#used for parameter tuning and neighbor selection\n",
    "centers = list(range(1,10))\n",
    "#parameter tuning\n",
    "for n in centers:\n",
    "    # instantiate learning model\n",
    "    knn = KNeighborsClassifier(n_neighbors=n)\n",
    "    #fit model\n",
    "    knn.fit(X_train, y_train)\n",
    "    #predict on test set\n",
    "    pred = knn.predict(X_test)\n",
    "    # record score\n",
    "    score = knn.score(X_test, y_test)\n",
    "    # confusion matrix for easy viewing\n",
    "    cm = confusion_matrix(y_test, pred)\n",
    "    print('WITH K =', n)\n",
    "    print(cm)\n",
    "    # confusion_matrix assignment of array values\n",
    "    TP, TN, FP, FN = cm[0,0], cm[1,1], cm[1,0], cm[0,1]\n",
    "    #statistical test for accuracy\n",
    "    accuracy = (TP+TN)/(TP+TN+FP+FN)\n",
    "    #statistical test for AUC score from sklearn\n",
    "    rocaucscore = roc_auc_score (y_test, pred)\n",
    "    print(f'accuracy is {accuracy} and ROC AUC is {rocaucscore}')\n",
    "    #saving values for later\n",
    "    accuracy_scores.append(accuracy)\n",
    "    roc_auc_scores.append(rocaucscore)"
   ]
  },
  {
   "cell_type": "code",
   "execution_count": 11,
   "id": "3feab00e",
   "metadata": {
    "collapsed": false,
    "jupyter": {
     "outputs_hidden": false
    },
    "pycharm": {
     "name": "#%%\n"
    }
   },
   "outputs": [
    {
     "data": {
      "text/plain": [
       "Text(0.5, 1.0, 'Accuracy v Neighbors')"
      ]
     },
     "execution_count": 11,
     "metadata": {},
     "output_type": "execute_result"
    },
    {
     "data": {
      "image/png": "[encoded data removed]",
      "text/plain": [
       "<Figure size 432x288 with 1 Axes>"
      ]
     },
     "metadata": {
      "needs_background": "light"
     },
     "output_type": "display_data"
    }
   ],
   "source": [
    "# knee plot visualiztion to assist with neighbor selection\n",
    "\n",
    "plt.plot(centers, accuracy_scores, linestyle='--', marker='o', color='b');\n",
    "plt.plot(centers, roc_auc_scores, linestyle='--', marker='o', color='b');\n",
    "plt.xlabel('K Neighbors');\n",
    "plt.ylabel('Accuracy');\n",
    "plt.title('Accuracy v Neighbors')"
   ]
  },
  {
   "cell_type": "markdown",
   "id": "85c7f765",
   "metadata": {
    "pycharm": {
     "name": "#%% md\n"
    }
   },
   "source": [
    "5 neighbors produced the highest accuracy and ROC AUC score with least risk of overfitting."
   ]
  },
  {
   "cell_type": "code",
   "execution_count": 12,
   "id": "9f7c3763",
   "metadata": {
    "collapsed": false,
    "jupyter": {
     "outputs_hidden": false
    },
    "pycharm": {
     "name": "#%%\n"
    }
   },
   "outputs": [
    {
     "name": "stdout",
     "output_type": "stream",
     "text": [
      "WITH K = 1\n",
      "[[1619  560]\n",
      " [ 483  338]]\n",
      "accuracy is 0.6523333333333333 and ROC AUC is 0.5773472170127991\n",
      "WITH K = 2\n",
      "[[1988  191]\n",
      " [ 643  178]]\n",
      "accuracy is 0.722 and ROC AUC is 0.5645769411149165\n",
      "WITH K = 3\n",
      "[[1740  439]\n",
      " [ 482  339]]\n",
      "accuracy is 0.693 and ROC AUC is 0.6057212602412912\n",
      "WITH K = 4\n",
      "[[2012  167]\n",
      " [ 627  194]]\n",
      "accuracy is 0.7353333333333333 and ROC AUC is 0.5798282688423827\n",
      "WITH K = 5\n",
      "[[1891  288]\n",
      " [ 508  313]]\n",
      "accuracy is 0.7346666666666667 and ROC AUC is 0.624535833409262\n",
      "WITH K = 6\n",
      "[[2032  147]\n",
      " [ 633  188]]\n",
      "accuracy is 0.74 and ROC AUC is 0.5807634495815722\n",
      "WITH K = 7\n",
      "[[1898  281]\n",
      " [ 535  286]]\n",
      "accuracy is 0.728 and ROC AUC is 0.6096987130504389\n",
      "WITH K = 8\n",
      "[[2037  142]\n",
      " [ 643  178]]\n",
      "accuracy is 0.7383333333333333 and ROC AUC is 0.5758206308808642\n",
      "WITH K = 9\n",
      "[[1946  233]\n",
      " [ 570  251]]\n",
      "accuracy is 0.7323333333333333 and ROC AUC is 0.5993974708196218\n"
     ]
    }
   ],
   "source": [
    "red_accuracy_scores = []\n",
    "red_roc_auc_scores = []\n",
    "for n in centers:\n",
    "\n",
    "    knn = KNeighborsClassifier(n_neighbors=n)\n",
    "    knn.fit(redX_train, redy_train)\n",
    "    pred = knn.predict(redX_test)\n",
    "    score = knn.score(redX_test, redy_test)\n",
    "    cm = confusion_matrix(y_test, pred)\n",
    "    print('WITH K =', n)\n",
    "    print(cm)\n",
    "    TP, TN, FP, FN = cm[0,0], cm[1,1], cm[1,0], cm[0,1]\n",
    "    accuracy = (TP+TN)/(TP+TN+FP+FN)\n",
    "    redrocaucscore = roc_auc_score (y_test, pred)\n",
    "    print(f'accuracy is {accuracy} and ROC AUC is {redrocaucscore}')\n",
    "    red_accuracy_scores.append(accuracy)\n",
    "    red_roc_auc_scores.append(redrocaucscore)\n"
   ]
  },
  {
   "cell_type": "code",
   "execution_count": 13,
   "id": "2362e4e7",
   "metadata": {
    "collapsed": false,
    "jupyter": {
     "outputs_hidden": false
    },
    "pycharm": {
     "name": "#%%\n"
    }
   },
   "outputs": [
    {
     "data": {
      "image/png": "[encoded data removed]",
      "text/plain": [
       "<Figure size 432x288 with 1 Axes>"
      ]
     },
     "metadata": {
      "needs_background": "light"
     },
     "output_type": "display_data"
    }
   ],
   "source": [
    "plt.plot(centers, accuracy_scores, linestyle='--', marker='o', color='b');\n",
    "plt.plot(centers, red_accuracy_scores, linestyle='--', marker='o', color='r');\n",
    "plt.plot(centers, red_roc_auc_scores, linestyle='--', marker='o', color='r');\n",
    "plt.plot(centers, roc_auc_scores, linestyle='--', marker='o', color='b');"
   ]
  },
  {
   "cell_type": "markdown",
   "id": "f5337474",
   "metadata": {
    "pycharm": {
     "name": "#%% md\n"
    }
   },
   "source": [
    "Visually, the Accuracy and ROC-AUC scores are best at 5 neighbors for the full and reduced model."
   ]
  },
  {
   "cell_type": "code",
   "execution_count": 14,
   "id": "def19043",
   "metadata": {
    "collapsed": false,
    "jupyter": {
     "outputs_hidden": false
    },
    "pycharm": {
     "name": "#%%\n"
    }
   },
   "outputs": [
    {
     "data": {
      "text/plain": [
       "(Ttest_indResult(statistic=1.3772342551463086, pvalue=0.18740317118547511),\n",
       " Ttest_indResult(statistic=1.056982822729248, pvalue=0.3062180221857238))"
      ]
     },
     "execution_count": 14,
     "metadata": {},
     "output_type": "execute_result"
    }
   ],
   "source": [
    "# independent t-test\n",
    "ttest_ind(accuracy_scores, red_accuracy_scores), ttest_ind(roc_auc_scores, red_roc_auc_scores)"
   ]
  },
  {
   "cell_type": "markdown",
   "id": "2bb0c8b1",
   "metadata": {
    "pycharm": {
     "name": "#%% md\n"
    }
   },
   "source": [
    "\n",
    "The above T-Test shows there isn't a significant difference between the accuracy of the full model and the reduced model. The p-value is 0.18, which is greater than 0.05, so we fail to reject the null hypothesis that the two means are equal. This means that the accuracy of the full model and the reduced model are the same when using 10 neighbors. The same is true for the ROC-AUC scores, with a p-value of 0.3. With no significant difference between the two models, deciding between the two comes down to the models computational expense. Since the data is already reduced, the reduced model is the better choice due to less features and same k-neighebors ensuring a faster run time."
   ]
  },
  {
   "cell_type": "code",
   "execution_count": 15,
   "id": "0c9a9ade",
   "metadata": {
    "collapsed": false,
    "jupyter": {
     "outputs_hidden": false
    },
    "pycharm": {
     "name": "#%%\n"
    }
   },
   "outputs": [
    {
     "name": "stdout",
     "output_type": "stream",
     "text": [
      "559 ms ± 5.8 ms per loop (mean ± std. dev. of 7 runs, 1 loop each)\n"
     ]
    }
   ],
   "source": [
    "%%timeit\n",
    "#verification of computational expense\n",
    "\n",
    "knn = KNeighborsClassifier(n_neighbors=5)\n",
    "knn.fit(X_train, y_train)\n",
    "pred = knn.predict(X_test)\n",
    "score = knn.score(X_test, y_test)\n"
   ]
  },
  {
   "cell_type": "code",
   "execution_count": 16,
   "id": "5bc21d57",
   "metadata": {
    "collapsed": false,
    "jupyter": {
     "outputs_hidden": false
    },
    "pycharm": {
     "name": "#%%\n"
    }
   },
   "outputs": [
    {
     "name": "stdout",
     "output_type": "stream",
     "text": [
      "122 ms ± 2.36 ms per loop (mean ± std. dev. of 7 runs, 10 loops each)\n"
     ]
    }
   ],
   "source": [
    "%%timeit\n",
    "#verification of computational expense\n",
    "\n",
    "knn = KNeighborsClassifier(n_neighbors=5)\n",
    "knn.fit(redX_train, redy_train)\n",
    "pred = knn.predict(redX_test)\n",
    "score = knn.score(redX_test, redy_test)"
   ]
  },
  {
   "cell_type": "code",
   "execution_count": 17,
   "id": "49be5a0d",
   "metadata": {
    "collapsed": false,
    "jupyter": {
     "outputs_hidden": false
    },
    "pycharm": {
     "name": "#%%\n"
    }
   },
   "outputs": [],
   "source": [
    "misclass = 1 - accuracy\n",
    "precision = TP/(TP+FP)\n",
    "recall = TP/(TP+FN)\n",
    "specificity = TN/(TN+FP)\n",
    "F1 = (2 * ((precision * recall)/(precision + recall)))\n",
    "accuracy = (TP+TN)/(TP+TN+FP+FN)"
   ]
  },
  {
   "cell_type": "code",
   "execution_count": 18,
   "id": "733931e5",
   "metadata": {
    "collapsed": false,
    "jupyter": {
     "outputs_hidden": false
    },
    "pycharm": {
     "name": "#%%\n"
    }
   },
   "outputs": [
    {
     "name": "stdout",
     "output_type": "stream",
     "text": [
      "WITH K = 5\n",
      "[[1891  288]\n",
      " [ 508  313]]\n",
      "The accuracy of the reduced feature KNN is 0.73 with a misclassification rate of 0.27 and ROC AUC is 0.62 .\n",
      "The model has a precision positive rate of 0.77, recall/true positive rate of 0.89.\n",
      "The specificity/true negative rate of the model is 0.31.\n",
      "THe harmonic mean f1=Score is 0.83\n"
     ]
    }
   ],
   "source": [
    "#Final selection of model with all appropriate metrics\n",
    "knn = KNeighborsClassifier(n_neighbors=5)\n",
    "knn.fit(redX_train, redy_train)\n",
    "pred = knn.predict(redX_test)\n",
    "score = knn.score(redX_test, redy_test)\n",
    "cm = confusion_matrix(y_test, pred)\n",
    "print('WITH K =', 5)\n",
    "print(cm)\n",
    "TP, TN, FP, FN = cm[0,0], cm[1,1], cm[1,0], cm[0,1]\n",
    "redrocaucscore = roc_auc_score (y_test, pred)\n",
    "print(f'The accuracy of the reduced feature KNN is {round(accuracy, 2)} with a misclassification rate of {round(misclass, 2)} and ROC AUC is {round(redrocaucscore, 2)} .\\n'\n",
    "      f'The model has a precision positive rate of {round(precision, 2)}, recall/true positive rate of {round(recall, 2)}.\\n'\n",
    "      f'The specificity/true negative rate of the model is {round(specificity, 2)}.\\n'\n",
    "      f'THe harmonic mean f1=Score is {round(F1, 2)}')"
   ]
  },
  {
   "cell_type": "markdown",
   "id": "d525d3b3",
   "metadata": {
    "pycharm": {
     "name": "#%% md\n"
    }
   },
   "source": [
    "The reduced model is 4.4 times faster than the full model. for similar accuracy and roc-auc scores. The reduced model is the better choice for this dataset."
   ]
  },
  {
   "cell_type": "markdown",
   "id": "0860ec78-a1dd-461b-b399-20b65c3a70c0",
   "metadata": {
    "pycharm": {
     "name": "#%% md\n"
    }
   },
   "source": [
    "Part V: Data Summary and Implications\n",
    "\n",
    "E.  Summarize your data analysis by doing the following:\n",
    "\n",
    "1.  Explain the accuracy and the area under the curve (AUC) of your classification model.\n"
   ]
  },
  {
   "cell_type": "code",
   "execution_count": 19,
   "id": "7858ed95",
   "metadata": {
    "collapsed": false,
    "jupyter": {
     "outputs_hidden": false
    },
    "pycharm": {
     "name": "#%%\n"
    }
   },
   "outputs": [
    {
     "name": "stdout",
     "output_type": "stream",
     "text": [
      "Accuracy of the 5 neighbors reduced model is 0.73 meaning that the model correctly predicts 73% of the time.\n",
      "ROC AUC is 0.62 meaning the model correctly classifies true positives and true negatives 62% of the time.\n"
     ]
    }
   ],
   "source": [
    "print(f'Accuracy of the 5 neighbors reduced model is {round(red_accuracy_scores[4], 2)} meaning that the model correctly predicts 73% of the time.\\n'\n",
    "      f'ROC AUC is {round(red_roc_auc_scores[4], 2)} meaning the model correctly classifies true positives and true negatives 62% of the time.')"
   ]
  },
  {
   "cell_type": "markdown",
   "id": "a255b86e",
   "metadata": {
    "pycharm": {
     "name": "#%% md\n"
    }
   },
   "source": [
    "The reduced model is performing well without overfitting."
   ]
  },
  {
   "cell_type": "markdown",
   "id": "76fb9a82",
   "metadata": {
    "pycharm": {
     "name": "#%% md\n"
    }
   },
   "source": [
    "2. Discuss the results and implications of your classification analysis.\n",
    "\n",
    "    While accuracy points to not overfitting, each test is under performing compared ot Logistic Regression. While accuracy does meet the 70% goal with few features, the ROC-AUC score is not as high as the Logistic Regression model. However the Logistic regression assumes a linear relationship which may not be the case here. A box-tidwell test could be used to determine if the data is linear or not. If the data is not linear, then the KNN model is the better choice. If the data is linear, then the Logistic Regression model is the better choice. Regardless, both models and the former logistic regression model assist in predicting more than 70% of the time, which is the goal of the analysis."
   ]
  },
  {
   "cell_type": "markdown",
   "id": "d8c52639",
   "metadata": {
    "pycharm": {
     "name": "#%% md\n"
    }
   },
   "source": [
    "\n",
    "4. Discuss one limitation of your data analysis.\n",
    "\n",
    "As mentioned in previous analysis, this data set is low quality due to the amount of survey generated data. Due to the unreliable information and missing info (26% of the data from initial cleaning) introduces bias into the dataset from chosen cleaning methods. The assumption of features selected is informed by previous analysis on the same dataset with quality issues. There is also no information on what `Churn` means (reducing services, changing from one `internet service` to another, et cet).\n",
    "\n",
    "5. Recommend a course of action for the real-world organizational situation from part A1 based on your results and implications discussed in part E2.\n",
    "\n",
    "Using this model a likely `Churn` customer can be idenitifed with good accuracy. I recommend using this model in conjunction with the logistic regression model to reach out to specific customers regarding deals, bundles and other incentives to keep them as customers. This will help the company retain customers and increase revenue. Combined further with the Linnear Regression model targetting tenure, a customer's parameters can be tuned to reduce risk of `Churn` and increase revenue."
   ]
  },
  {
   "cell_type": "markdown",
   "id": "5f530946-fdc2-4581-a299-b0a5caa4c1ba",
   "metadata": {
    "pycharm": {
     "name": "#%% md\n"
    }
   },
   "source": [
    " "
   ]
  },
  {
   "cell_type": "markdown",
   "id": "78d3ef50-40b5-4cbc-824f-e1226849d74b",
   "metadata": {
    "pycharm": {
     "name": "#%% md\n"
    }
   },
   "source": [
    " \n",
    "## Sources\n",
    "\n",
    "Hachcham, A. (2022, July 22). The KNN algorithm - explanation, opportunities, limitations. neptune.ai. Retrieved August 28, 2022, from https://neptune.ai/blog/knn-algorithm-explanation-opportunities-limitations\n",
    "joshstarmer. (2017, June 26). StatQuest: K-nearest neighbors, clearly explained. YouTube. Retrieved August 24, 2022, from https://www.youtube.com/watch?v=HVXime0nQeI\n",
    "Saji, B. (2021, January 20). K nearest neighbor Classification Algorithm: Knn in python. Analytics Vidhya. Retrieved August 28, 2022, from https://www.analyticsvidhya.com/blog/2021/01/a-quick-introduction-to-k-nearest-neighbor-knn-classification-using-python/\n",
    "scikit-learn developers . (n.d.). Sklearn.neighbors.kneighborsclassifier. scikit. Retrieved August 24, 2022, from https://scikit-learn.org/stable/modules/generated/sklearn.neighbors.KNeighborsClassifier.html"
   ]
  },
  {
   "cell_type": "code",
   "execution_count": 20,
   "id": "4d40cf72",
   "metadata": {
    "collapsed": false,
    "jupyter": {
     "outputs_hidden": false
    },
    "pycharm": {
     "name": "#%%\n"
    }
   },
   "outputs": [
    {
     "name": "stderr",
     "output_type": "stream",
     "text": [
      "[NbConvertApp] Converting notebook D209KNN.ipynb to webpdf\n",
      "[NbConvertApp] Building PDF\n",
      "[NbConvertApp] PDF successfully created\n",
      "[NbConvertApp] Writing 247190 bytes to D209KNN.pdf\n"
     ]
    }
   ],
   "source": [
    "!jupyter nbconvert D209KNN.ipynb --to webpdf"
   ]
  }
 ],
 "metadata": {
  "kernelspec": {
   "display_name": "Python 3 (ipykernel)",
   "language": "python",
   "name": "python3"
  },
  "language_info": {
   "codemirror_mode": {
    "name": "ipython",
    "version": 3
   },
   "file_extension": ".py",
   "mimetype": "text/x-python",
   "name": "python",
   "nbconvert_exporter": "python",
   "pygments_lexer": "ipython3",
   "version": "3.9.12"
  }
 },
 "nbformat": 4,
 "nbformat_minor": 5
}
