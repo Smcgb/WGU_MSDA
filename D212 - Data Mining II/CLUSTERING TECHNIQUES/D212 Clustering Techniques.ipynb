{
 "cells": [
  {
   "cell_type": "markdown",
   "source": [
    "# Western Governors University\n",
    "## D212: Data Mining II\n",
    "## Clustering Techniques\n",
    "### Shane Boyce\n",
    "\n",
    "### Introduction\n",
    "\n",
    "One of the most critical factors in customer relationship management that directly affects a company’s long-term profitability is understanding its customers. When a company can better understand its customer characteristics, it is better able to target products and marketing campaigns for customers, resulting in better profits for the company in the long term.\n"
   ],
   "metadata": {
    "collapsed": false,
    "pycharm": {
     "name": "#%% md\n"
    }
   },
   "outputs": []
  },
  {
   "cell_type": "markdown",
   "source": [
    "## Part I: Research Question\n",
    "\n",
    "### A.  Describe the purpose of this data mining report by doing the following:\n",
    "\n",
    "1.  Propose one question relevant to a real-world organizational situation that you will answer using one of the following clustering techniques:\n",
    "\n",
    "•  k-means\n",
    "\n",
    "•  hierarchical\n",
    "\n",
    "Does k-means clustering provide meaningful results for this data set?\n",
    "##### 2.  Define one goal of the data analysis. Ensure that your goal is reasonable within the scope of the scenario and is represented in the available data.\n",
    "\n",
    "The goal of this dataset will be to determine the optimal number of clusters based on intertia and then to evaluate the silhouette score to ensure that the clusters are meaningful.\n"
   ],
   "metadata": {
    "collapsed": false,
    "pycharm": {
     "name": "#%% md\n"
    }
   }
  },
  {
   "cell_type": "markdown",
   "source": [
    "## Part II: Technique Justification\n",
    "\n",
    "### B.  Explain the reasons for your chosen clustering technique from part A1 by doing the following:\n",
    "\n",
    "1.  Explain how the clustering technique you chose analyzes the selected dataset. Include expected outcomes.\n",
    "\n",
    "2.  Summarize one assumption of the clustering technique.\n",
    "\n",
    "3.  List the packages or libraries you have chosen for Python or R, and justify how each item on the list supports the analysis.\n",
    "\n"
   ],
   "metadata": {
    "collapsed": false,
    "pycharm": {
     "name": "#%% md\n"
    }
   }
  },
  {
   "cell_type": "code",
   "execution_count": 23,
   "outputs": [
    {
     "data": {
      "text/plain": "   CaseOrder Customer_id                           Interaction  \\\n0          1     K409198  aa90260b-4141-4a24-8e36-b04ce1f4f77b   \n1          2     S120509  fb76459f-c047-4a9d-8af9-e0f7d4ac2524   \n2          3     K191035  344d114c-3736-4be5-98f7-c72c281e2d35   \n3          4      D90850  abfa2b40-2d43-4994-b15a-989b8c79e311   \n4          5     K662701  68a861fd-0d20-4e51-a587-8a90407ee574   \n\n                                UID         City State                 County  \\\n0  e885b299883d4f9fb18e39c75155d990  Point Baker    AK  Prince of Wales-Hyder   \n1  f2de8bef964785f41a2959829830fb8a  West Branch    MI                 Ogemaw   \n2  f1784cfa9f6d92ae816197eb175d3c71      Yamhill    OR                Yamhill   \n3  dc8a365077241bb5cd5ccd305136b05e      Del Mar    CA              San Diego   \n4  aabb64a116e83fdc4befc1fbab1663f9    Needville    TX              Fort Bend   \n\n     Zip       Lat        Lng  ...  MonthlyCharge Bandwidth_GB_Year Item1  \\\n0  99927  56.25100 -133.37571  ...     172.455519        904.536110     5   \n1  48661  44.32893  -84.24080  ...     242.632554        800.982766     3   \n2  97148  45.35589 -123.24657  ...     159.947583       2054.706961     4   \n3  92014  32.96687 -117.24798  ...     119.956840       2164.579412     4   \n4  77461  29.38012  -95.80673  ...     149.948316        271.493436     4   \n\n  Item2  Item3  Item4  Item5 Item6 Item7 Item8  \n0     5      5      3      4     4     3     4  \n1     4      3      3      4     3     4     4  \n2     4      2      4      4     3     3     3  \n3     4      4      2      5     4     3     3  \n4     4      4      3      4     4     4     5  \n\n[5 rows x 50 columns]",
      "text/html": "<div>\n<style scoped>\n    .dataframe tbody tr th:only-of-type {\n        vertical-align: middle;\n    }\n\n    .dataframe tbody tr th {\n        vertical-align: top;\n    }\n\n    .dataframe thead th {\n        text-align: right;\n    }\n</style>\n<table border=\"1\" class=\"dataframe\">\n  <thead>\n    <tr style=\"text-align: right;\">\n      <th></th>\n      <th>CaseOrder</th>\n      <th>Customer_id</th>\n      <th>Interaction</th>\n      <th>UID</th>\n      <th>City</th>\n      <th>State</th>\n      <th>County</th>\n      <th>Zip</th>\n      <th>Lat</th>\n      <th>Lng</th>\n      <th>...</th>\n      <th>MonthlyCharge</th>\n      <th>Bandwidth_GB_Year</th>\n      <th>Item1</th>\n      <th>Item2</th>\n      <th>Item3</th>\n      <th>Item4</th>\n      <th>Item5</th>\n      <th>Item6</th>\n      <th>Item7</th>\n      <th>Item8</th>\n    </tr>\n  </thead>\n  <tbody>\n    <tr>\n      <th>0</th>\n      <td>1</td>\n      <td>K409198</td>\n      <td>aa90260b-4141-4a24-8e36-b04ce1f4f77b</td>\n      <td>e885b299883d4f9fb18e39c75155d990</td>\n      <td>Point Baker</td>\n      <td>AK</td>\n      <td>Prince of Wales-Hyder</td>\n      <td>99927</td>\n      <td>56.25100</td>\n      <td>-133.37571</td>\n      <td>...</td>\n      <td>172.455519</td>\n      <td>904.536110</td>\n      <td>5</td>\n      <td>5</td>\n      <td>5</td>\n      <td>3</td>\n      <td>4</td>\n      <td>4</td>\n      <td>3</td>\n      <td>4</td>\n    </tr>\n    <tr>\n      <th>1</th>\n      <td>2</td>\n      <td>S120509</td>\n      <td>fb76459f-c047-4a9d-8af9-e0f7d4ac2524</td>\n      <td>f2de8bef964785f41a2959829830fb8a</td>\n      <td>West Branch</td>\n      <td>MI</td>\n      <td>Ogemaw</td>\n      <td>48661</td>\n      <td>44.32893</td>\n      <td>-84.24080</td>\n      <td>...</td>\n      <td>242.632554</td>\n      <td>800.982766</td>\n      <td>3</td>\n      <td>4</td>\n      <td>3</td>\n      <td>3</td>\n      <td>4</td>\n      <td>3</td>\n      <td>4</td>\n      <td>4</td>\n    </tr>\n    <tr>\n      <th>2</th>\n      <td>3</td>\n      <td>K191035</td>\n      <td>344d114c-3736-4be5-98f7-c72c281e2d35</td>\n      <td>f1784cfa9f6d92ae816197eb175d3c71</td>\n      <td>Yamhill</td>\n      <td>OR</td>\n      <td>Yamhill</td>\n      <td>97148</td>\n      <td>45.35589</td>\n      <td>-123.24657</td>\n      <td>...</td>\n      <td>159.947583</td>\n      <td>2054.706961</td>\n      <td>4</td>\n      <td>4</td>\n      <td>2</td>\n      <td>4</td>\n      <td>4</td>\n      <td>3</td>\n      <td>3</td>\n      <td>3</td>\n    </tr>\n    <tr>\n      <th>3</th>\n      <td>4</td>\n      <td>D90850</td>\n      <td>abfa2b40-2d43-4994-b15a-989b8c79e311</td>\n      <td>dc8a365077241bb5cd5ccd305136b05e</td>\n      <td>Del Mar</td>\n      <td>CA</td>\n      <td>San Diego</td>\n      <td>92014</td>\n      <td>32.96687</td>\n      <td>-117.24798</td>\n      <td>...</td>\n      <td>119.956840</td>\n      <td>2164.579412</td>\n      <td>4</td>\n      <td>4</td>\n      <td>4</td>\n      <td>2</td>\n      <td>5</td>\n      <td>4</td>\n      <td>3</td>\n      <td>3</td>\n    </tr>\n    <tr>\n      <th>4</th>\n      <td>5</td>\n      <td>K662701</td>\n      <td>68a861fd-0d20-4e51-a587-8a90407ee574</td>\n      <td>aabb64a116e83fdc4befc1fbab1663f9</td>\n      <td>Needville</td>\n      <td>TX</td>\n      <td>Fort Bend</td>\n      <td>77461</td>\n      <td>29.38012</td>\n      <td>-95.80673</td>\n      <td>...</td>\n      <td>149.948316</td>\n      <td>271.493436</td>\n      <td>4</td>\n      <td>4</td>\n      <td>4</td>\n      <td>3</td>\n      <td>4</td>\n      <td>4</td>\n      <td>4</td>\n      <td>5</td>\n    </tr>\n  </tbody>\n</table>\n<p>5 rows × 50 columns</p>\n</div>"
     },
     "execution_count": 23,
     "metadata": {},
     "output_type": "execute_result"
    }
   ],
   "source": [
    "# Import libraries\n",
    "import numpy as np # linear algebra\n",
    "import pandas as pd # data processing, CSV file I/O (e.g. pd.read_csv)\n",
    "import matplotlib.pyplot as plt # data visualization\n",
    "import seaborn as sns # data visualization extensions\n",
    "from sklearn.cluster import KMeans # k-means clustering\n",
    "from sklearn.preprocessing import RobustScaler # robust scaler due to data quality concerns\n",
    "from sklearn import metrics # model evaluation\n",
    "import churn_helper as ch # helper functions\n",
    "\n",
    "import random # random number generator and setting seed\n",
    "\n",
    "#settings\n",
    "random.seed(42) # set random seed for reproducibility\n",
    "\n",
    "\n",
    "df = pd.read_csv('churn_clean.csv')\n",
    "\n",
    "df.head()"
   ],
   "metadata": {
    "collapsed": false,
    "pycharm": {
     "name": "#%%\n"
    }
   }
  },
  {
   "cell_type": "code",
   "execution_count": 24,
   "outputs": [
    {
     "data": {
      "text/plain": "  State  Population      Area  Children  Age    Income    Marital  Gender  \\\n0    AK          38     Urban         0   68  28561.99    Widowed    Male   \n1    MI       10446     Urban         1   27  21704.77    Married  Female   \n2    OR        3735     Urban         4   50   9609.57    Widowed  Female   \n3    CA       13863  Suburban         1   48  18925.23    Married    Male   \n4    TX       11352  Suburban         0   83  40074.19  Separated    Male   \n\n   Churn  Outage_sec_perweek  ...  MonthlyCharge  Bandwidth_GB_Year  \\\n0      0            7.978323  ...     172.455519         904.536110   \n1      1           11.699080  ...     242.632554         800.982766   \n2      0           10.752800  ...     159.947583        2054.706961   \n3      0           14.913540  ...     119.956840        2164.579412   \n4      1            8.147417  ...     149.948316         271.493436   \n\n   Timeliness  Fixes Replacements  Reliability  Options Respectfulness  \\\n0           5      5            5            3        4              4   \n1           3      4            3            3        4              3   \n2           4      4            2            4        4              3   \n3           4      4            4            2        5              4   \n4           4      4            4            3        4              4   \n\n   Courteous  Listening  \n0          3          4  \n1          4          4  \n2          3          3  \n3          3          3  \n4          4          5  \n\n[5 rows x 39 columns]",
      "text/html": "<div>\n<style scoped>\n    .dataframe tbody tr th:only-of-type {\n        vertical-align: middle;\n    }\n\n    .dataframe tbody tr th {\n        vertical-align: top;\n    }\n\n    .dataframe thead th {\n        text-align: right;\n    }\n</style>\n<table border=\"1\" class=\"dataframe\">\n  <thead>\n    <tr style=\"text-align: right;\">\n      <th></th>\n      <th>State</th>\n      <th>Population</th>\n      <th>Area</th>\n      <th>Children</th>\n      <th>Age</th>\n      <th>Income</th>\n      <th>Marital</th>\n      <th>Gender</th>\n      <th>Churn</th>\n      <th>Outage_sec_perweek</th>\n      <th>...</th>\n      <th>MonthlyCharge</th>\n      <th>Bandwidth_GB_Year</th>\n      <th>Timeliness</th>\n      <th>Fixes</th>\n      <th>Replacements</th>\n      <th>Reliability</th>\n      <th>Options</th>\n      <th>Respectfulness</th>\n      <th>Courteous</th>\n      <th>Listening</th>\n    </tr>\n  </thead>\n  <tbody>\n    <tr>\n      <th>0</th>\n      <td>AK</td>\n      <td>38</td>\n      <td>Urban</td>\n      <td>0</td>\n      <td>68</td>\n      <td>28561.99</td>\n      <td>Widowed</td>\n      <td>Male</td>\n      <td>0</td>\n      <td>7.978323</td>\n      <td>...</td>\n      <td>172.455519</td>\n      <td>904.536110</td>\n      <td>5</td>\n      <td>5</td>\n      <td>5</td>\n      <td>3</td>\n      <td>4</td>\n      <td>4</td>\n      <td>3</td>\n      <td>4</td>\n    </tr>\n    <tr>\n      <th>1</th>\n      <td>MI</td>\n      <td>10446</td>\n      <td>Urban</td>\n      <td>1</td>\n      <td>27</td>\n      <td>21704.77</td>\n      <td>Married</td>\n      <td>Female</td>\n      <td>1</td>\n      <td>11.699080</td>\n      <td>...</td>\n      <td>242.632554</td>\n      <td>800.982766</td>\n      <td>3</td>\n      <td>4</td>\n      <td>3</td>\n      <td>3</td>\n      <td>4</td>\n      <td>3</td>\n      <td>4</td>\n      <td>4</td>\n    </tr>\n    <tr>\n      <th>2</th>\n      <td>OR</td>\n      <td>3735</td>\n      <td>Urban</td>\n      <td>4</td>\n      <td>50</td>\n      <td>9609.57</td>\n      <td>Widowed</td>\n      <td>Female</td>\n      <td>0</td>\n      <td>10.752800</td>\n      <td>...</td>\n      <td>159.947583</td>\n      <td>2054.706961</td>\n      <td>4</td>\n      <td>4</td>\n      <td>2</td>\n      <td>4</td>\n      <td>4</td>\n      <td>3</td>\n      <td>3</td>\n      <td>3</td>\n    </tr>\n    <tr>\n      <th>3</th>\n      <td>CA</td>\n      <td>13863</td>\n      <td>Suburban</td>\n      <td>1</td>\n      <td>48</td>\n      <td>18925.23</td>\n      <td>Married</td>\n      <td>Male</td>\n      <td>0</td>\n      <td>14.913540</td>\n      <td>...</td>\n      <td>119.956840</td>\n      <td>2164.579412</td>\n      <td>4</td>\n      <td>4</td>\n      <td>4</td>\n      <td>2</td>\n      <td>5</td>\n      <td>4</td>\n      <td>3</td>\n      <td>3</td>\n    </tr>\n    <tr>\n      <th>4</th>\n      <td>TX</td>\n      <td>11352</td>\n      <td>Suburban</td>\n      <td>0</td>\n      <td>83</td>\n      <td>40074.19</td>\n      <td>Separated</td>\n      <td>Male</td>\n      <td>1</td>\n      <td>8.147417</td>\n      <td>...</td>\n      <td>149.948316</td>\n      <td>271.493436</td>\n      <td>4</td>\n      <td>4</td>\n      <td>4</td>\n      <td>3</td>\n      <td>4</td>\n      <td>4</td>\n      <td>4</td>\n      <td>5</td>\n    </tr>\n  </tbody>\n</table>\n<p>5 rows × 39 columns</p>\n</div>"
     },
     "execution_count": 24,
     "metadata": {},
     "output_type": "execute_result"
    }
   ],
   "source": [
    "#apply autocleaner function from helper file\n",
    "ch.churnauotclean(df)\n",
    "df.head()"
   ],
   "metadata": {
    "collapsed": false,
    "pycharm": {
     "name": "#%%\n"
    }
   }
  },
  {
   "cell_type": "markdown",
   "source": [
    "## Part III: Data Preparation\n",
    "\n",
    "### C.  Perform data preparation for the chosen dataset by doing the following\n",
    "\n",
    "1. Describe one data preprocessing goal relevant to the clustering technique from part A1.\n",
    "\n",
    "This work will include 2 similar models: A full model of all continuous variables, and a reduced dataset using the statistically significant variables from the linear regression model used in previous analysis.\n",
    "\n",
    "Since K-means clustering & PCA can only accurately work with continuous data, subsettng the datasets will be necessary. After subsetting the data, the data will be scaled using the RobustScaler to account for outliers. Robust Scaler is more appropriate than min-max scaler because it is less sensitive to outliers which are common in this dataset.\n",
    "\n",
    "3. Identify the initial dataset variables that you will use to perform the analysis for the clustering question from part A1, and label each as continuous or categorical."
   ],
   "metadata": {
    "collapsed": false,
    "pycharm": {
     "name": "#%% md\n"
    }
   },
   "outputs": []
  },
  {
   "cell_type": "code",
   "execution_count": null,
   "outputs": [],
   "source": [
    "continuous_vars = ['Age','Income','Outage_sec_perweek','Email','Contacts','Yearly_equip_failure','MonthlyCharge','Bandwidth_GB_Year','Tenure']\n",
    "stat_sig_vars = ['Age', 'MonthlyCharge', 'Bandwidth_GB_Year']"
   ],
   "metadata": {
    "collapsed": false,
    "pycharm": {
     "name": "#%%\n"
    }
   }
  },
  {
   "cell_type": "markdown",
   "source": [
    "5. Explain each of the steps used to prepare the data for the analysis. Identify the code segment for each step.\n"
   ],
   "metadata": {
    "collapsed": false,
    "pycharm": {
     "name": "#%% md\n"
    }
   },
   "outputs": []
  },
  {
   "cell_type": "code",
   "execution_count": null,
   "outputs": [],
   "source": [
    "df_cont = df[continuous_vars]\n",
    "df_cont.head()"
   ],
   "metadata": {
    "collapsed": false,
    "pycharm": {
     "name": "#%%\n"
    }
   }
  },
  {
   "cell_type": "code",
   "execution_count": null,
   "outputs": [],
   "source": [],
   "metadata": {
    "collapsed": false,
    "pycharm": {
     "name": "#%%\n"
    }
   }
  },
  {
   "cell_type": "markdown",
   "source": [
    "6. Provide a copy of the cleaned dataset.\n",
    "\n"
   ],
   "metadata": {
    "collapsed": false,
    "pycharm": {
     "name": "#%% md\n"
    }
   }
  },
  {
   "cell_type": "markdown",
   "source": [
    "## Part IV: Analysis\n",
    "\n",
    "### D.  Perform the data analysis and report on the results by doing the following:\n",
    "\n",
    "1.  Describe the analysis technique you used to appropriately analyze the data. Include screenshots of the intermediate calculations you performed.\n"
   ],
   "metadata": {
    "collapsed": false,
    "pycharm": {
     "name": "#%% md\n"
    }
   },
   "outputs": []
  },
  {
   "cell_type": "code",
   "execution_count": 26,
   "outputs": [
    {
     "data": {
      "text/plain": "        Age    Income  Outage_sec_perweek  Email  Contacts  \\\n0  0.416667 -0.135462           -0.516350  -0.50      -0.5   \n1 -0.722222 -0.337018            0.425311   0.00      -0.5   \n2 -0.083333 -0.692535            0.185824  -0.75      -0.5   \n3 -0.138889 -0.418717            1.238837   0.75       0.5   \n4  0.833333  0.202919           -0.473555   1.00       0.5   \n\n   Yearly_equip_failure  MonthlyCharge  Bandwidth_GB_Year    Tenure  \n0                   1.0       0.081817          -0.546019 -0.534613  \n1                   1.0       1.236890          -0.569826 -0.639889  \n2                   1.0      -0.124057          -0.281591 -0.367356  \n3                   0.0      -0.782281          -0.256331 -0.342468  \n4                   1.0      -0.288639          -0.691557 -0.630288  ",
      "text/html": "<div>\n<style scoped>\n    .dataframe tbody tr th:only-of-type {\n        vertical-align: middle;\n    }\n\n    .dataframe tbody tr th {\n        vertical-align: top;\n    }\n\n    .dataframe thead th {\n        text-align: right;\n    }\n</style>\n<table border=\"1\" class=\"dataframe\">\n  <thead>\n    <tr style=\"text-align: right;\">\n      <th></th>\n      <th>Age</th>\n      <th>Income</th>\n      <th>Outage_sec_perweek</th>\n      <th>Email</th>\n      <th>Contacts</th>\n      <th>Yearly_equip_failure</th>\n      <th>MonthlyCharge</th>\n      <th>Bandwidth_GB_Year</th>\n      <th>Tenure</th>\n    </tr>\n  </thead>\n  <tbody>\n    <tr>\n      <th>0</th>\n      <td>0.416667</td>\n      <td>-0.135462</td>\n      <td>-0.516350</td>\n      <td>-0.50</td>\n      <td>-0.5</td>\n      <td>1.0</td>\n      <td>0.081817</td>\n      <td>-0.546019</td>\n      <td>-0.534613</td>\n    </tr>\n    <tr>\n      <th>1</th>\n      <td>-0.722222</td>\n      <td>-0.337018</td>\n      <td>0.425311</td>\n      <td>0.00</td>\n      <td>-0.5</td>\n      <td>1.0</td>\n      <td>1.236890</td>\n      <td>-0.569826</td>\n      <td>-0.639889</td>\n    </tr>\n    <tr>\n      <th>2</th>\n      <td>-0.083333</td>\n      <td>-0.692535</td>\n      <td>0.185824</td>\n      <td>-0.75</td>\n      <td>-0.5</td>\n      <td>1.0</td>\n      <td>-0.124057</td>\n      <td>-0.281591</td>\n      <td>-0.367356</td>\n    </tr>\n    <tr>\n      <th>3</th>\n      <td>-0.138889</td>\n      <td>-0.418717</td>\n      <td>1.238837</td>\n      <td>0.75</td>\n      <td>0.5</td>\n      <td>0.0</td>\n      <td>-0.782281</td>\n      <td>-0.256331</td>\n      <td>-0.342468</td>\n    </tr>\n    <tr>\n      <th>4</th>\n      <td>0.833333</td>\n      <td>0.202919</td>\n      <td>-0.473555</td>\n      <td>1.00</td>\n      <td>0.5</td>\n      <td>1.0</td>\n      <td>-0.288639</td>\n      <td>-0.691557</td>\n      <td>-0.630288</td>\n    </tr>\n  </tbody>\n</table>\n</div>"
     },
     "execution_count": 26,
     "metadata": {},
     "output_type": "execute_result"
    }
   ],
   "source": [
    "# scaling data\n",
    "scaler = RobustScaler()\n",
    "\n",
    "# copy as to not modify data on accident\n",
    "df_scaled = df_cont.copy()\n",
    "\n",
    "df_scaled = scaler.fit_transform(df_scaled)\n",
    "\n",
    "df_scaled = pd.DataFrame(df_scaled, columns=df_cont.columns)\n",
    "\n",
    "df_scaled.head()"
   ],
   "metadata": {
    "collapsed": false,
    "pycharm": {
     "name": "#%%\n"
    }
   }
  },
  {
   "cell_type": "code",
   "execution_count": 27,
   "outputs": [
    {
     "data": {
      "text/plain": "        Age  MonthlyCharge  Bandwidth_GB_Year\n0  0.416667       0.081817          -0.546019\n1 -0.722222       1.236890          -0.569826\n2 -0.083333      -0.124057          -0.281591\n3 -0.138889      -0.782281          -0.256331\n4  0.833333      -0.288639          -0.691557",
      "text/html": "<div>\n<style scoped>\n    .dataframe tbody tr th:only-of-type {\n        vertical-align: middle;\n    }\n\n    .dataframe tbody tr th {\n        vertical-align: top;\n    }\n\n    .dataframe thead th {\n        text-align: right;\n    }\n</style>\n<table border=\"1\" class=\"dataframe\">\n  <thead>\n    <tr style=\"text-align: right;\">\n      <th></th>\n      <th>Age</th>\n      <th>MonthlyCharge</th>\n      <th>Bandwidth_GB_Year</th>\n    </tr>\n  </thead>\n  <tbody>\n    <tr>\n      <th>0</th>\n      <td>0.416667</td>\n      <td>0.081817</td>\n      <td>-0.546019</td>\n    </tr>\n    <tr>\n      <th>1</th>\n      <td>-0.722222</td>\n      <td>1.236890</td>\n      <td>-0.569826</td>\n    </tr>\n    <tr>\n      <th>2</th>\n      <td>-0.083333</td>\n      <td>-0.124057</td>\n      <td>-0.281591</td>\n    </tr>\n    <tr>\n      <th>3</th>\n      <td>-0.138889</td>\n      <td>-0.782281</td>\n      <td>-0.256331</td>\n    </tr>\n    <tr>\n      <th>4</th>\n      <td>0.833333</td>\n      <td>-0.288639</td>\n      <td>-0.691557</td>\n    </tr>\n  </tbody>\n</table>\n</div>"
     },
     "execution_count": 27,
     "metadata": {},
     "output_type": "execute_result"
    }
   ],
   "source": [
    "# reduce dataset with statistically significant variables from linear regression\n",
    "df_scaled_reduced = df_scaled[stat_sig_vars]\n",
    "df_scaled_reduced.head()"
   ],
   "metadata": {
    "collapsed": false,
    "pycharm": {
     "name": "#%%\n"
    }
   }
  },
  {
   "cell_type": "markdown",
   "source": [
    "2.  Provide the code used to perform the clustering analysis technique from part 2.\n",
    "\n"
   ],
   "metadata": {
    "collapsed": false,
    "pycharm": {
     "name": "#%% md\n"
    }
   }
  },
  {
   "cell_type": "code",
   "execution_count": 28,
   "outputs": [],
   "source": [
    "# k-means clustering, function developed as part of WGU DMDA Udacity Nano-Degree program\n",
    "def get_kmeans_score(data, center):\n",
    "    '''\n",
    "    returns the kmeans score regarding SSE for points to centers\n",
    "    INPUT:\n",
    "        data - the dataset you want to fit kmeans to\n",
    "        center - the number of centers you want (the k value)\n",
    "    OUTPUT:\n",
    "        score - the SSE score for the kmeans model fit to the data\n",
    "    '''\n",
    "    #instantiate kmeans\n",
    "    kmeans = KMeans(n_clusters=center)\n",
    "\n",
    "    # Then fit the model to your data using the fit method\n",
    "    model = kmeans.fit(data)\n",
    "\n",
    "    # Obtain a score related to the model fit\n",
    "    score = np.abs(model.score(data))\n",
    "\n",
    "    return score"
   ],
   "metadata": {
    "collapsed": false,
    "pycharm": {
     "name": "#%%\n"
    }
   }
  },
  {
   "cell_type": "code",
   "execution_count": 28,
   "outputs": [],
   "source": [],
   "metadata": {
    "collapsed": false,
    "pycharm": {
     "name": "#%%\n"
    }
   }
  },
  {
   "cell_type": "code",
   "execution_count": 29,
   "outputs": [
    {
     "name": "stdout",
     "output_type": "stream",
     "text": [
      "8.26 s ± 222 ms per loop (mean ± std. dev. of 7 runs, 1 loop each)\n"
     ]
    }
   ],
   "source": [
    "%%timeit\n",
    "# Investigate the change in within-cluster distance across number of clusters.\n",
    "\n",
    "scores = []\n",
    "centers = list(range(1,20))\n",
    "\n",
    "for center in centers:\n",
    "    scores.append(get_kmeans_score(df_scaled, center))"
   ],
   "metadata": {
    "collapsed": false,
    "pycharm": {
     "name": "#%%timeit\n"
    }
   }
  },
  {
   "cell_type": "code",
   "execution_count": 30,
   "outputs": [
    {
     "data": {
      "text/plain": "Text(0.5, 1.0, 'SSE vs. K')"
     },
     "execution_count": 30,
     "metadata": {},
     "output_type": "execute_result"
    },
    {
     "data": {
      "text/plain": "<Figure size 432x288 with 1 Axes>",
      "image/png": "[encoded data removed]"
     },
     "metadata": {},
     "output_type": "display_data"
    }
   ],
   "source": [
    "plt.plot(centers, scores, linestyle='--', marker='o', color='b');\n",
    "plt.xlabel('K');\n",
    "plt.ylabel('SSE');\n",
    "plt.title('SSE vs. K')"
   ],
   "metadata": {
    "collapsed": false,
    "pycharm": {
     "name": "#%%\n"
    }
   }
  },
  {
   "cell_type": "code",
   "execution_count": 30,
   "outputs": [],
   "source": [],
   "metadata": {
    "collapsed": false,
    "pycharm": {
     "name": "#%%\n"
    }
   }
  },
  {
   "cell_type": "code",
   "execution_count": 31,
   "outputs": [
    {
     "name": "stdout",
     "output_type": "stream",
     "text": [
      "5.99 s ± 150 ms per loop (mean ± std. dev. of 7 runs, 1 loop each)\n"
     ]
    }
   ],
   "source": [
    "%%timeit\n",
    "# Investigate the change in within-cluster distance across number of clusters.\n",
    "\n",
    "red_scores = []\n",
    "centers = list(range(1,20))\n",
    "\n",
    "for center in centers:\n",
    "    red_scores.append(get_kmeans_score(df_scaled_reduced, center))"
   ],
   "metadata": {
    "collapsed": false,
    "pycharm": {
     "name": "#%%timeit\n"
    }
   }
  },
  {
   "cell_type": "code",
   "execution_count": 32,
   "outputs": [
    {
     "data": {
      "text/plain": "Text(0.5, 1.0, 'SSE vs. K')"
     },
     "execution_count": 32,
     "metadata": {},
     "output_type": "execute_result"
    },
    {
     "data": {
      "text/plain": "<Figure size 432x288 with 1 Axes>",
      "image/png": "[encoded data removed]"
     },
     "metadata": {},
     "output_type": "display_data"
    }
   ],
   "source": [
    "plt.plot(centers, red_scores, linestyle='--', marker='o', color='r');\n",
    "plt.xlabel('K');\n",
    "plt.ylabel('SSE');\n",
    "plt.title('SSE vs. K')\n"
   ],
   "metadata": {
    "collapsed": false,
    "pycharm": {
     "name": "#%%\n"
    }
   }
  },
  {
   "cell_type": "code",
   "execution_count": 34,
   "outputs": [
    {
     "data": {
      "text/plain": "Text(0.5, 1.0, 'SSE vs. K')"
     },
     "execution_count": 34,
     "metadata": {},
     "output_type": "execute_result"
    },
    {
     "data": {
      "text/plain": "<Figure size 432x288 with 1 Axes>",
      "image/png": "[encoded data removed]"
     },
     "metadata": {},
     "output_type": "display_data"
    }
   ],
   "source": [
    "plt.style.use(\"fivethirtyeight\")\n",
    "plt.plot(centers, scores, linestyle='--', marker='o', color='b');\n",
    "plt.plot(centers, red_scores, linestyle='--', marker='o', color='r');\n",
    "plt.xlabel('K');\n",
    "plt.ylabel('SSE');\n",
    "plt.title('SSE vs. K')"
   ],
   "metadata": {
    "collapsed": false,
    "pycharm": {
     "name": "#%%\n"
    }
   }
  },
  {
   "cell_type": "markdown",
   "source": [
    "Both models show a similar trend in SSE vs. K, with a sharp drop in SSE from 1 to 2 clusters, and a more gradual drop from 2 to 3 clusters. 3 clusters seems to be the optimal number of clusters for both models as 2 clusters would not be enough clusters to provide meaningful insights, and 4 clusters would not provide any additional insights. The number of features selected for the full and reduced model are small and time is neglible for both models. If the reduced model and the full model provide similar clusters assignments, the reduced model will be used for the remainder of the analysis and as the go foward customer segmentation model."
   ],
   "metadata": {
    "collapsed": false,
    "pycharm": {
     "name": "#%% md\n"
    }
   }
  },
  {
   "cell_type": "code",
   "execution_count": 37,
   "outputs": [
    {
     "data": {
      "text/plain": "(0.07646855948959944, 0.2728761713982414)"
     },
     "execution_count": 37,
     "metadata": {},
     "output_type": "execute_result"
    }
   ],
   "source": [
    "#instantiating kmeans with 3 clusters\n",
    "\n",
    "kmeans = KMeans(n_clusters=3)\n",
    "fullmodel = kmeans.fit(df_scaled)\n",
    "reducedmodel = kmeans.fit(df_scaled_reduced)\n",
    "\n",
    "metrics.silhouette_score(df_scaled, fullmodel.labels_), metrics.silhouette_score(df_scaled_reduced, reducedmodel.labels_)"
   ],
   "metadata": {
    "collapsed": false,
    "pycharm": {
     "name": "#%%\n"
    }
   }
  },
  {
   "cell_type": "markdown",
   "source": [
    "## Part V: Data Summary and Implications\n",
    "\n",
    "### E.  Summarize your data analysis by doing the following:\n",
    "\n",
    "1. Explain the accuracy of your clustering technique.\n",
    "\n",
    "Unsupervised learning does not have a target variable to compare against, so there is no way to determine the accuracy of the model. However, we can use the silhouette score to determine how well the model is performing. The silhouette score is a measure of how similar an object is to its own cluster compared to other clusters. The silhouette score ranges from -1 to 1, with 1 being the best score. The silhouette score for this model is 0.07 and 0.27 for the respective full and reduced models. These scores indicate that clusters have overlapping values. The reduced model has less overlap and a lower sum of squared error at the elbow of 3 clusters.\n",
    "\n",
    "3. Discuss the results and implications of your clustering analysis.\n",
    "\n",
    "This data with low silhouette score on full and reduced models indicates that the clusters are not well defined. Kmeans may not be a good approach to gather further insight into customer segmentation with this dataset.\n",
    "\n",
    "5. Discuss one limitation of your data analysis.\n",
    "\n",
    "A major limitation in this dataset is that many continous variables such as income are self reported by theend user customer. The issues with this have been extensively covered in previous analysis\n",
    "\n",
    "7. Recommend a course of action for the real-world organizational situation from part A1 based on your results and implications discussed in part E2.\n",
    "\n",
    "This model could be rerean with a different seed or with a different clustering algorithm to see if the results are different. If the results are similar than customer segmentation for this dataset would need more features collected to potentially find meaninningful clusters.\n"
   ],
   "metadata": {
    "collapsed": false,
    "pycharm": {
     "name": "#%% md\n"
    }
   }
  }
 ],
 "metadata": {
  "kernelspec": {
   "display_name": "Python 3",
   "language": "python",
   "name": "python3"
  },
  "language_info": {
   "codemirror_mode": {
    "name": "ipython",
    "version": 2
   },
   "file_extension": ".py",
   "mimetype": "text/x-python",
   "name": "python",
   "nbconvert_exporter": "python",
   "pygments_lexer": "ipython2",
   "version": "2.7.6"
  }
 },
 "nbformat": 4,
 "nbformat_minor": 0
}