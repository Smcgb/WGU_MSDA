{
 "cells": [
  {
   "cell_type": "markdown",
   "metadata": {
    "pycharm": {
     "name": "#%% md\n"
    }
   },
   "source": [
    "# D206\n",
    "\n",
    "## Introduction\n",
    "\n",
    "In the telecommunications industry, customers can choose from multiple service providers\n",
    "and actively switch from one provider to another. Customer “churn” is defined as the\n",
    "percentage of customers who stopped using a provider’s product or service during a certain\n",
    "time frame. In this highly competitive market, some telecommunications industries can\n",
    "experience average annual churn rates as high as 25 percent. Given that it costs 10 times\n",
    "more to acquire a new customer than to retain an existing one, customer retention has now\n",
    "become even more important than customer acquisition.\n",
    "For many providers, retaining highly profitable customers is the number one business goal.\n",
    "To reduce customer churn, telecommunications companies need to predict which customers\n",
    "are at high risk of churn.\n",
    "You are an analyst on a team of analysts in a popular telecommunications company, which\n",
    "serves customers in all regions of the United States. You have been asked to clean the raw\n",
    "data set in preparation to explore the data, identify trends, and compare key metrics.\n"
   ]
  },
  {
   "cell_type": "code",
   "execution_count": 1,
   "metadata": {
    "collapsed": false,
    "jupyter": {
     "outputs_hidden": false
    },
    "pycharm": {
     "name": "#%%\n"
    }
   },
   "outputs": [],
   "source": [
    "# Import Libraries and magic words\n",
    "\n",
    "import pandas as pd\n",
    "import numpy as np\n",
    "\n",
    "\n",
    "import os\n",
    "import matplotlib.pyplot as plt\n",
    "import seaborn as sns\n",
    "from sklearn.preprocessing import OneHotEncoder\n",
    "from helper import *\n",
    "%matplotlib inline\n",
    "import random\n",
    "import warnings\n",
    "\n",
    "warnings.filterwarnings('ignore')"
   ]
  },
  {
   "cell_type": "code",
   "execution_count": 2,
   "metadata": {
    "collapsed": false,
    "jupyter": {
     "outputs_hidden": false
    },
    "pycharm": {
     "name": "#%%\n"
    }
   },
   "outputs": [],
   "source": [
    "# Setting some options\n",
    "pd.set_option('display.max_columns', None) #this ensures dataframes are not truncated\n",
    "warnings.filterwarnings(\"ignore\", category = UserWarning, module = \"matplotlib\") #This notebook shouldn't take enough memory to need matplotlib warnings"
   ]
  },
  {
   "cell_type": "code",
   "execution_count": 3,
   "metadata": {
    "collapsed": false,
    "jupyter": {
     "outputs_hidden": false
    },
    "pycharm": {
     "name": "#%%\n"
    }
   },
   "outputs": [
    {
     "data": {
      "text/plain": [
       "['churn_clean.csv',\n",
       " 'churn_raw_data.csv',\n",
       " 'Churn_scaled_data.csv',\n",
       " 'D206 Data Cleaning_Churn Data Consideration and Dictionary.pdf',\n",
       " 'helper.py',\n",
       " 'read.me',\n",
       " 'WGUd206.html',\n",
       " 'WGUd206.ipynb',\n",
       " 'WGUd206.pdf',\n",
       " '__pycache__']"
      ]
     },
     "execution_count": 3,
     "metadata": {},
     "output_type": "execute_result"
    }
   ],
   "source": [
    "os.listdir()"
   ]
  },
  {
   "cell_type": "markdown",
   "metadata": {
    "pycharm": {
     "name": "#%% md\n"
    }
   },
   "source": [
    "## Part I: Research Question"
   ]
  },
  {
   "cell_type": "markdown",
   "metadata": {
    "pycharm": {
     "name": "#%% md\n"
    }
   },
   "source": [
    "### A.  Describe one question or decision that you will address using the data set you chose. The summarized question or decision must be relevant to a realistic organizational need or situation.\n",
    "\n",
    "<p>A dataset was provided from a US telecom provider to begin building insights into their customer base. Understanding what features contribute most toward knowledge in the dataset is essential in order to build models and make recommendations. This will help preprare for the subsequent reserach question: \"Which customers are ,more liekly to churn?\". </p>\n"
   ]
  },
  {
   "cell_type": "markdown",
   "metadata": {
    "pycharm": {
     "name": "#%% md\n"
    }
   },
   "source": [
    "### B.  Describe the variables in the data set and indicate the specific type of data being described. Use examples from the data set that support your claims.\n"
   ]
  },
  {
   "cell_type": "markdown",
   "metadata": {
    "pycharm": {
     "name": "#%% md\n"
    }
   },
   "source": [
    "The dataset provided is 10,000 observations by 50 features. The dataset came with a data dictionary which is attached. For this analysis, all categorical, binary and numerical data not corresponding to location was used. This means the only features removed are as follows:\n",
    "\n",
    "| Variable    | Type        | Description                                                                |\n",
    "|-------------|-------------|----------------------------------------------------------------------------|\n",
    "| CaseOrder   | Categorical | A placeholder variable to preserve the original order of the raw data file  |\n",
    "| Customer_id | Categorical | Unique customer ID                                                         |\n",
    "| Interaction | Categorical | Unique IDs related to customer transactions, technical support, and sign-ups|\n",
    "| City        | Categorical | Customer city of residence as listed on the billing statement              |\n",
    "| State       | Categorical | Customer state of residence as listed on the billing statement             |\n",
    "| County      | Categorical | Customer county of residence as listed on the billing statement            |\n",
    "| Zip         | Categorical | Customer zip code of residence as listed on the billing statement          |\n",
    "| Lat         | Categorical | Latitude coordinate of customer residence as listed on the billing statement|\n",
    "| Lng         | Categorical | Longitude coordinate of customer residence as listed on the billing statement|\n",
    "| Area        | Categorical | Area type (rural, urban, suburban), based on census data                   |"
   ]
  },
  {
   "cell_type": "markdown",
   "metadata": {
    "pycharm": {
     "name": "#%% md\n"
    }
   },
   "source": [
    "The following items in the dataset are categorical features included in the dataset\n",
    "\n",
    "| Variable           | Type        | Description                                                                                           |\n",
    "|--------------------|-------------|-------------------------------------------------------------------------------------------------------|\n",
    "| TimeZone           | Categorical | Time zone of customer residence based on customer’s sign-up information                               |\n",
    "| Job                | Categorical | Job of the customer (or invoiced person) as reported in sign-up information                           |\n",
    "| Education          | Categorical | Highest degree earned by customer as reported in sign-up information                                  |\n",
    "| Employment         | Categorical | Employment status of customer as reported in sign-up information                                      |\n",
    "| Marital            | Categorical | Marital status of customer as reported in sign-up information                                         |\n",
    "| Gender             | Categorical | Customer self-identification as male, female, or nonbinary                                            |\n",
    "| Churn              | Categorical | Whether the customer discontinued service within the last month (yes, no)                             |\n",
    "| Techie             | Categorical | Whether the customer considers themselves technically inclined (based on customer questionnaire) (yes, no)|\n",
    "| Contract           | Categorical | The contract term of the customer (month-to-month, one year, two year)                                |\n",
    "| Port_modem         | Categorical | Whether the customer has a portable modem (yes, no)                                                   |\n",
    "| Tablet             | Categorical | Whether the customer owns a tablet such as iPad, Surface, etc. (yes, no)                              |\n",
    "| InternetService    | Categorical | Customer’s internet service provider (DSL, fiber optic, None)                                         |\n",
    "| Phone              | Categorical | Whether the customer has a phone service (yes, no)                                                    |\n",
    "| Multiple           | Categorical | Whether the customer has multiple lines (yes, no)                                                     |\n",
    "| OnlineSecurity     | Categorical | Whether the customer has an online security add-on (yes, no)                                          |\n",
    "| OnlineBackup       | Categorical | Whether the customer has an online backup add-on (yes, no)                                            |\n",
    "| DeviceProtection   | Categorical | Whether the customer has device protection add-on (yes, no)                                           |\n",
    "| TechSupport        | Categorical | Whether the customer has a technical support add-on (yes, no)                                         |\n",
    "| StreamingTV        | Categorical | Whether the customer has streaming TV (yes, no)                                                       |\n",
    "| StreamingMovies    | Categorical | Whether the customer has streaming movies (yes, no)                                                   |\n",
    "| PaperlessBilling   | Categorical | Whether the customer has paperless billing (yes, no)                                                  |\n",
    "| PaymentMethod      | Categorical | The customer’s payment method (electronic check, mailed check, bank (automatic transfer), credit card (automatic)) |"
   ]
  },
  {
   "cell_type": "markdown",
   "metadata": {
    "pycharm": {
     "name": "#%% md\n"
    }
   },
   "source": [
    "<p>The following variables represent response to an eight-question survey asking customers to rate the importance of various factors/surfaces on a scale of 1 to 8 (1 = most important, 8 = least important)\n",
    "•\tItem1 (categorical): Timely response\n",
    "•\tItem2 (categorical): Timely fixes\n",
    "•\tItem3 (categorical): Timely replacements\n",
    "•\tItem4 (categorical): Reliability\n",
    "•\tItem5 (categorical): Options\n",
    "•\tItem6 (categorical): Respectful response\n",
    "•\tItem7 (categorical): Courteous exchange\n",
    "•\tItem8 (categorical): Evidence of active listening </p>\n",
    "\n",
    "\n"
   ]
  },
  {
   "cell_type": "markdown",
   "metadata": {
    "pycharm": {
     "name": "#%% md\n"
    }
   },
   "source": [
    "The following features were used to weigh principal components in the analysis:\n",
    "\n",
    "| Variable              | Type    | Description                                                                                               |\n",
    "|-----------------------|---------|-----------------------------------------------------------------------------------------------------------|\n",
    "| Population            | Numeric | Population within a mile radius of customer, based on census data                                         |\n",
    "| Children              | Numeric | Number of children in customer’s household as reported in sign-up information                             |\n",
    "| Age                   | Numeric | Age of customer as reported in sign-up information                                                        |\n",
    "| Income                | Numeric | Annual income of customer as reported at time of sign-up                                                  |\n",
    "| Outage_sec_perweek    | Numeric | Average number of seconds per week of system outages in the customer’s neighborhood                       |\n",
    "| Email                 | Numeric | Number of emails sent to the customer in the last year (marketing or correspondence)                      |\n",
    "| Contacts              | Numeric | Number of times customer contacted technical support                                                      |\n",
    "| Yearly_equip_failure  | Numeric | The number of times customer’s equipment failed and had to be reset/replaced in the past year              |\n",
    "| Tenure                | Numeric | Number of months the customer has stayed with the provider                                                |\n",
    "| MonthlyCharge         | Numeric | The amount charged to the customer monthly. This value reflects an average per customer.                  |\n",
    "| Bandwidth_GB_Year     | Numeric | The average amount of data used, in GB, in a year by the customer                                         |\n"
   ]
  },
  {
   "cell_type": "markdown",
   "metadata": {
    "pycharm": {
     "name": "#%% md\n"
    }
   },
   "source": []
  },
  {
   "cell_type": "markdown",
   "metadata": {
    "pycharm": {
     "name": "#%% md\n"
    }
   },
   "source": [
    "## Part II: Data-Cleaning Plan"
   ]
  },
  {
   "cell_type": "markdown",
   "metadata": {
    "pycharm": {
     "name": "#%% md\n"
    }
   },
   "source": [
    "### C.  Explain the plan for cleaning the data by doing the following:\n"
   ]
  },
  {
   "cell_type": "markdown",
   "metadata": {
    "pycharm": {
     "name": "#%% md\n"
    }
   },
   "source": [
    "#### 1.  Propose a plan that includes the relevant techniques and specific steps needed to identify anomalies in the data set.\n"
   ]
  },
  {
   "cell_type": "markdown",
   "metadata": {
    "pycharm": {
     "name": "#%% md\n"
    }
   },
   "source": [
    "Phase 1 - Data Assessment\n",
    "\n",
    "Using common Python libraries for descriptive statistics and visualization, data will be assessed for:\n",
    "\n",
    "1. **Appropriate Typing:**\n",
    "   - Using Pandas `info()` method will show feature typing.\n",
    "\n",
    "2. **Missing Values:**\n",
    "   - Using Pandas `info()` method, an overview of the original file’s columns will be displayed with the count of observations for each feature.\n",
    "\n",
    "3. **Duplicate Values:**\n",
    "   - Using the Pandas `duplicated()` method, a sum of identical rows will be documented.\n",
    "\n",
    "4. **Numerical Distribution:**\n",
    "   - Using Matplotlib histograms and box-and-whisker plots, unclean data will be visualized.\n",
    "\n",
    "5. **Categorical Accuracy:**\n",
    "   - Assessment of categorical column inputs will be conducted to determine if updates are necessary. It will also include recommendations for encoding items via Scikit-learn's One-Hot Encoding (binary and multivariate) for potential future machine learning use.\n",
    "\n",
    "6. **Outlier Detection:**\n",
    "   - Ensure input values make sense and correct outliers. For example, there should be no negative numbers in this dataset based on the descriptions in the data dictionaries.\n",
    "\n",
    "These are standard data assessment procedures (Yıldırım, 2020).\n",
    "\n",
    "### Phase 2 - Data Cleaning\n",
    "\n",
    "Data will be cleaned using Pandas by:\n",
    "\n",
    "1. **Imputing Missing or Negative Values:**\n",
    "   - Missing values imputation:\n",
    "     - **Numerical data** will be cleaned based on its distribution, explored through descriptive statistics and visualizations.\n",
    "     - For **normal or even distributions**, random sampling from the dataset will be used as a standard practice (Kumar, 2021).\n",
    "     - For **bimodal data**, the median of each mode will be used for imputation to minimize risk and variance (IBM, 2021).\n",
    "     - **Negative values** in time data will be set to 0.\n",
    "     - Note: While K-Nearest Neighbors (KNN) could potentially fill missing data accurately, it will not be used due to the dataset's high dimensionality and large scale differences.\n",
    "\n",
    "2. **Removing Duplicate Rows:**\n",
    "   - Duplicate rows will be dropped.\n",
    "\n",
    "3. **Scaling Data:**\n",
    "   - Data will be scaled using Scikit-Learn's `RobustScaler`.\n",
    "\n",
    "4. **Categorical Accuracy:**\n",
    "   - Assessment of categorical column inputs will be conducted to determine if updates are necessary. It will also include recommendations for encoding items via Scikit-learn's One-Hot Encoding (binary and multivariate)."
   ]
  },
  {
   "cell_type": "markdown",
   "metadata": {
    "pycharm": {
     "name": "#%% md\n"
    }
   },
   "source": [
    "#### 2.  Justify your approach for assessing the quality of the data, include:\n",
    "\n",
    "##### The characteristics of the data being assessed:\n",
    "\n",
    "The dataset has mixed features, often self reported by the customer for categories and some discrete data. For example, income is self reported for the data and therefore correcting for outliers is not possible without another dataset to compare against. Also, categories such as `Techie` and `TechSupport` having missing values speaks to data collection process having major errors from the firm. Every dataset should have direct knowledge on whether a customer has purchased a service or not.\n",
    "\n",
    "##### The approach used to assess the quality:\n",
    "\n",
    "Using graphic visualization via Seaborn as well as descriptive stats via standard Pandas tools is the standard approach for initial exploration."
   ]
  },
  {
   "cell_type": "markdown",
   "metadata": {
    "pycharm": {
     "name": "#%% md\n"
    }
   },
   "source": [
    "#### 3.  Justify your selected programming language and any libraries and packages that will support the data-cleaning process.\n",
    "\n",
    "Python is the most used programming language for analysis computation as of writing this. With its robust package selection, statistics, machine learning and ease of use make it an ideal candidate for this type of analysis work. The JupyterNotebook is a data science and analytics industry standard for human-readable code and experiment reproducibility. Pandas allows working with Dataframes and is the foundational method I use to explore this dataset."
   ]
  },
  {
   "cell_type": "markdown",
   "metadata": {
    "pycharm": {
     "name": "#%% md\n"
    }
   },
   "source": [
    "#### 4.  Provide the code you will use to identify the anomalies in the data.\n",
    "### Initial Exploration\n",
    "\n",
    "This section servers as a playground using different exploratory options to help identify data issues.\n",
    "Not every issue found will have a cell but there will be a documented section below some of the more overarching\n",
    "and larger calls will be displayed below."
   ]
  },
  {
   "cell_type": "code",
   "execution_count": 4,
   "metadata": {
    "collapsed": false,
    "jupyter": {
     "outputs_hidden": false
    },
    "pycharm": {
     "name": "#%%\n"
    }
   },
   "outputs": [],
   "source": [
    "#Read in Dataset\n",
    "raw_churn = pd.read_csv('churn_raw_data.csv')"
   ]
  },
  {
   "cell_type": "code",
   "execution_count": 5,
   "metadata": {
    "collapsed": false,
    "jupyter": {
     "outputs_hidden": false
    },
    "pycharm": {
     "name": "#%%\n"
    }
   },
   "outputs": [
    {
     "data": {
      "text/plain": [
       "(10000, 52)"
      ]
     },
     "execution_count": 5,
     "metadata": {},
     "output_type": "execute_result"
    }
   ],
   "source": [
    "# Dimensions\n",
    "raw_churn.shape"
   ]
  },
  {
   "cell_type": "code",
   "execution_count": 6,
   "metadata": {
    "collapsed": false,
    "jupyter": {
     "outputs_hidden": false
    },
    "pycharm": {
     "name": "#%%\n"
    }
   },
   "outputs": [
    {
     "data": {
      "text/plain": [
       "RangeIndex(start=0, stop=10000, step=1)"
      ]
     },
     "execution_count": 6,
     "metadata": {},
     "output_type": "execute_result"
    }
   ],
   "source": [
    "# Defualt ordering column\n",
    "raw_churn.index"
   ]
  },
  {
   "cell_type": "code",
   "execution_count": 7,
   "metadata": {
    "collapsed": false,
    "jupyter": {
     "outputs_hidden": false
    },
    "pycharm": {
     "name": "#%%\n"
    }
   },
   "outputs": [
    {
     "name": "stdout",
     "output_type": "stream",
     "text": [
      "<class 'pandas.core.frame.DataFrame'>\n",
      "RangeIndex: 10000 entries, 0 to 9999\n",
      "Data columns (total 52 columns):\n",
      " #   Column                Non-Null Count  Dtype  \n",
      "---  ------                --------------  -----  \n",
      " 0   Unnamed: 0            10000 non-null  int64  \n",
      " 1   CaseOrder             10000 non-null  int64  \n",
      " 2   Customer_id           10000 non-null  object \n",
      " 3   Interaction           10000 non-null  object \n",
      " 4   City                  10000 non-null  object \n",
      " 5   State                 10000 non-null  object \n",
      " 6   County                10000 non-null  object \n",
      " 7   Zip                   10000 non-null  int64  \n",
      " 8   Lat                   10000 non-null  float64\n",
      " 9   Lng                   10000 non-null  float64\n",
      " 10  Population            10000 non-null  int64  \n",
      " 11  Area                  10000 non-null  object \n",
      " 12  Timezone              10000 non-null  object \n",
      " 13  Job                   10000 non-null  object \n",
      " 14  Children              7505 non-null   float64\n",
      " 15  Age                   7525 non-null   float64\n",
      " 16  Education             10000 non-null  object \n",
      " 17  Employment            10000 non-null  object \n",
      " 18  Income                7510 non-null   float64\n",
      " 19  Marital               10000 non-null  object \n",
      " 20  Gender                10000 non-null  object \n",
      " 21  Churn                 10000 non-null  object \n",
      " 22  Outage_sec_perweek    10000 non-null  float64\n",
      " 23  Email                 10000 non-null  int64  \n",
      " 24  Contacts              10000 non-null  int64  \n",
      " 25  Yearly_equip_failure  10000 non-null  int64  \n",
      " 26  Techie                7523 non-null   object \n",
      " 27  Contract              10000 non-null  object \n",
      " 28  Port_modem            10000 non-null  object \n",
      " 29  Tablet                10000 non-null  object \n",
      " 30  InternetService       10000 non-null  object \n",
      " 31  Phone                 8974 non-null   object \n",
      " 32  Multiple              10000 non-null  object \n",
      " 33  OnlineSecurity        10000 non-null  object \n",
      " 34  OnlineBackup          10000 non-null  object \n",
      " 35  DeviceProtection      10000 non-null  object \n",
      " 36  TechSupport           9009 non-null   object \n",
      " 37  StreamingTV           10000 non-null  object \n",
      " 38  StreamingMovies       10000 non-null  object \n",
      " 39  PaperlessBilling      10000 non-null  object \n",
      " 40  PaymentMethod         10000 non-null  object \n",
      " 41  Tenure                9069 non-null   float64\n",
      " 42  MonthlyCharge         10000 non-null  float64\n",
      " 43  Bandwidth_GB_Year     8979 non-null   float64\n",
      " 44  item1                 10000 non-null  int64  \n",
      " 45  item2                 10000 non-null  int64  \n",
      " 46  item3                 10000 non-null  int64  \n",
      " 47  item4                 10000 non-null  int64  \n",
      " 48  item5                 10000 non-null  int64  \n",
      " 49  item6                 10000 non-null  int64  \n",
      " 50  item7                 10000 non-null  int64  \n",
      " 51  item8                 10000 non-null  int64  \n",
      "dtypes: float64(9), int64(15), object(28)\n",
      "memory usage: 4.0+ MB\n"
     ]
    }
   ],
   "source": [
    "# Pandas dataset descriptor\n",
    "raw_churn.info() # Note data type anomalies"
   ]
  },
  {
   "cell_type": "markdown",
   "metadata": {
    "pycharm": {
     "name": "#%% md\n"
    }
   },
   "source": [
    "1. Unused empty column\n",
    "2. `CaseOrder` should be index\n",
    "3. `Zip`/`Lat`/`Lang` should be string/panda objects\n",
    "4. Columns missing data: `Children`, `Age`, `Income`, `Techie`, `Phone`, `TechSupport`, `Tenure`, `Bandwidth-GB-Year`\n",
    "5. Survey `item` header is non descript"
   ]
  },
  {
   "cell_type": "code",
   "execution_count": 8,
   "metadata": {
    "collapsed": false,
    "jupyter": {
     "outputs_hidden": false
    },
    "pycharm": {
     "name": "#%%\n"
    }
   },
   "outputs": [
    {
     "name": "stdout",
     "output_type": "stream",
     "text": [
      "        Unnamed: 0    CaseOrder           Zip           Lat           Lng  \\\n",
      "count  10000.00000  10000.00000  10000.000000  10000.000000  10000.000000   \n",
      "mean    5000.50000   5000.50000  49153.319600     38.757567    -90.782536   \n",
      "std     2886.89568   2886.89568  27532.196108      5.437389     15.156142   \n",
      "min        1.00000      1.00000    601.000000     17.966120   -171.688150   \n",
      "25%     2500.75000   2500.75000  26292.500000     35.341828    -97.082812   \n",
      "50%     5000.50000   5000.50000  48869.500000     39.395800    -87.918800   \n",
      "75%     7500.25000   7500.25000  71866.500000     42.106908    -80.088745   \n",
      "max    10000.00000  10000.00000  99929.000000     70.640660    -65.667850   \n",
      "\n",
      "          Population     Children          Age         Income  \\\n",
      "count   10000.000000  7505.000000  7525.000000    7510.000000   \n",
      "mean     9756.562400     2.095936    53.275748   39936.762226   \n",
      "std     14432.698671     2.154758    20.753928   28358.469482   \n",
      "min         0.000000     0.000000    18.000000     740.660000   \n",
      "25%       738.000000     0.000000    35.000000   19285.522500   \n",
      "50%      2910.500000     1.000000    53.000000   33186.785000   \n",
      "75%     13168.000000     3.000000    71.000000   53472.395000   \n",
      "max    111850.000000    10.000000    89.000000  258900.700000   \n",
      "\n",
      "       Outage_sec_perweek         Email      Contacts  Yearly_equip_failure  \\\n",
      "count        10000.000000  10000.000000  10000.000000          10000.000000   \n",
      "mean            11.452955     12.016000      0.994200              0.398000   \n",
      "std              7.025921      3.025898      0.988466              0.635953   \n",
      "min             -1.348571      1.000000      0.000000              0.000000   \n",
      "25%              8.054362     10.000000      0.000000              0.000000   \n",
      "50%             10.202896     12.000000      1.000000              0.000000   \n",
      "75%             12.487644     14.000000      2.000000              1.000000   \n",
      "max             47.049280     23.000000      7.000000              6.000000   \n",
      "\n",
      "            Tenure  MonthlyCharge  Bandwidth_GB_Year         item1  \\\n",
      "count  9069.000000   10000.000000        8979.000000  10000.000000   \n",
      "mean     34.498858     174.076305        3398.842752      3.490800   \n",
      "std      26.438904      43.335473        2187.396807      1.037797   \n",
      "min       1.000259      77.505230         155.506715      1.000000   \n",
      "25%       7.890442     141.071078        1234.110529      3.000000   \n",
      "50%      36.196030     169.915400        3382.424000      3.000000   \n",
      "75%      61.426670     203.777441        5587.096500      4.000000   \n",
      "max      71.999280     315.878600        7158.982000      7.000000   \n",
      "\n",
      "              item2         item3         item4         item5         item6  \\\n",
      "count  10000.000000  10000.000000  10000.000000  10000.000000  10000.000000   \n",
      "mean       3.505100      3.487000      3.497500      3.492900      3.497300   \n",
      "std        1.034641      1.027977      1.025816      1.024819      1.033586   \n",
      "min        1.000000      1.000000      1.000000      1.000000      1.000000   \n",
      "25%        3.000000      3.000000      3.000000      3.000000      3.000000   \n",
      "50%        4.000000      3.000000      3.000000      3.000000      3.000000   \n",
      "75%        4.000000      4.000000      4.000000      4.000000      4.000000   \n",
      "max        7.000000      8.000000      7.000000      7.000000      8.000000   \n",
      "\n",
      "              item7         item8  \n",
      "count  10000.000000  10000.000000  \n",
      "mean       3.509500      3.495600  \n",
      "std        1.028502      1.028633  \n",
      "min        1.000000      1.000000  \n",
      "25%        3.000000      3.000000  \n",
      "50%        4.000000      3.000000  \n",
      "75%        4.000000      4.000000  \n",
      "max        7.000000      8.000000  \n"
     ]
    }
   ],
   "source": [
    "# Descriptive stats to detect data anomalies in numeric columns\n",
    "with pd.option_context('display.max_columns', 40):\n",
    "    print(raw_churn.describe(include = [np.number]))"
   ]
  },
  {
   "cell_type": "markdown",
   "metadata": {
    "pycharm": {
     "name": "#%% md\n"
    }
   },
   "source": [
    "6. `Population` has an area with 0 people.\n",
    "7. `Income` has a min of 740, due to this being self reported and no comparison this analysis cannot accurately asses the validity of and income oddities\n",
    "8. `Outage_sec_perweek` has negative numbers, this does not make sense for time data."
   ]
  },
  {
   "cell_type": "code",
   "execution_count": 9,
   "metadata": {
    "collapsed": false,
    "jupyter": {
     "outputs_hidden": false
    },
    "pycharm": {
     "name": "#%%\n"
    }
   },
   "outputs": [
    {
     "name": "stdout",
     "output_type": "stream",
     "text": [
      "No Duplicates\n"
     ]
    }
   ],
   "source": [
    "#check for duplicates\n",
    "if raw_churn.duplicated().sum() == 0:\n",
    "    print('No Duplicates')"
   ]
  },
  {
   "cell_type": "code",
   "execution_count": 10,
   "metadata": {
    "collapsed": false,
    "jupyter": {
     "outputs_hidden": false
    },
    "pycharm": {
     "name": "#%%\n"
    }
   },
   "outputs": [
    {
     "data": {
      "text/html": [
       "<div>\n",
       "<style scoped>\n",
       "    .dataframe tbody tr th:only-of-type {\n",
       "        vertical-align: middle;\n",
       "    }\n",
       "\n",
       "    .dataframe tbody tr th {\n",
       "        vertical-align: top;\n",
       "    }\n",
       "\n",
       "    .dataframe thead th {\n",
       "        text-align: right;\n",
       "    }\n",
       "</style>\n",
       "<table border=\"1\" class=\"dataframe\">\n",
       "  <thead>\n",
       "    <tr style=\"text-align: right;\">\n",
       "      <th></th>\n",
       "      <th>Unnamed: 0</th>\n",
       "      <th>CaseOrder</th>\n",
       "      <th>Customer_id</th>\n",
       "      <th>Interaction</th>\n",
       "      <th>City</th>\n",
       "      <th>State</th>\n",
       "      <th>County</th>\n",
       "      <th>Zip</th>\n",
       "      <th>Lat</th>\n",
       "      <th>Lng</th>\n",
       "      <th>Population</th>\n",
       "      <th>Area</th>\n",
       "      <th>Timezone</th>\n",
       "      <th>Job</th>\n",
       "      <th>Children</th>\n",
       "      <th>Age</th>\n",
       "      <th>Education</th>\n",
       "      <th>Employment</th>\n",
       "      <th>Income</th>\n",
       "      <th>Marital</th>\n",
       "      <th>Gender</th>\n",
       "      <th>Churn</th>\n",
       "      <th>Outage_sec_perweek</th>\n",
       "      <th>Email</th>\n",
       "      <th>Contacts</th>\n",
       "      <th>Yearly_equip_failure</th>\n",
       "      <th>Techie</th>\n",
       "      <th>Contract</th>\n",
       "      <th>Port_modem</th>\n",
       "      <th>Tablet</th>\n",
       "      <th>InternetService</th>\n",
       "      <th>Phone</th>\n",
       "      <th>Multiple</th>\n",
       "      <th>OnlineSecurity</th>\n",
       "      <th>OnlineBackup</th>\n",
       "      <th>DeviceProtection</th>\n",
       "      <th>TechSupport</th>\n",
       "      <th>StreamingTV</th>\n",
       "      <th>StreamingMovies</th>\n",
       "      <th>PaperlessBilling</th>\n",
       "      <th>PaymentMethod</th>\n",
       "      <th>Tenure</th>\n",
       "      <th>MonthlyCharge</th>\n",
       "      <th>Bandwidth_GB_Year</th>\n",
       "      <th>item1</th>\n",
       "      <th>item2</th>\n",
       "      <th>item3</th>\n",
       "      <th>item4</th>\n",
       "      <th>item5</th>\n",
       "      <th>item6</th>\n",
       "      <th>item7</th>\n",
       "      <th>item8</th>\n",
       "    </tr>\n",
       "  </thead>\n",
       "  <tbody>\n",
       "    <tr>\n",
       "      <th>0</th>\n",
       "      <td>1</td>\n",
       "      <td>1</td>\n",
       "      <td>K409198</td>\n",
       "      <td>aa90260b-4141-4a24-8e36-b04ce1f4f77b</td>\n",
       "      <td>Point Baker</td>\n",
       "      <td>AK</td>\n",
       "      <td>Prince of Wales-Hyder</td>\n",
       "      <td>99927</td>\n",
       "      <td>56.25100</td>\n",
       "      <td>-133.37571</td>\n",
       "      <td>38</td>\n",
       "      <td>Urban</td>\n",
       "      <td>America/Sitka</td>\n",
       "      <td>Environmental health practitioner</td>\n",
       "      <td>NaN</td>\n",
       "      <td>68.0</td>\n",
       "      <td>Master's Degree</td>\n",
       "      <td>Part Time</td>\n",
       "      <td>28561.99</td>\n",
       "      <td>Widowed</td>\n",
       "      <td>Male</td>\n",
       "      <td>No</td>\n",
       "      <td>6.972566</td>\n",
       "      <td>10</td>\n",
       "      <td>0</td>\n",
       "      <td>1</td>\n",
       "      <td>No</td>\n",
       "      <td>One year</td>\n",
       "      <td>Yes</td>\n",
       "      <td>Yes</td>\n",
       "      <td>Fiber Optic</td>\n",
       "      <td>Yes</td>\n",
       "      <td>No</td>\n",
       "      <td>Yes</td>\n",
       "      <td>Yes</td>\n",
       "      <td>No</td>\n",
       "      <td>No</td>\n",
       "      <td>No</td>\n",
       "      <td>Yes</td>\n",
       "      <td>Yes</td>\n",
       "      <td>Credit Card (automatic)</td>\n",
       "      <td>6.795513</td>\n",
       "      <td>171.449762</td>\n",
       "      <td>904.536110</td>\n",
       "      <td>5</td>\n",
       "      <td>5</td>\n",
       "      <td>5</td>\n",
       "      <td>3</td>\n",
       "      <td>4</td>\n",
       "      <td>4</td>\n",
       "      <td>3</td>\n",
       "      <td>4</td>\n",
       "    </tr>\n",
       "    <tr>\n",
       "      <th>1</th>\n",
       "      <td>2</td>\n",
       "      <td>2</td>\n",
       "      <td>S120509</td>\n",
       "      <td>fb76459f-c047-4a9d-8af9-e0f7d4ac2524</td>\n",
       "      <td>West Branch</td>\n",
       "      <td>MI</td>\n",
       "      <td>Ogemaw</td>\n",
       "      <td>48661</td>\n",
       "      <td>44.32893</td>\n",
       "      <td>-84.24080</td>\n",
       "      <td>10446</td>\n",
       "      <td>Urban</td>\n",
       "      <td>America/Detroit</td>\n",
       "      <td>Programmer, multimedia</td>\n",
       "      <td>1.0</td>\n",
       "      <td>27.0</td>\n",
       "      <td>Regular High School Diploma</td>\n",
       "      <td>Retired</td>\n",
       "      <td>21704.77</td>\n",
       "      <td>Married</td>\n",
       "      <td>Female</td>\n",
       "      <td>Yes</td>\n",
       "      <td>12.014541</td>\n",
       "      <td>12</td>\n",
       "      <td>0</td>\n",
       "      <td>1</td>\n",
       "      <td>Yes</td>\n",
       "      <td>Month-to-month</td>\n",
       "      <td>No</td>\n",
       "      <td>Yes</td>\n",
       "      <td>Fiber Optic</td>\n",
       "      <td>Yes</td>\n",
       "      <td>Yes</td>\n",
       "      <td>Yes</td>\n",
       "      <td>No</td>\n",
       "      <td>No</td>\n",
       "      <td>No</td>\n",
       "      <td>Yes</td>\n",
       "      <td>Yes</td>\n",
       "      <td>Yes</td>\n",
       "      <td>Bank Transfer(automatic)</td>\n",
       "      <td>1.156681</td>\n",
       "      <td>242.948015</td>\n",
       "      <td>800.982766</td>\n",
       "      <td>3</td>\n",
       "      <td>4</td>\n",
       "      <td>3</td>\n",
       "      <td>3</td>\n",
       "      <td>4</td>\n",
       "      <td>3</td>\n",
       "      <td>4</td>\n",
       "      <td>4</td>\n",
       "    </tr>\n",
       "    <tr>\n",
       "      <th>2</th>\n",
       "      <td>3</td>\n",
       "      <td>3</td>\n",
       "      <td>K191035</td>\n",
       "      <td>344d114c-3736-4be5-98f7-c72c281e2d35</td>\n",
       "      <td>Yamhill</td>\n",
       "      <td>OR</td>\n",
       "      <td>Yamhill</td>\n",
       "      <td>97148</td>\n",
       "      <td>45.35589</td>\n",
       "      <td>-123.24657</td>\n",
       "      <td>3735</td>\n",
       "      <td>Urban</td>\n",
       "      <td>America/Los_Angeles</td>\n",
       "      <td>Chief Financial Officer</td>\n",
       "      <td>4.0</td>\n",
       "      <td>50.0</td>\n",
       "      <td>Regular High School Diploma</td>\n",
       "      <td>Student</td>\n",
       "      <td>NaN</td>\n",
       "      <td>Widowed</td>\n",
       "      <td>Female</td>\n",
       "      <td>No</td>\n",
       "      <td>10.245616</td>\n",
       "      <td>9</td>\n",
       "      <td>0</td>\n",
       "      <td>1</td>\n",
       "      <td>Yes</td>\n",
       "      <td>Two Year</td>\n",
       "      <td>Yes</td>\n",
       "      <td>No</td>\n",
       "      <td>DSL</td>\n",
       "      <td>Yes</td>\n",
       "      <td>Yes</td>\n",
       "      <td>No</td>\n",
       "      <td>No</td>\n",
       "      <td>No</td>\n",
       "      <td>No</td>\n",
       "      <td>No</td>\n",
       "      <td>Yes</td>\n",
       "      <td>Yes</td>\n",
       "      <td>Credit Card (automatic)</td>\n",
       "      <td>15.754144</td>\n",
       "      <td>159.440398</td>\n",
       "      <td>2054.706961</td>\n",
       "      <td>4</td>\n",
       "      <td>4</td>\n",
       "      <td>2</td>\n",
       "      <td>4</td>\n",
       "      <td>4</td>\n",
       "      <td>3</td>\n",
       "      <td>3</td>\n",
       "      <td>3</td>\n",
       "    </tr>\n",
       "    <tr>\n",
       "      <th>3</th>\n",
       "      <td>4</td>\n",
       "      <td>4</td>\n",
       "      <td>D90850</td>\n",
       "      <td>abfa2b40-2d43-4994-b15a-989b8c79e311</td>\n",
       "      <td>Del Mar</td>\n",
       "      <td>CA</td>\n",
       "      <td>San Diego</td>\n",
       "      <td>92014</td>\n",
       "      <td>32.96687</td>\n",
       "      <td>-117.24798</td>\n",
       "      <td>13863</td>\n",
       "      <td>Suburban</td>\n",
       "      <td>America/Los_Angeles</td>\n",
       "      <td>Solicitor</td>\n",
       "      <td>1.0</td>\n",
       "      <td>48.0</td>\n",
       "      <td>Doctorate Degree</td>\n",
       "      <td>Retired</td>\n",
       "      <td>18925.23</td>\n",
       "      <td>Married</td>\n",
       "      <td>Male</td>\n",
       "      <td>No</td>\n",
       "      <td>15.206193</td>\n",
       "      <td>15</td>\n",
       "      <td>2</td>\n",
       "      <td>0</td>\n",
       "      <td>Yes</td>\n",
       "      <td>Two Year</td>\n",
       "      <td>No</td>\n",
       "      <td>No</td>\n",
       "      <td>DSL</td>\n",
       "      <td>Yes</td>\n",
       "      <td>No</td>\n",
       "      <td>Yes</td>\n",
       "      <td>No</td>\n",
       "      <td>No</td>\n",
       "      <td>No</td>\n",
       "      <td>Yes</td>\n",
       "      <td>No</td>\n",
       "      <td>Yes</td>\n",
       "      <td>Mailed Check</td>\n",
       "      <td>17.087227</td>\n",
       "      <td>120.249493</td>\n",
       "      <td>2164.579412</td>\n",
       "      <td>4</td>\n",
       "      <td>4</td>\n",
       "      <td>4</td>\n",
       "      <td>2</td>\n",
       "      <td>5</td>\n",
       "      <td>4</td>\n",
       "      <td>3</td>\n",
       "      <td>3</td>\n",
       "    </tr>\n",
       "    <tr>\n",
       "      <th>4</th>\n",
       "      <td>5</td>\n",
       "      <td>5</td>\n",
       "      <td>K662701</td>\n",
       "      <td>68a861fd-0d20-4e51-a587-8a90407ee574</td>\n",
       "      <td>Needville</td>\n",
       "      <td>TX</td>\n",
       "      <td>Fort Bend</td>\n",
       "      <td>77461</td>\n",
       "      <td>29.38012</td>\n",
       "      <td>-95.80673</td>\n",
       "      <td>11352</td>\n",
       "      <td>Suburban</td>\n",
       "      <td>America/Chicago</td>\n",
       "      <td>Medical illustrator</td>\n",
       "      <td>0.0</td>\n",
       "      <td>83.0</td>\n",
       "      <td>Master's Degree</td>\n",
       "      <td>Student</td>\n",
       "      <td>40074.19</td>\n",
       "      <td>Separated</td>\n",
       "      <td>Male</td>\n",
       "      <td>Yes</td>\n",
       "      <td>8.960316</td>\n",
       "      <td>16</td>\n",
       "      <td>2</td>\n",
       "      <td>1</td>\n",
       "      <td>No</td>\n",
       "      <td>Month-to-month</td>\n",
       "      <td>Yes</td>\n",
       "      <td>No</td>\n",
       "      <td>Fiber Optic</td>\n",
       "      <td>No</td>\n",
       "      <td>No</td>\n",
       "      <td>No</td>\n",
       "      <td>No</td>\n",
       "      <td>No</td>\n",
       "      <td>Yes</td>\n",
       "      <td>Yes</td>\n",
       "      <td>No</td>\n",
       "      <td>No</td>\n",
       "      <td>Mailed Check</td>\n",
       "      <td>1.670972</td>\n",
       "      <td>150.761216</td>\n",
       "      <td>271.493436</td>\n",
       "      <td>4</td>\n",
       "      <td>4</td>\n",
       "      <td>4</td>\n",
       "      <td>3</td>\n",
       "      <td>4</td>\n",
       "      <td>4</td>\n",
       "      <td>4</td>\n",
       "      <td>5</td>\n",
       "    </tr>\n",
       "  </tbody>\n",
       "</table>\n",
       "</div>"
      ],
      "text/plain": [
       "   Unnamed: 0  CaseOrder Customer_id                           Interaction  \\\n",
       "0           1          1     K409198  aa90260b-4141-4a24-8e36-b04ce1f4f77b   \n",
       "1           2          2     S120509  fb76459f-c047-4a9d-8af9-e0f7d4ac2524   \n",
       "2           3          3     K191035  344d114c-3736-4be5-98f7-c72c281e2d35   \n",
       "3           4          4      D90850  abfa2b40-2d43-4994-b15a-989b8c79e311   \n",
       "4           5          5     K662701  68a861fd-0d20-4e51-a587-8a90407ee574   \n",
       "\n",
       "          City State                 County    Zip       Lat        Lng  \\\n",
       "0  Point Baker    AK  Prince of Wales-Hyder  99927  56.25100 -133.37571   \n",
       "1  West Branch    MI                 Ogemaw  48661  44.32893  -84.24080   \n",
       "2      Yamhill    OR                Yamhill  97148  45.35589 -123.24657   \n",
       "3      Del Mar    CA              San Diego  92014  32.96687 -117.24798   \n",
       "4    Needville    TX              Fort Bend  77461  29.38012  -95.80673   \n",
       "\n",
       "   Population      Area             Timezone  \\\n",
       "0          38     Urban        America/Sitka   \n",
       "1       10446     Urban      America/Detroit   \n",
       "2        3735     Urban  America/Los_Angeles   \n",
       "3       13863  Suburban  America/Los_Angeles   \n",
       "4       11352  Suburban      America/Chicago   \n",
       "\n",
       "                                 Job  Children   Age  \\\n",
       "0  Environmental health practitioner       NaN  68.0   \n",
       "1             Programmer, multimedia       1.0  27.0   \n",
       "2            Chief Financial Officer       4.0  50.0   \n",
       "3                          Solicitor       1.0  48.0   \n",
       "4                Medical illustrator       0.0  83.0   \n",
       "\n",
       "                     Education Employment    Income    Marital  Gender Churn  \\\n",
       "0              Master's Degree  Part Time  28561.99    Widowed    Male    No   \n",
       "1  Regular High School Diploma    Retired  21704.77    Married  Female   Yes   \n",
       "2  Regular High School Diploma    Student       NaN    Widowed  Female    No   \n",
       "3             Doctorate Degree    Retired  18925.23    Married    Male    No   \n",
       "4              Master's Degree    Student  40074.19  Separated    Male   Yes   \n",
       "\n",
       "   Outage_sec_perweek  Email  Contacts  Yearly_equip_failure Techie  \\\n",
       "0            6.972566     10         0                     1     No   \n",
       "1           12.014541     12         0                     1    Yes   \n",
       "2           10.245616      9         0                     1    Yes   \n",
       "3           15.206193     15         2                     0    Yes   \n",
       "4            8.960316     16         2                     1     No   \n",
       "\n",
       "         Contract Port_modem Tablet InternetService Phone Multiple  \\\n",
       "0        One year        Yes    Yes     Fiber Optic   Yes       No   \n",
       "1  Month-to-month         No    Yes     Fiber Optic   Yes      Yes   \n",
       "2        Two Year        Yes     No             DSL   Yes      Yes   \n",
       "3        Two Year         No     No             DSL   Yes       No   \n",
       "4  Month-to-month        Yes     No     Fiber Optic    No       No   \n",
       "\n",
       "  OnlineSecurity OnlineBackup DeviceProtection TechSupport StreamingTV  \\\n",
       "0            Yes          Yes               No          No          No   \n",
       "1            Yes           No               No          No         Yes   \n",
       "2             No           No               No          No          No   \n",
       "3            Yes           No               No          No         Yes   \n",
       "4             No           No               No         Yes         Yes   \n",
       "\n",
       "  StreamingMovies PaperlessBilling             PaymentMethod     Tenure  \\\n",
       "0             Yes              Yes   Credit Card (automatic)   6.795513   \n",
       "1             Yes              Yes  Bank Transfer(automatic)   1.156681   \n",
       "2             Yes              Yes   Credit Card (automatic)  15.754144   \n",
       "3              No              Yes              Mailed Check  17.087227   \n",
       "4              No               No              Mailed Check   1.670972   \n",
       "\n",
       "   MonthlyCharge  Bandwidth_GB_Year  item1  item2  item3  item4  item5  item6  \\\n",
       "0     171.449762         904.536110      5      5      5      3      4      4   \n",
       "1     242.948015         800.982766      3      4      3      3      4      3   \n",
       "2     159.440398        2054.706961      4      4      2      4      4      3   \n",
       "3     120.249493        2164.579412      4      4      4      2      5      4   \n",
       "4     150.761216         271.493436      4      4      4      3      4      4   \n",
       "\n",
       "   item7  item8  \n",
       "0      3      4  \n",
       "1      4      4  \n",
       "2      3      3  \n",
       "3      3      3  \n",
       "4      4      5  "
      ]
     },
     "execution_count": 10,
     "metadata": {},
     "output_type": "execute_result"
    }
   ],
   "source": [
    "# Preview Dataset\n",
    "raw_churn.head()"
   ]
  },
  {
   "cell_type": "code",
   "execution_count": 11,
   "metadata": {
    "collapsed": false,
    "jupyter": {
     "outputs_hidden": false
    },
    "pycharm": {
     "name": "#%%\n"
    }
   },
   "outputs": [],
   "source": [
    "#seperate numeric datatypes and non numeric\n",
    "\n",
    "numeric_col_list = []\n",
    "nonnumeric_col_list = []\n",
    "for i in raw_churn:\n",
    "    try:\n",
    "        if raw_churn[i][0] > -100000000000:\n",
    "            numeric_col_list.append(i)\n",
    "    except Exception:\n",
    "        nonnumeric_col_list.append(i)\n",
    "        pass"
   ]
  },
  {
   "cell_type": "code",
   "execution_count": 12,
   "metadata": {
    "collapsed": false,
    "jupyter": {
     "outputs_hidden": false
    },
    "pycharm": {
     "name": "#%%\n"
    }
   },
   "outputs": [
    {
     "data": {
      "text/plain": [
       "(['Unnamed: 0',\n",
       "  'CaseOrder',\n",
       "  'Zip',\n",
       "  'Lat',\n",
       "  'Lng',\n",
       "  'Population',\n",
       "  'Age',\n",
       "  'Income',\n",
       "  'Outage_sec_perweek',\n",
       "  'Email',\n",
       "  'Contacts',\n",
       "  'Yearly_equip_failure',\n",
       "  'Tenure',\n",
       "  'MonthlyCharge',\n",
       "  'Bandwidth_GB_Year',\n",
       "  'item1',\n",
       "  'item2',\n",
       "  'item3',\n",
       "  'item4',\n",
       "  'item5',\n",
       "  'item6',\n",
       "  'item7',\n",
       "  'item8'],\n",
       " ['Customer_id',\n",
       "  'Interaction',\n",
       "  'City',\n",
       "  'State',\n",
       "  'County',\n",
       "  'Area',\n",
       "  'Timezone',\n",
       "  'Job',\n",
       "  'Education',\n",
       "  'Employment',\n",
       "  'Marital',\n",
       "  'Gender',\n",
       "  'Churn',\n",
       "  'Techie',\n",
       "  'Contract',\n",
       "  'Port_modem',\n",
       "  'Tablet',\n",
       "  'InternetService',\n",
       "  'Phone',\n",
       "  'Multiple',\n",
       "  'OnlineSecurity',\n",
       "  'OnlineBackup',\n",
       "  'DeviceProtection',\n",
       "  'TechSupport',\n",
       "  'StreamingTV',\n",
       "  'StreamingMovies',\n",
       "  'PaperlessBilling',\n",
       "  'PaymentMethod'])"
      ]
     },
     "execution_count": 12,
     "metadata": {},
     "output_type": "execute_result"
    }
   ],
   "source": [
    "# view lists created for analysis\n",
    "numeric_col_list, nonnumeric_col_list"
   ]
  },
  {
   "cell_type": "code",
   "execution_count": 13,
   "metadata": {
    "collapsed": false,
    "jupyter": {
     "outputs_hidden": false
    },
    "pycharm": {
     "name": "#%%\n"
    }
   },
   "outputs": [],
   "source": [
    "#some preliminary cleaning, pop labels that will be unused due to wrong typing or uniqueness\n",
    "to_pop = ['Unnamed: 0',\n",
    "          'CaseOrder',\n",
    "          'Zip',\n",
    "          'Lat',\n",
    "          'Lng']\n",
    "\n",
    "for popper in to_pop:\n",
    "    try:\n",
    "        numeric_col_list.remove(popper)\n",
    "    except Exception:\n",
    "        pass"
   ]
  },
  {
   "cell_type": "code",
   "execution_count": 14,
   "metadata": {
    "collapsed": false,
    "jupyter": {
     "outputs_hidden": false
    },
    "pycharm": {
     "name": "#%%\n"
    }
   },
   "outputs": [
    {
     "data": {
      "text/plain": [
       "(['Population',\n",
       "  'Age',\n",
       "  'Income',\n",
       "  'Outage_sec_perweek',\n",
       "  'Email',\n",
       "  'Contacts',\n",
       "  'Yearly_equip_failure',\n",
       "  'Tenure',\n",
       "  'MonthlyCharge',\n",
       "  'Bandwidth_GB_Year',\n",
       "  'item1',\n",
       "  'item2',\n",
       "  'item3',\n",
       "  'item4',\n",
       "  'item5',\n",
       "  'item6',\n",
       "  'item7',\n",
       "  'item8'],\n",
       " ['Customer_id',\n",
       "  'Interaction',\n",
       "  'City',\n",
       "  'State',\n",
       "  'County',\n",
       "  'Area',\n",
       "  'Timezone',\n",
       "  'Job',\n",
       "  'Education',\n",
       "  'Employment',\n",
       "  'Marital',\n",
       "  'Gender',\n",
       "  'Churn',\n",
       "  'Techie',\n",
       "  'Contract',\n",
       "  'Port_modem',\n",
       "  'Tablet',\n",
       "  'InternetService',\n",
       "  'Phone',\n",
       "  'Multiple',\n",
       "  'OnlineSecurity',\n",
       "  'OnlineBackup',\n",
       "  'DeviceProtection',\n",
       "  'TechSupport',\n",
       "  'StreamingTV',\n",
       "  'StreamingMovies',\n",
       "  'PaperlessBilling',\n",
       "  'PaymentMethod'])"
      ]
     },
     "execution_count": 14,
     "metadata": {},
     "output_type": "execute_result"
    }
   ],
   "source": [
    "#unit test\n",
    "numeric_col_list, nonnumeric_col_list"
   ]
  },
  {
   "cell_type": "code",
   "execution_count": 15,
   "metadata": {
    "collapsed": false,
    "jupyter": {
     "outputs_hidden": false
    },
    "pycharm": {
     "name": "#%%\n"
    }
   },
   "outputs": [
    {
     "data": {
      "image/png": "[encoded data removed]",
      "text/plain": [
       "<Figure size 432x288 with 1 Axes>"
      ]
     },
     "metadata": {
      "needs_background": "light"
     },
     "output_type": "display_data"
    },
    {
     "data": {
      "image/png": "[encoded data removed]",
      "text/plain": [
       "<Figure size 432x288 with 1 Axes>"
      ]
     },
     "metadata": {
      "needs_background": "light"
     },
     "output_type": "display_data"
    },
    {
     "data": {
      "image/png": "[encoded data removed]",
      "text/plain": [
       "<Figure size 432x288 with 1 Axes>"
      ]
     },
     "metadata": {
      "needs_background": "light"
     },
     "output_type": "display_data"
    },
    {
     "data": {
      "image/png": "[encoded data removed]",
      "text/plain": [
       "<Figure size 432x288 with 1 Axes>"
      ]
     },
     "metadata": {
      "needs_background": "light"
     },
     "output_type": "display_data"
    },
    {
     "data": {
      "image/png": "[encoded data removed]",
      "text/plain": [
       "<Figure size 432x288 with 1 Axes>"
      ]
     },
     "metadata": {
      "needs_background": "light"
     },
     "output_type": "display_data"
    },
    {
     "data": {
      "image/png": "[encoded data removed]",
      "text/plain": [
       "<Figure size 432x288 with 1 Axes>"
      ]
     },
     "metadata": {
      "needs_background": "light"
     },
     "output_type": "display_data"
    },
    {
     "data": {
      "image/png": "[encoded data removed]",
      "text/plain": [
       "<Figure size 432x288 with 1 Axes>"
      ]
     },
     "metadata": {
      "needs_background": "light"
     },
     "output_type": "display_data"
    },
    {
     "data": {
      "image/png": "[encoded data removed]",
      "text/plain": [
       "<Figure size 432x288 with 1 Axes>"
      ]
     },
     "metadata": {
      "needs_background": "light"
     },
     "output_type": "display_data"
    },
    {
     "data": {
      "image/png": "[encoded data removed]",
      "text/plain": [
       "<Figure size 432x288 with 1 Axes>"
      ]
     },
     "metadata": {
      "needs_background": "light"
     },
     "output_type": "display_data"
    },
    {
     "data": {
      "image/png": "[encoded data removed]",
      "text/plain": [
       "<Figure size 432x288 with 1 Axes>"
      ]
     },
     "metadata": {
      "needs_background": "light"
     },
     "output_type": "display_data"
    },
    {
     "data": {
      "image/png": "[encoded data removed]",
      "text/plain": [
       "<Figure size 432x288 with 1 Axes>"
      ]
     },
     "metadata": {
      "needs_background": "light"
     },
     "output_type": "display_data"
    },
    {
     "data": {
      "image/png": "[encoded data removed]",
      "text/plain": [
       "<Figure size 432x288 with 1 Axes>"
      ]
     },
     "metadata": {
      "needs_background": "light"
     },
     "output_type": "display_data"
    },
    {
     "data": {
      "image/png": "[encoded data removed]",
      "text/plain": [
       "<Figure size 432x288 with 1 Axes>"
      ]
     },
     "metadata": {
      "needs_background": "light"
     },
     "output_type": "display_data"
    },
    {
     "data": {
      "image/png": "[encoded data removed]",
      "text/plain": [
       "<Figure size 432x288 with 1 Axes>"
      ]
     },
     "metadata": {
      "needs_background": "light"
     },
     "output_type": "display_data"
    },
    {
     "data": {
      "image/png": "[encoded data removed]",
      "text/plain": [
       "<Figure size 432x288 with 1 Axes>"
      ]
     },
     "metadata": {
      "needs_background": "light"
     },
     "output_type": "display_data"
    },
    {
     "data": {
      "image/png": "[encoded data removed]",
      "text/plain": [
       "<Figure size 432x288 with 1 Axes>"
      ]
     },
     "metadata": {
      "needs_background": "light"
     },
     "output_type": "display_data"
    },
    {
     "data": {
      "image/png": "[encoded data removed]",
      "text/plain": [
       "<Figure size 432x288 with 1 Axes>"
      ]
     },
     "metadata": {
      "needs_background": "light"
     },
     "output_type": "display_data"
    },
    {
     "data": {
      "image/png": "[encoded data removed]",
      "text/plain": [
       "<Figure size 432x288 with 1 Axes>"
      ]
     },
     "metadata": {
      "needs_background": "light"
     },
     "output_type": "display_data"
    }
   ],
   "source": [
    "#visualize numeric distributions boxbplot\n",
    "for i, col in enumerate(raw_churn[numeric_col_list]):\n",
    "        try:\n",
    "            plt.figure(i)\n",
    "            sns.boxplot(raw_churn[col])\n",
    "        except Exception:\n",
    "            pass"
   ]
  },
  {
   "cell_type": "code",
   "execution_count": 16,
   "metadata": {
    "collapsed": false,
    "jupyter": {
     "outputs_hidden": false
    },
    "pycharm": {
     "name": "#%%\n"
    }
   },
   "outputs": [
    {
     "data": {
      "image/png": "[encoded data removed]",
      "text/plain": [
       "<Figure size 432x288 with 1 Axes>"
      ]
     },
     "metadata": {
      "needs_background": "light"
     },
     "output_type": "display_data"
    },
    {
     "data": {
      "image/png": "[encoded data removed]",
      "text/plain": [
       "<Figure size 432x288 with 1 Axes>"
      ]
     },
     "metadata": {
      "needs_background": "light"
     },
     "output_type": "display_data"
    },
    {
     "data": {
      "image/png": "[encoded data removed]",
      "text/plain": [
       "<Figure size 432x288 with 1 Axes>"
      ]
     },
     "metadata": {
      "needs_background": "light"
     },
     "output_type": "display_data"
    },
    {
     "data": {
      "image/png": "[encoded data removed]",
      "text/plain": [
       "<Figure size 432x288 with 1 Axes>"
      ]
     },
     "metadata": {
      "needs_background": "light"
     },
     "output_type": "display_data"
    },
    {
     "data": {
      "image/png": "[encoded data removed]",
      "text/plain": [
       "<Figure size 432x288 with 1 Axes>"
      ]
     },
     "metadata": {
      "needs_background": "light"
     },
     "output_type": "display_data"
    },
    {
     "data": {
      "image/png": "[encoded data removed]",
      "text/plain": [
       "<Figure size 432x288 with 1 Axes>"
      ]
     },
     "metadata": {
      "needs_background": "light"
     },
     "output_type": "display_data"
    },
    {
     "data": {
      "image/png": "[encoded data removed]",
      "text/plain": [
       "<Figure size 432x288 with 1 Axes>"
      ]
     },
     "metadata": {
      "needs_background": "light"
     },
     "output_type": "display_data"
    },
    {
     "data": {
      "image/png": "[encoded data removed]",
      "text/plain": [
       "<Figure size 432x288 with 1 Axes>"
      ]
     },
     "metadata": {
      "needs_background": "light"
     },
     "output_type": "display_data"
    },
    {
     "data": {
      "image/png": "[encoded data removed]",
      "text/plain": [
       "<Figure size 432x288 with 1 Axes>"
      ]
     },
     "metadata": {
      "needs_background": "light"
     },
     "output_type": "display_data"
    },
    {
     "data": {
      "image/png": "[encoded data removed]",
      "text/plain": [
       "<Figure size 432x288 with 1 Axes>"
      ]
     },
     "metadata": {
      "needs_background": "light"
     },
     "output_type": "display_data"
    },
    {
     "data": {
      "image/png": "[encoded data removed]",
      "text/plain": [
       "<Figure size 432x288 with 1 Axes>"
      ]
     },
     "metadata": {
      "needs_background": "light"
     },
     "output_type": "display_data"
    },
    {
     "data": {
      "image/png": "[encoded data removed]",
      "text/plain": [
       "<Figure size 432x288 with 1 Axes>"
      ]
     },
     "metadata": {
      "needs_background": "light"
     },
     "output_type": "display_data"
    },
    {
     "data": {
      "image/png": "[encoded data removed]",
      "text/plain": [
       "<Figure size 432x288 with 1 Axes>"
      ]
     },
     "metadata": {
      "needs_background": "light"
     },
     "output_type": "display_data"
    },
    {
     "data": {
      "image/png": "[encoded data removed]",
      "text/plain": [
       "<Figure size 432x288 with 1 Axes>"
      ]
     },
     "metadata": {
      "needs_background": "light"
     },
     "output_type": "display_data"
    },
    {
     "data": {
      "image/png": "[encoded data removed]",
      "text/plain": [
       "<Figure size 432x288 with 1 Axes>"
      ]
     },
     "metadata": {
      "needs_background": "light"
     },
     "output_type": "display_data"
    },
    {
     "data": {
      "image/png": "[encoded data removed]",
      "text/plain": [
       "<Figure size 432x288 with 1 Axes>"
      ]
     },
     "metadata": {
      "needs_background": "light"
     },
     "output_type": "display_data"
    },
    {
     "data": {
      "image/png": "[encoded data removed]",
      "text/plain": [
       "<Figure size 432x288 with 1 Axes>"
      ]
     },
     "metadata": {
      "needs_background": "light"
     },
     "output_type": "display_data"
    },
    {
     "data": {
      "image/png": "[encoded data removed]",
      "text/plain": [
       "<Figure size 432x288 with 1 Axes>"
      ]
     },
     "metadata": {
      "needs_background": "light"
     },
     "output_type": "display_data"
    }
   ],
   "source": [
    "#visualize numeric distributions histograms\n",
    "for i, col in enumerate(raw_churn[numeric_col_list]):\n",
    "    try:\n",
    "        plt.figure(i)\n",
    "        sns.histplot(raw_churn[col], kde=True)\n",
    "    except Exception:\n",
    "        pass"
   ]
  },
  {
   "cell_type": "code",
   "execution_count": 17,
   "metadata": {
    "collapsed": false,
    "jupyter": {
     "outputs_hidden": false
    },
    "pycharm": {
     "name": "#%%\n"
    }
   },
   "outputs": [
    {
     "data": {
      "text/html": [
       "<div>\n",
       "<style scoped>\n",
       "    .dataframe tbody tr th:only-of-type {\n",
       "        vertical-align: middle;\n",
       "    }\n",
       "\n",
       "    .dataframe tbody tr th {\n",
       "        vertical-align: top;\n",
       "    }\n",
       "\n",
       "    .dataframe thead th {\n",
       "        text-align: right;\n",
       "    }\n",
       "</style>\n",
       "<table border=\"1\" class=\"dataframe\">\n",
       "  <thead>\n",
       "    <tr style=\"text-align: right;\">\n",
       "      <th></th>\n",
       "      <th>Age</th>\n",
       "      <th>Tenure</th>\n",
       "    </tr>\n",
       "  </thead>\n",
       "  <tbody>\n",
       "  </tbody>\n",
       "</table>\n",
       "</div>"
      ],
      "text/plain": [
       "Empty DataFrame\n",
       "Columns: [Age, Tenure]\n",
       "Index: []"
      ]
     },
     "execution_count": 17,
     "metadata": {},
     "output_type": "execute_result"
    }
   ],
   "source": [
    "#ideally, no tenure should be larger than age. If this subframe is empty then no treatment will be necessary\n",
    "agetenure = ['Age', 'Tenure']\n",
    "raw_churn[agetenure][raw_churn['Tenure']/12 > raw_churn['Age']]"
   ]
  },
  {
   "cell_type": "code",
   "execution_count": 18,
   "metadata": {
    "collapsed": false,
    "jupyter": {
     "outputs_hidden": false
    },
    "pycharm": {
     "name": "#%%\n"
    }
   },
   "outputs": [
    {
     "data": {
      "text/plain": [
       "['Children',\n",
       " 'Age',\n",
       " 'Income',\n",
       " 'Techie',\n",
       " 'Phone',\n",
       " 'TechSupport',\n",
       " 'Tenure',\n",
       " 'Bandwidth_GB_Year']"
      ]
     },
     "execution_count": 18,
     "metadata": {},
     "output_type": "execute_result"
    }
   ],
   "source": [
    "# create a list that has columns with null values\n",
    "cols_with_nulls = []\n",
    "\n",
    "for col in raw_churn:\n",
    "    if raw_churn[col].isna().sum() > 0:\n",
    "        cols_with_nulls.append(col)\n",
    "\n",
    "cols_with_nulls"
   ]
  },
  {
   "cell_type": "code",
   "execution_count": 19,
   "metadata": {
    "collapsed": false,
    "jupyter": {
     "outputs_hidden": false
    },
    "pycharm": {
     "name": "#%%\n"
    }
   },
   "outputs": [
    {
     "data": {
      "text/html": [
       "<div>\n",
       "<style scoped>\n",
       "    .dataframe tbody tr th:only-of-type {\n",
       "        vertical-align: middle;\n",
       "    }\n",
       "\n",
       "    .dataframe tbody tr th {\n",
       "        vertical-align: top;\n",
       "    }\n",
       "\n",
       "    .dataframe thead th {\n",
       "        text-align: right;\n",
       "    }\n",
       "</style>\n",
       "<table border=\"1\" class=\"dataframe\">\n",
       "  <thead>\n",
       "    <tr style=\"text-align: right;\">\n",
       "      <th></th>\n",
       "      <th>City</th>\n",
       "      <th>State</th>\n",
       "    </tr>\n",
       "  </thead>\n",
       "  <tbody>\n",
       "    <tr>\n",
       "      <th>0</th>\n",
       "      <td>Point Baker</td>\n",
       "      <td>AK</td>\n",
       "    </tr>\n",
       "    <tr>\n",
       "      <th>13</th>\n",
       "      <td>East Livermore</td>\n",
       "      <td>ME</td>\n",
       "    </tr>\n",
       "    <tr>\n",
       "      <th>20</th>\n",
       "      <td>Kaneville</td>\n",
       "      <td>IL</td>\n",
       "    </tr>\n",
       "    <tr>\n",
       "      <th>41</th>\n",
       "      <td>Sproul</td>\n",
       "      <td>PA</td>\n",
       "    </tr>\n",
       "    <tr>\n",
       "      <th>53</th>\n",
       "      <td>Jolley</td>\n",
       "      <td>IA</td>\n",
       "    </tr>\n",
       "    <tr>\n",
       "      <th>...</th>\n",
       "      <td>...</td>\n",
       "      <td>...</td>\n",
       "    </tr>\n",
       "    <tr>\n",
       "      <th>9779</th>\n",
       "      <td>Glentana</td>\n",
       "      <td>MT</td>\n",
       "    </tr>\n",
       "    <tr>\n",
       "      <th>9797</th>\n",
       "      <td>Absaraka</td>\n",
       "      <td>ND</td>\n",
       "    </tr>\n",
       "    <tr>\n",
       "      <th>9844</th>\n",
       "      <td>Haywood</td>\n",
       "      <td>WV</td>\n",
       "    </tr>\n",
       "    <tr>\n",
       "      <th>9873</th>\n",
       "      <td>Circle</td>\n",
       "      <td>AK</td>\n",
       "    </tr>\n",
       "    <tr>\n",
       "      <th>9944</th>\n",
       "      <td>Rome</td>\n",
       "      <td>GA</td>\n",
       "    </tr>\n",
       "  </tbody>\n",
       "</table>\n",
       "<p>496 rows × 2 columns</p>\n",
       "</div>"
      ],
      "text/plain": [
       "                City State\n",
       "0        Point Baker    AK\n",
       "13    East Livermore    ME\n",
       "20         Kaneville    IL\n",
       "41            Sproul    PA\n",
       "53            Jolley    IA\n",
       "...              ...   ...\n",
       "9779        Glentana    MT\n",
       "9797        Absaraka    ND\n",
       "9844         Haywood    WV\n",
       "9873          Circle    AK\n",
       "9944            Rome    GA\n",
       "\n",
       "[496 rows x 2 columns]"
      ]
     },
     "execution_count": 19,
     "metadata": {},
     "output_type": "execute_result"
    }
   ],
   "source": [
    "raw_churn[['City', 'State']][raw_churn['Population'] <= 100]"
   ]
  },
  {
   "cell_type": "code",
   "execution_count": 20,
   "metadata": {
    "collapsed": false,
    "jupyter": {
     "outputs_hidden": false
    },
    "pycharm": {
     "name": "#%%\n"
    }
   },
   "outputs": [
    {
     "data": {
      "text/html": [
       "<div>\n",
       "<style scoped>\n",
       "    .dataframe tbody tr th:only-of-type {\n",
       "        vertical-align: middle;\n",
       "    }\n",
       "\n",
       "    .dataframe tbody tr th {\n",
       "        vertical-align: top;\n",
       "    }\n",
       "\n",
       "    .dataframe thead th {\n",
       "        text-align: right;\n",
       "    }\n",
       "</style>\n",
       "<table border=\"1\" class=\"dataframe\">\n",
       "  <thead>\n",
       "    <tr style=\"text-align: right;\">\n",
       "      <th></th>\n",
       "      <th>Unnamed: 0</th>\n",
       "      <th>CaseOrder</th>\n",
       "      <th>Customer_id</th>\n",
       "      <th>Interaction</th>\n",
       "      <th>City</th>\n",
       "      <th>State</th>\n",
       "      <th>County</th>\n",
       "      <th>Zip</th>\n",
       "      <th>Lat</th>\n",
       "      <th>Lng</th>\n",
       "      <th>Population</th>\n",
       "      <th>Area</th>\n",
       "      <th>Timezone</th>\n",
       "      <th>Job</th>\n",
       "      <th>Children</th>\n",
       "      <th>Age</th>\n",
       "      <th>Education</th>\n",
       "      <th>Employment</th>\n",
       "      <th>Income</th>\n",
       "      <th>Marital</th>\n",
       "      <th>Gender</th>\n",
       "      <th>Churn</th>\n",
       "      <th>Outage_sec_perweek</th>\n",
       "      <th>Email</th>\n",
       "      <th>Contacts</th>\n",
       "      <th>Yearly_equip_failure</th>\n",
       "      <th>Techie</th>\n",
       "      <th>Contract</th>\n",
       "      <th>Port_modem</th>\n",
       "      <th>Tablet</th>\n",
       "      <th>InternetService</th>\n",
       "      <th>Phone</th>\n",
       "      <th>Multiple</th>\n",
       "      <th>OnlineSecurity</th>\n",
       "      <th>OnlineBackup</th>\n",
       "      <th>DeviceProtection</th>\n",
       "      <th>TechSupport</th>\n",
       "      <th>StreamingTV</th>\n",
       "      <th>StreamingMovies</th>\n",
       "      <th>PaperlessBilling</th>\n",
       "      <th>PaymentMethod</th>\n",
       "      <th>Tenure</th>\n",
       "      <th>MonthlyCharge</th>\n",
       "      <th>Bandwidth_GB_Year</th>\n",
       "      <th>item1</th>\n",
       "      <th>item2</th>\n",
       "      <th>item3</th>\n",
       "      <th>item4</th>\n",
       "      <th>item5</th>\n",
       "      <th>item6</th>\n",
       "      <th>item7</th>\n",
       "      <th>item8</th>\n",
       "    </tr>\n",
       "  </thead>\n",
       "  <tbody>\n",
       "    <tr>\n",
       "      <th>3953</th>\n",
       "      <td>3954</td>\n",
       "      <td>3954</td>\n",
       "      <td>W937828</td>\n",
       "      <td>29705855-df94-40a4-816d-40fe890c0da8</td>\n",
       "      <td>Diagonal</td>\n",
       "      <td>IA</td>\n",
       "      <td>Ringgold</td>\n",
       "      <td>50845</td>\n",
       "      <td>40.81871</td>\n",
       "      <td>-94.35237</td>\n",
       "      <td>861</td>\n",
       "      <td>Urban</td>\n",
       "      <td>America/Chicago</td>\n",
       "      <td>Pilot, airline</td>\n",
       "      <td>NaN</td>\n",
       "      <td>19.0</td>\n",
       "      <td>Some College, Less than 1 Year</td>\n",
       "      <td>Full Time</td>\n",
       "      <td>166553.10</td>\n",
       "      <td>Widowed</td>\n",
       "      <td>Female</td>\n",
       "      <td>Yes</td>\n",
       "      <td>15.700210</td>\n",
       "      <td>14</td>\n",
       "      <td>4</td>\n",
       "      <td>0</td>\n",
       "      <td>No</td>\n",
       "      <td>Month-to-month</td>\n",
       "      <td>Yes</td>\n",
       "      <td>No</td>\n",
       "      <td>DSL</td>\n",
       "      <td>Yes</td>\n",
       "      <td>No</td>\n",
       "      <td>Yes</td>\n",
       "      <td>No</td>\n",
       "      <td>No</td>\n",
       "      <td>Yes</td>\n",
       "      <td>No</td>\n",
       "      <td>Yes</td>\n",
       "      <td>Yes</td>\n",
       "      <td>Electronic Check</td>\n",
       "      <td>4.538742</td>\n",
       "      <td>142.735700</td>\n",
       "      <td>1368.093000</td>\n",
       "      <td>4</td>\n",
       "      <td>2</td>\n",
       "      <td>3</td>\n",
       "      <td>3</td>\n",
       "      <td>5</td>\n",
       "      <td>1</td>\n",
       "      <td>3</td>\n",
       "      <td>3</td>\n",
       "    </tr>\n",
       "    <tr>\n",
       "      <th>3022</th>\n",
       "      <td>3023</td>\n",
       "      <td>3023</td>\n",
       "      <td>A561114</td>\n",
       "      <td>1876441b-8516-43a9-bbc6-30959da5e1e9</td>\n",
       "      <td>Pasadena</td>\n",
       "      <td>TX</td>\n",
       "      <td>Harris</td>\n",
       "      <td>77505</td>\n",
       "      <td>29.64608</td>\n",
       "      <td>-95.13826</td>\n",
       "      <td>24022</td>\n",
       "      <td>Suburban</td>\n",
       "      <td>America/Chicago</td>\n",
       "      <td>Geoscientist</td>\n",
       "      <td>0.0</td>\n",
       "      <td>18.0</td>\n",
       "      <td>GED or Alternative Credential</td>\n",
       "      <td>Full Time</td>\n",
       "      <td>104539.20</td>\n",
       "      <td>Separated</td>\n",
       "      <td>Female</td>\n",
       "      <td>No</td>\n",
       "      <td>11.807730</td>\n",
       "      <td>13</td>\n",
       "      <td>2</td>\n",
       "      <td>3</td>\n",
       "      <td>No</td>\n",
       "      <td>Month-to-month</td>\n",
       "      <td>Yes</td>\n",
       "      <td>Yes</td>\n",
       "      <td>DSL</td>\n",
       "      <td>Yes</td>\n",
       "      <td>No</td>\n",
       "      <td>No</td>\n",
       "      <td>No</td>\n",
       "      <td>Yes</td>\n",
       "      <td>NaN</td>\n",
       "      <td>No</td>\n",
       "      <td>No</td>\n",
       "      <td>Yes</td>\n",
       "      <td>Electronic Check</td>\n",
       "      <td>13.908870</td>\n",
       "      <td>105.034100</td>\n",
       "      <td>NaN</td>\n",
       "      <td>6</td>\n",
       "      <td>5</td>\n",
       "      <td>4</td>\n",
       "      <td>5</td>\n",
       "      <td>5</td>\n",
       "      <td>4</td>\n",
       "      <td>6</td>\n",
       "      <td>4</td>\n",
       "    </tr>\n",
       "    <tr>\n",
       "      <th>465</th>\n",
       "      <td>466</td>\n",
       "      <td>466</td>\n",
       "      <td>K796504</td>\n",
       "      <td>a1253fa5-ddc2-4ee4-b63f-18d9a3191bcb</td>\n",
       "      <td>Ashland</td>\n",
       "      <td>MA</td>\n",
       "      <td>Middlesex</td>\n",
       "      <td>1721</td>\n",
       "      <td>42.25729</td>\n",
       "      <td>-71.46866</td>\n",
       "      <td>17576</td>\n",
       "      <td>Rural</td>\n",
       "      <td>America/New_York</td>\n",
       "      <td>Regulatory affairs officer</td>\n",
       "      <td>0.0</td>\n",
       "      <td>18.0</td>\n",
       "      <td>Professional School Degree</td>\n",
       "      <td>Full Time</td>\n",
       "      <td>101000.30</td>\n",
       "      <td>Never Married</td>\n",
       "      <td>Male</td>\n",
       "      <td>Yes</td>\n",
       "      <td>38.258236</td>\n",
       "      <td>10</td>\n",
       "      <td>0</td>\n",
       "      <td>1</td>\n",
       "      <td>No</td>\n",
       "      <td>Month-to-month</td>\n",
       "      <td>No</td>\n",
       "      <td>No</td>\n",
       "      <td>DSL</td>\n",
       "      <td>Yes</td>\n",
       "      <td>Yes</td>\n",
       "      <td>No</td>\n",
       "      <td>No</td>\n",
       "      <td>No</td>\n",
       "      <td>No</td>\n",
       "      <td>Yes</td>\n",
       "      <td>No</td>\n",
       "      <td>No</td>\n",
       "      <td>Electronic Check</td>\n",
       "      <td>14.580667</td>\n",
       "      <td>176.937371</td>\n",
       "      <td>2023.519366</td>\n",
       "      <td>5</td>\n",
       "      <td>5</td>\n",
       "      <td>4</td>\n",
       "      <td>2</td>\n",
       "      <td>5</td>\n",
       "      <td>4</td>\n",
       "      <td>3</td>\n",
       "      <td>3</td>\n",
       "    </tr>\n",
       "    <tr>\n",
       "      <th>5612</th>\n",
       "      <td>5613</td>\n",
       "      <td>5613</td>\n",
       "      <td>V571379</td>\n",
       "      <td>bb93a817-07ab-4745-8f17-e4b081629745</td>\n",
       "      <td>Larchmont</td>\n",
       "      <td>NY</td>\n",
       "      <td>Westchester</td>\n",
       "      <td>10538</td>\n",
       "      <td>40.93794</td>\n",
       "      <td>-73.75668</td>\n",
       "      <td>16545</td>\n",
       "      <td>Urban</td>\n",
       "      <td>America/New_York</td>\n",
       "      <td>Surveyor, quantity</td>\n",
       "      <td>8.0</td>\n",
       "      <td>19.0</td>\n",
       "      <td>9th Grade to 12th Grade, No Diploma</td>\n",
       "      <td>Full Time</td>\n",
       "      <td>93517.61</td>\n",
       "      <td>Separated</td>\n",
       "      <td>Male</td>\n",
       "      <td>No</td>\n",
       "      <td>11.677290</td>\n",
       "      <td>13</td>\n",
       "      <td>1</td>\n",
       "      <td>0</td>\n",
       "      <td>No</td>\n",
       "      <td>One year</td>\n",
       "      <td>Yes</td>\n",
       "      <td>Yes</td>\n",
       "      <td>DSL</td>\n",
       "      <td>Yes</td>\n",
       "      <td>Yes</td>\n",
       "      <td>No</td>\n",
       "      <td>No</td>\n",
       "      <td>No</td>\n",
       "      <td>No</td>\n",
       "      <td>No</td>\n",
       "      <td>No</td>\n",
       "      <td>Yes</td>\n",
       "      <td>Electronic Check</td>\n",
       "      <td>66.008690</td>\n",
       "      <td>123.785700</td>\n",
       "      <td>6319.838000</td>\n",
       "      <td>4</td>\n",
       "      <td>3</td>\n",
       "      <td>3</td>\n",
       "      <td>2</td>\n",
       "      <td>4</td>\n",
       "      <td>2</td>\n",
       "      <td>3</td>\n",
       "      <td>3</td>\n",
       "    </tr>\n",
       "    <tr>\n",
       "      <th>382</th>\n",
       "      <td>383</td>\n",
       "      <td>383</td>\n",
       "      <td>R753498</td>\n",
       "      <td>9ae6325d-f69f-4595-afdc-920c64944d96</td>\n",
       "      <td>Hager City</td>\n",
       "      <td>WI</td>\n",
       "      <td>Pierce</td>\n",
       "      <td>54014</td>\n",
       "      <td>44.64671</td>\n",
       "      <td>-92.56765</td>\n",
       "      <td>2080</td>\n",
       "      <td>Rural</td>\n",
       "      <td>America/Chicago</td>\n",
       "      <td>Event organiser</td>\n",
       "      <td>0.0</td>\n",
       "      <td>18.0</td>\n",
       "      <td>Some College, 1 or More Years, No Degree</td>\n",
       "      <td>Full Time</td>\n",
       "      <td>91186.03</td>\n",
       "      <td>Separated</td>\n",
       "      <td>Female</td>\n",
       "      <td>No</td>\n",
       "      <td>9.666266</td>\n",
       "      <td>13</td>\n",
       "      <td>0</td>\n",
       "      <td>0</td>\n",
       "      <td>NaN</td>\n",
       "      <td>Two Year</td>\n",
       "      <td>No</td>\n",
       "      <td>Yes</td>\n",
       "      <td>Fiber Optic</td>\n",
       "      <td>Yes</td>\n",
       "      <td>No</td>\n",
       "      <td>Yes</td>\n",
       "      <td>Yes</td>\n",
       "      <td>Yes</td>\n",
       "      <td>No</td>\n",
       "      <td>Yes</td>\n",
       "      <td>Yes</td>\n",
       "      <td>No</td>\n",
       "      <td>Bank Transfer(automatic)</td>\n",
       "      <td>16.800020</td>\n",
       "      <td>244.725952</td>\n",
       "      <td>2188.672399</td>\n",
       "      <td>3</td>\n",
       "      <td>2</td>\n",
       "      <td>4</td>\n",
       "      <td>4</td>\n",
       "      <td>5</td>\n",
       "      <td>2</td>\n",
       "      <td>1</td>\n",
       "      <td>4</td>\n",
       "    </tr>\n",
       "    <tr>\n",
       "      <th>...</th>\n",
       "      <td>...</td>\n",
       "      <td>...</td>\n",
       "      <td>...</td>\n",
       "      <td>...</td>\n",
       "      <td>...</td>\n",
       "      <td>...</td>\n",
       "      <td>...</td>\n",
       "      <td>...</td>\n",
       "      <td>...</td>\n",
       "      <td>...</td>\n",
       "      <td>...</td>\n",
       "      <td>...</td>\n",
       "      <td>...</td>\n",
       "      <td>...</td>\n",
       "      <td>...</td>\n",
       "      <td>...</td>\n",
       "      <td>...</td>\n",
       "      <td>...</td>\n",
       "      <td>...</td>\n",
       "      <td>...</td>\n",
       "      <td>...</td>\n",
       "      <td>...</td>\n",
       "      <td>...</td>\n",
       "      <td>...</td>\n",
       "      <td>...</td>\n",
       "      <td>...</td>\n",
       "      <td>...</td>\n",
       "      <td>...</td>\n",
       "      <td>...</td>\n",
       "      <td>...</td>\n",
       "      <td>...</td>\n",
       "      <td>...</td>\n",
       "      <td>...</td>\n",
       "      <td>...</td>\n",
       "      <td>...</td>\n",
       "      <td>...</td>\n",
       "      <td>...</td>\n",
       "      <td>...</td>\n",
       "      <td>...</td>\n",
       "      <td>...</td>\n",
       "      <td>...</td>\n",
       "      <td>...</td>\n",
       "      <td>...</td>\n",
       "      <td>...</td>\n",
       "      <td>...</td>\n",
       "      <td>...</td>\n",
       "      <td>...</td>\n",
       "      <td>...</td>\n",
       "      <td>...</td>\n",
       "      <td>...</td>\n",
       "      <td>...</td>\n",
       "      <td>...</td>\n",
       "    </tr>\n",
       "    <tr>\n",
       "      <th>9305</th>\n",
       "      <td>9306</td>\n",
       "      <td>9306</td>\n",
       "      <td>J752284</td>\n",
       "      <td>916ee499-7af2-4dc0-a45f-9912f03cf65d</td>\n",
       "      <td>Pukwana</td>\n",
       "      <td>SD</td>\n",
       "      <td>Brule</td>\n",
       "      <td>57370</td>\n",
       "      <td>43.80152</td>\n",
       "      <td>-99.16909</td>\n",
       "      <td>761</td>\n",
       "      <td>Rural</td>\n",
       "      <td>America/Chicago</td>\n",
       "      <td>Civil Service fast streamer</td>\n",
       "      <td>3.0</td>\n",
       "      <td>19.0</td>\n",
       "      <td>9th Grade to 12th Grade, No Diploma</td>\n",
       "      <td>Retired</td>\n",
       "      <td>NaN</td>\n",
       "      <td>Never Married</td>\n",
       "      <td>Female</td>\n",
       "      <td>No</td>\n",
       "      <td>7.354714</td>\n",
       "      <td>12</td>\n",
       "      <td>2</td>\n",
       "      <td>2</td>\n",
       "      <td>No</td>\n",
       "      <td>One year</td>\n",
       "      <td>Yes</td>\n",
       "      <td>No</td>\n",
       "      <td>DSL</td>\n",
       "      <td>Yes</td>\n",
       "      <td>No</td>\n",
       "      <td>No</td>\n",
       "      <td>Yes</td>\n",
       "      <td>No</td>\n",
       "      <td>Yes</td>\n",
       "      <td>No</td>\n",
       "      <td>Yes</td>\n",
       "      <td>No</td>\n",
       "      <td>Credit Card (automatic)</td>\n",
       "      <td>69.239400</td>\n",
       "      <td>162.285700</td>\n",
       "      <td>6534.389000</td>\n",
       "      <td>4</td>\n",
       "      <td>4</td>\n",
       "      <td>5</td>\n",
       "      <td>3</td>\n",
       "      <td>4</td>\n",
       "      <td>4</td>\n",
       "      <td>2</td>\n",
       "      <td>4</td>\n",
       "    </tr>\n",
       "    <tr>\n",
       "      <th>9437</th>\n",
       "      <td>9438</td>\n",
       "      <td>9438</td>\n",
       "      <td>Z04690</td>\n",
       "      <td>691f2105-355b-4f5e-8f25-125ba930f247</td>\n",
       "      <td>Wellesley Island</td>\n",
       "      <td>NY</td>\n",
       "      <td>Jefferson</td>\n",
       "      <td>13640</td>\n",
       "      <td>44.32223</td>\n",
       "      <td>-75.99118</td>\n",
       "      <td>362</td>\n",
       "      <td>Suburban</td>\n",
       "      <td>America/New_York</td>\n",
       "      <td>Press sub</td>\n",
       "      <td>1.0</td>\n",
       "      <td>19.0</td>\n",
       "      <td>Regular High School Diploma</td>\n",
       "      <td>Full Time</td>\n",
       "      <td>NaN</td>\n",
       "      <td>Separated</td>\n",
       "      <td>Female</td>\n",
       "      <td>No</td>\n",
       "      <td>12.754910</td>\n",
       "      <td>15</td>\n",
       "      <td>2</td>\n",
       "      <td>1</td>\n",
       "      <td>No</td>\n",
       "      <td>Two Year</td>\n",
       "      <td>Yes</td>\n",
       "      <td>Yes</td>\n",
       "      <td>Fiber Optic</td>\n",
       "      <td>Yes</td>\n",
       "      <td>No</td>\n",
       "      <td>No</td>\n",
       "      <td>No</td>\n",
       "      <td>Yes</td>\n",
       "      <td>No</td>\n",
       "      <td>No</td>\n",
       "      <td>No</td>\n",
       "      <td>No</td>\n",
       "      <td>Electronic Check</td>\n",
       "      <td>66.498110</td>\n",
       "      <td>126.061600</td>\n",
       "      <td>5661.862000</td>\n",
       "      <td>5</td>\n",
       "      <td>4</td>\n",
       "      <td>4</td>\n",
       "      <td>2</td>\n",
       "      <td>5</td>\n",
       "      <td>4</td>\n",
       "      <td>5</td>\n",
       "      <td>3</td>\n",
       "    </tr>\n",
       "    <tr>\n",
       "      <th>9482</th>\n",
       "      <td>9483</td>\n",
       "      <td>9483</td>\n",
       "      <td>U174484</td>\n",
       "      <td>d582dd72-b540-4a6b-8dcc-b58c2a8fae6f</td>\n",
       "      <td>Cleveland</td>\n",
       "      <td>NY</td>\n",
       "      <td>Oswego</td>\n",
       "      <td>13042</td>\n",
       "      <td>43.26755</td>\n",
       "      <td>-75.85561</td>\n",
       "      <td>2604</td>\n",
       "      <td>Rural</td>\n",
       "      <td>America/New_York</td>\n",
       "      <td>Herbalist</td>\n",
       "      <td>0.0</td>\n",
       "      <td>18.0</td>\n",
       "      <td>Nursery School to 8th Grade</td>\n",
       "      <td>Retired</td>\n",
       "      <td>NaN</td>\n",
       "      <td>Never Married</td>\n",
       "      <td>Male</td>\n",
       "      <td>No</td>\n",
       "      <td>10.478420</td>\n",
       "      <td>10</td>\n",
       "      <td>0</td>\n",
       "      <td>0</td>\n",
       "      <td>No</td>\n",
       "      <td>Month-to-month</td>\n",
       "      <td>Yes</td>\n",
       "      <td>Yes</td>\n",
       "      <td>None</td>\n",
       "      <td>No</td>\n",
       "      <td>Yes</td>\n",
       "      <td>Yes</td>\n",
       "      <td>Yes</td>\n",
       "      <td>No</td>\n",
       "      <td>No</td>\n",
       "      <td>Yes</td>\n",
       "      <td>Yes</td>\n",
       "      <td>Yes</td>\n",
       "      <td>Electronic Check</td>\n",
       "      <td>71.999280</td>\n",
       "      <td>233.369900</td>\n",
       "      <td>6745.440000</td>\n",
       "      <td>3</td>\n",
       "      <td>2</td>\n",
       "      <td>3</td>\n",
       "      <td>5</td>\n",
       "      <td>3</td>\n",
       "      <td>4</td>\n",
       "      <td>2</td>\n",
       "      <td>3</td>\n",
       "    </tr>\n",
       "    <tr>\n",
       "      <th>9582</th>\n",
       "      <td>9583</td>\n",
       "      <td>9583</td>\n",
       "      <td>T885233</td>\n",
       "      <td>8a7ace31-c1d0-4309-9510-cb45893ce9be</td>\n",
       "      <td>Lebanon</td>\n",
       "      <td>VA</td>\n",
       "      <td>Russell</td>\n",
       "      <td>24266</td>\n",
       "      <td>36.86436</td>\n",
       "      <td>-82.11867</td>\n",
       "      <td>9179</td>\n",
       "      <td>Rural</td>\n",
       "      <td>America/New_York</td>\n",
       "      <td>Stage manager</td>\n",
       "      <td>3.0</td>\n",
       "      <td>19.0</td>\n",
       "      <td>Master's Degree</td>\n",
       "      <td>Full Time</td>\n",
       "      <td>NaN</td>\n",
       "      <td>Divorced</td>\n",
       "      <td>Female</td>\n",
       "      <td>No</td>\n",
       "      <td>11.837790</td>\n",
       "      <td>8</td>\n",
       "      <td>1</td>\n",
       "      <td>0</td>\n",
       "      <td>No</td>\n",
       "      <td>Two Year</td>\n",
       "      <td>Yes</td>\n",
       "      <td>No</td>\n",
       "      <td>Fiber Optic</td>\n",
       "      <td>Yes</td>\n",
       "      <td>No</td>\n",
       "      <td>No</td>\n",
       "      <td>No</td>\n",
       "      <td>No</td>\n",
       "      <td>No</td>\n",
       "      <td>Yes</td>\n",
       "      <td>No</td>\n",
       "      <td>No</td>\n",
       "      <td>Electronic Check</td>\n",
       "      <td>39.233790</td>\n",
       "      <td>138.073700</td>\n",
       "      <td>3600.119000</td>\n",
       "      <td>5</td>\n",
       "      <td>4</td>\n",
       "      <td>4</td>\n",
       "      <td>4</td>\n",
       "      <td>4</td>\n",
       "      <td>4</td>\n",
       "      <td>3</td>\n",
       "      <td>3</td>\n",
       "    </tr>\n",
       "    <tr>\n",
       "      <th>9670</th>\n",
       "      <td>9671</td>\n",
       "      <td>9671</td>\n",
       "      <td>T341088</td>\n",
       "      <td>5823924b-d132-4b30-b881-9539b6042eb8</td>\n",
       "      <td>Saint Marie</td>\n",
       "      <td>MT</td>\n",
       "      <td>Valley</td>\n",
       "      <td>59231</td>\n",
       "      <td>48.39806</td>\n",
       "      <td>-106.54800</td>\n",
       "      <td>489</td>\n",
       "      <td>Urban</td>\n",
       "      <td>America/Denver</td>\n",
       "      <td>Catering manager</td>\n",
       "      <td>1.0</td>\n",
       "      <td>19.0</td>\n",
       "      <td>Regular High School Diploma</td>\n",
       "      <td>Full Time</td>\n",
       "      <td>NaN</td>\n",
       "      <td>Married</td>\n",
       "      <td>Female</td>\n",
       "      <td>No</td>\n",
       "      <td>10.988390</td>\n",
       "      <td>14</td>\n",
       "      <td>0</td>\n",
       "      <td>2</td>\n",
       "      <td>Yes</td>\n",
       "      <td>Month-to-month</td>\n",
       "      <td>Yes</td>\n",
       "      <td>No</td>\n",
       "      <td>None</td>\n",
       "      <td>Yes</td>\n",
       "      <td>No</td>\n",
       "      <td>No</td>\n",
       "      <td>Yes</td>\n",
       "      <td>Yes</td>\n",
       "      <td>No</td>\n",
       "      <td>No</td>\n",
       "      <td>No</td>\n",
       "      <td>Yes</td>\n",
       "      <td>Credit Card (automatic)</td>\n",
       "      <td>57.204020</td>\n",
       "      <td>115.148700</td>\n",
       "      <td>4994.314000</td>\n",
       "      <td>3</td>\n",
       "      <td>2</td>\n",
       "      <td>4</td>\n",
       "      <td>5</td>\n",
       "      <td>4</td>\n",
       "      <td>2</td>\n",
       "      <td>3</td>\n",
       "      <td>4</td>\n",
       "    </tr>\n",
       "  </tbody>\n",
       "</table>\n",
       "<p>209 rows × 52 columns</p>\n",
       "</div>"
      ],
      "text/plain": [
       "      Unnamed: 0  CaseOrder Customer_id                           Interaction  \\\n",
       "3953        3954       3954     W937828  29705855-df94-40a4-816d-40fe890c0da8   \n",
       "3022        3023       3023     A561114  1876441b-8516-43a9-bbc6-30959da5e1e9   \n",
       "465          466        466     K796504  a1253fa5-ddc2-4ee4-b63f-18d9a3191bcb   \n",
       "5612        5613       5613     V571379  bb93a817-07ab-4745-8f17-e4b081629745   \n",
       "382          383        383     R753498  9ae6325d-f69f-4595-afdc-920c64944d96   \n",
       "...          ...        ...         ...                                   ...   \n",
       "9305        9306       9306     J752284  916ee499-7af2-4dc0-a45f-9912f03cf65d   \n",
       "9437        9438       9438      Z04690  691f2105-355b-4f5e-8f25-125ba930f247   \n",
       "9482        9483       9483     U174484  d582dd72-b540-4a6b-8dcc-b58c2a8fae6f   \n",
       "9582        9583       9583     T885233  8a7ace31-c1d0-4309-9510-cb45893ce9be   \n",
       "9670        9671       9671     T341088  5823924b-d132-4b30-b881-9539b6042eb8   \n",
       "\n",
       "                  City State       County    Zip       Lat        Lng  \\\n",
       "3953          Diagonal    IA     Ringgold  50845  40.81871  -94.35237   \n",
       "3022          Pasadena    TX       Harris  77505  29.64608  -95.13826   \n",
       "465            Ashland    MA    Middlesex   1721  42.25729  -71.46866   \n",
       "5612         Larchmont    NY  Westchester  10538  40.93794  -73.75668   \n",
       "382         Hager City    WI       Pierce  54014  44.64671  -92.56765   \n",
       "...                ...   ...          ...    ...       ...        ...   \n",
       "9305           Pukwana    SD        Brule  57370  43.80152  -99.16909   \n",
       "9437  Wellesley Island    NY    Jefferson  13640  44.32223  -75.99118   \n",
       "9482         Cleveland    NY       Oswego  13042  43.26755  -75.85561   \n",
       "9582           Lebanon    VA      Russell  24266  36.86436  -82.11867   \n",
       "9670       Saint Marie    MT       Valley  59231  48.39806 -106.54800   \n",
       "\n",
       "      Population      Area          Timezone                          Job  \\\n",
       "3953         861     Urban   America/Chicago               Pilot, airline   \n",
       "3022       24022  Suburban   America/Chicago                 Geoscientist   \n",
       "465        17576     Rural  America/New_York   Regulatory affairs officer   \n",
       "5612       16545     Urban  America/New_York           Surveyor, quantity   \n",
       "382         2080     Rural   America/Chicago              Event organiser   \n",
       "...          ...       ...               ...                          ...   \n",
       "9305         761     Rural   America/Chicago  Civil Service fast streamer   \n",
       "9437         362  Suburban  America/New_York                    Press sub   \n",
       "9482        2604     Rural  America/New_York                    Herbalist   \n",
       "9582        9179     Rural  America/New_York                Stage manager   \n",
       "9670         489     Urban    America/Denver             Catering manager   \n",
       "\n",
       "      Children   Age                                 Education Employment  \\\n",
       "3953       NaN  19.0            Some College, Less than 1 Year  Full Time   \n",
       "3022       0.0  18.0             GED or Alternative Credential  Full Time   \n",
       "465        0.0  18.0                Professional School Degree  Full Time   \n",
       "5612       8.0  19.0       9th Grade to 12th Grade, No Diploma  Full Time   \n",
       "382        0.0  18.0  Some College, 1 or More Years, No Degree  Full Time   \n",
       "...        ...   ...                                       ...        ...   \n",
       "9305       3.0  19.0       9th Grade to 12th Grade, No Diploma    Retired   \n",
       "9437       1.0  19.0               Regular High School Diploma  Full Time   \n",
       "9482       0.0  18.0               Nursery School to 8th Grade    Retired   \n",
       "9582       3.0  19.0                           Master's Degree  Full Time   \n",
       "9670       1.0  19.0               Regular High School Diploma  Full Time   \n",
       "\n",
       "         Income        Marital  Gender Churn  Outage_sec_perweek  Email  \\\n",
       "3953  166553.10        Widowed  Female   Yes           15.700210     14   \n",
       "3022  104539.20      Separated  Female    No           11.807730     13   \n",
       "465   101000.30  Never Married    Male   Yes           38.258236     10   \n",
       "5612   93517.61      Separated    Male    No           11.677290     13   \n",
       "382    91186.03      Separated  Female    No            9.666266     13   \n",
       "...         ...            ...     ...   ...                 ...    ...   \n",
       "9305        NaN  Never Married  Female    No            7.354714     12   \n",
       "9437        NaN      Separated  Female    No           12.754910     15   \n",
       "9482        NaN  Never Married    Male    No           10.478420     10   \n",
       "9582        NaN       Divorced  Female    No           11.837790      8   \n",
       "9670        NaN        Married  Female    No           10.988390     14   \n",
       "\n",
       "      Contacts  Yearly_equip_failure Techie        Contract Port_modem Tablet  \\\n",
       "3953         4                     0     No  Month-to-month        Yes     No   \n",
       "3022         2                     3     No  Month-to-month        Yes    Yes   \n",
       "465          0                     1     No  Month-to-month         No     No   \n",
       "5612         1                     0     No        One year        Yes    Yes   \n",
       "382          0                     0    NaN        Two Year         No    Yes   \n",
       "...        ...                   ...    ...             ...        ...    ...   \n",
       "9305         2                     2     No        One year        Yes     No   \n",
       "9437         2                     1     No        Two Year        Yes    Yes   \n",
       "9482         0                     0     No  Month-to-month        Yes    Yes   \n",
       "9582         1                     0     No        Two Year        Yes     No   \n",
       "9670         0                     2    Yes  Month-to-month        Yes     No   \n",
       "\n",
       "     InternetService Phone Multiple OnlineSecurity OnlineBackup  \\\n",
       "3953             DSL   Yes       No            Yes           No   \n",
       "3022             DSL   Yes       No             No           No   \n",
       "465              DSL   Yes      Yes             No           No   \n",
       "5612             DSL   Yes      Yes             No           No   \n",
       "382      Fiber Optic   Yes       No            Yes          Yes   \n",
       "...              ...   ...      ...            ...          ...   \n",
       "9305             DSL   Yes       No             No          Yes   \n",
       "9437     Fiber Optic   Yes       No             No           No   \n",
       "9482            None    No      Yes            Yes          Yes   \n",
       "9582     Fiber Optic   Yes       No             No           No   \n",
       "9670            None   Yes       No             No          Yes   \n",
       "\n",
       "     DeviceProtection TechSupport StreamingTV StreamingMovies  \\\n",
       "3953               No         Yes          No             Yes   \n",
       "3022              Yes         NaN          No              No   \n",
       "465                No          No         Yes              No   \n",
       "5612               No          No          No              No   \n",
       "382               Yes          No         Yes             Yes   \n",
       "...               ...         ...         ...             ...   \n",
       "9305               No         Yes          No             Yes   \n",
       "9437              Yes          No          No              No   \n",
       "9482               No          No         Yes             Yes   \n",
       "9582               No          No         Yes              No   \n",
       "9670              Yes          No          No              No   \n",
       "\n",
       "     PaperlessBilling             PaymentMethod     Tenure  MonthlyCharge  \\\n",
       "3953              Yes          Electronic Check   4.538742     142.735700   \n",
       "3022              Yes          Electronic Check  13.908870     105.034100   \n",
       "465                No          Electronic Check  14.580667     176.937371   \n",
       "5612              Yes          Electronic Check  66.008690     123.785700   \n",
       "382                No  Bank Transfer(automatic)  16.800020     244.725952   \n",
       "...               ...                       ...        ...            ...   \n",
       "9305               No   Credit Card (automatic)  69.239400     162.285700   \n",
       "9437               No          Electronic Check  66.498110     126.061600   \n",
       "9482              Yes          Electronic Check  71.999280     233.369900   \n",
       "9582               No          Electronic Check  39.233790     138.073700   \n",
       "9670              Yes   Credit Card (automatic)  57.204020     115.148700   \n",
       "\n",
       "      Bandwidth_GB_Year  item1  item2  item3  item4  item5  item6  item7  \\\n",
       "3953        1368.093000      4      2      3      3      5      1      3   \n",
       "3022                NaN      6      5      4      5      5      4      6   \n",
       "465         2023.519366      5      5      4      2      5      4      3   \n",
       "5612        6319.838000      4      3      3      2      4      2      3   \n",
       "382         2188.672399      3      2      4      4      5      2      1   \n",
       "...                 ...    ...    ...    ...    ...    ...    ...    ...   \n",
       "9305        6534.389000      4      4      5      3      4      4      2   \n",
       "9437        5661.862000      5      4      4      2      5      4      5   \n",
       "9482        6745.440000      3      2      3      5      3      4      2   \n",
       "9582        3600.119000      5      4      4      4      4      4      3   \n",
       "9670        4994.314000      3      2      4      5      4      2      3   \n",
       "\n",
       "      item8  \n",
       "3953      3  \n",
       "3022      4  \n",
       "465       3  \n",
       "5612      3  \n",
       "382       4  \n",
       "...     ...  \n",
       "9305      4  \n",
       "9437      3  \n",
       "9482      3  \n",
       "9582      3  \n",
       "9670      4  \n",
       "\n",
       "[209 rows x 52 columns]"
      ]
     },
     "execution_count": 20,
     "metadata": {},
     "output_type": "execute_result"
    }
   ],
   "source": [
    "raw_churn[raw_churn['Age'] < 20].sort_values('Income', ascending=False)\n"
   ]
  },
  {
   "cell_type": "code",
   "execution_count": 21,
   "metadata": {
    "collapsed": false,
    "jupyter": {
     "outputs_hidden": false
    },
    "pycharm": {
     "name": "#%%\n"
    }
   },
   "outputs": [
    {
     "data": {
      "text/html": [
       "<div>\n",
       "<style scoped>\n",
       "    .dataframe tbody tr th:only-of-type {\n",
       "        vertical-align: middle;\n",
       "    }\n",
       "\n",
       "    .dataframe tbody tr th {\n",
       "        vertical-align: top;\n",
       "    }\n",
       "\n",
       "    .dataframe thead th {\n",
       "        text-align: right;\n",
       "    }\n",
       "</style>\n",
       "<table border=\"1\" class=\"dataframe\">\n",
       "  <thead>\n",
       "    <tr style=\"text-align: right;\">\n",
       "      <th></th>\n",
       "      <th>Age</th>\n",
       "      <th>Income</th>\n",
       "      <th>Children</th>\n",
       "      <th>Employment</th>\n",
       "      <th>Education</th>\n",
       "    </tr>\n",
       "  </thead>\n",
       "  <tbody>\n",
       "    <tr>\n",
       "      <th>3953</th>\n",
       "      <td>19.0</td>\n",
       "      <td>166553.10</td>\n",
       "      <td>NaN</td>\n",
       "      <td>Full Time</td>\n",
       "      <td>Some College, Less than 1 Year</td>\n",
       "    </tr>\n",
       "    <tr>\n",
       "      <th>3022</th>\n",
       "      <td>18.0</td>\n",
       "      <td>104539.20</td>\n",
       "      <td>0.0</td>\n",
       "      <td>Full Time</td>\n",
       "      <td>GED or Alternative Credential</td>\n",
       "    </tr>\n",
       "    <tr>\n",
       "      <th>465</th>\n",
       "      <td>18.0</td>\n",
       "      <td>101000.30</td>\n",
       "      <td>0.0</td>\n",
       "      <td>Full Time</td>\n",
       "      <td>Professional School Degree</td>\n",
       "    </tr>\n",
       "    <tr>\n",
       "      <th>5612</th>\n",
       "      <td>19.0</td>\n",
       "      <td>93517.61</td>\n",
       "      <td>8.0</td>\n",
       "      <td>Full Time</td>\n",
       "      <td>9th Grade to 12th Grade, No Diploma</td>\n",
       "    </tr>\n",
       "    <tr>\n",
       "      <th>382</th>\n",
       "      <td>18.0</td>\n",
       "      <td>91186.03</td>\n",
       "      <td>0.0</td>\n",
       "      <td>Full Time</td>\n",
       "      <td>Some College, 1 or More Years, No Degree</td>\n",
       "    </tr>\n",
       "    <tr>\n",
       "      <th>...</th>\n",
       "      <td>...</td>\n",
       "      <td>...</td>\n",
       "      <td>...</td>\n",
       "      <td>...</td>\n",
       "      <td>...</td>\n",
       "    </tr>\n",
       "    <tr>\n",
       "      <th>9305</th>\n",
       "      <td>19.0</td>\n",
       "      <td>NaN</td>\n",
       "      <td>3.0</td>\n",
       "      <td>Retired</td>\n",
       "      <td>9th Grade to 12th Grade, No Diploma</td>\n",
       "    </tr>\n",
       "    <tr>\n",
       "      <th>9437</th>\n",
       "      <td>19.0</td>\n",
       "      <td>NaN</td>\n",
       "      <td>1.0</td>\n",
       "      <td>Full Time</td>\n",
       "      <td>Regular High School Diploma</td>\n",
       "    </tr>\n",
       "    <tr>\n",
       "      <th>9482</th>\n",
       "      <td>18.0</td>\n",
       "      <td>NaN</td>\n",
       "      <td>0.0</td>\n",
       "      <td>Retired</td>\n",
       "      <td>Nursery School to 8th Grade</td>\n",
       "    </tr>\n",
       "    <tr>\n",
       "      <th>9582</th>\n",
       "      <td>19.0</td>\n",
       "      <td>NaN</td>\n",
       "      <td>3.0</td>\n",
       "      <td>Full Time</td>\n",
       "      <td>Master's Degree</td>\n",
       "    </tr>\n",
       "    <tr>\n",
       "      <th>9670</th>\n",
       "      <td>19.0</td>\n",
       "      <td>NaN</td>\n",
       "      <td>1.0</td>\n",
       "      <td>Full Time</td>\n",
       "      <td>Regular High School Diploma</td>\n",
       "    </tr>\n",
       "  </tbody>\n",
       "</table>\n",
       "<p>209 rows × 5 columns</p>\n",
       "</div>"
      ],
      "text/plain": [
       "       Age     Income  Children Employment  \\\n",
       "3953  19.0  166553.10       NaN  Full Time   \n",
       "3022  18.0  104539.20       0.0  Full Time   \n",
       "465   18.0  101000.30       0.0  Full Time   \n",
       "5612  19.0   93517.61       8.0  Full Time   \n",
       "382   18.0   91186.03       0.0  Full Time   \n",
       "...    ...        ...       ...        ...   \n",
       "9305  19.0        NaN       3.0    Retired   \n",
       "9437  19.0        NaN       1.0  Full Time   \n",
       "9482  18.0        NaN       0.0    Retired   \n",
       "9582  19.0        NaN       3.0  Full Time   \n",
       "9670  19.0        NaN       1.0  Full Time   \n",
       "\n",
       "                                     Education  \n",
       "3953            Some College, Less than 1 Year  \n",
       "3022             GED or Alternative Credential  \n",
       "465                 Professional School Degree  \n",
       "5612       9th Grade to 12th Grade, No Diploma  \n",
       "382   Some College, 1 or More Years, No Degree  \n",
       "...                                        ...  \n",
       "9305       9th Grade to 12th Grade, No Diploma  \n",
       "9437               Regular High School Diploma  \n",
       "9482               Nursery School to 8th Grade  \n",
       "9582                           Master's Degree  \n",
       "9670               Regular High School Diploma  \n",
       "\n",
       "[209 rows x 5 columns]"
      ]
     },
     "execution_count": 21,
     "metadata": {},
     "output_type": "execute_result"
    }
   ],
   "source": [
    "raw_churn[['Age', 'Income', 'Children', 'Employment', 'Education']][raw_churn['Age'] < 20].sort_values('Income', ascending=False)"
   ]
  },
  {
   "attachments": {},
   "cell_type": "markdown",
   "metadata": {
    "pycharm": {
     "name": "#%% md\n"
    }
   },
   "source": [
    "There is lots of odd data from young people. Many noted as retired or with advanced degrees."
   ]
  },
  {
   "cell_type": "markdown",
   "metadata": {
    "pycharm": {
     "name": "#%% md\n"
    }
   },
   "source": [
    "## Part III: Data Cleaning\n"
   ]
  },
  {
   "cell_type": "markdown",
   "metadata": {
    "pycharm": {
     "name": "#%% md\n"
    }
   },
   "source": [
    "### D.  Summarize the data-cleaning process by doing the following:\n"
   ]
  },
  {
   "cell_type": "markdown",
   "metadata": {
    "pycharm": {
     "name": "#%% md\n"
    }
   },
   "source": [
    "#### 1.  Describe the findings, including all anomalies, from the implementation of the data-cleaning plan from part C.\n"
   ]
  },
  {
   "cell_type": "markdown",
   "metadata": {
    "pycharm": {
     "name": "#%% md\n"
    }
   },
   "source": [
    "1. ZIP/Lat/Lng are float when they should be strings as these are identifiers not numbers for mathematical operation\n",
    "\n",
    "2. Outage time has some negative numbers. This doesn't make sense for an outage time. Being a non customer reported outlier, this is the only outlier data that can be addressed in this dataset without outside data\n",
    "\n",
    "3. Some numerical columns with missing values: ['Children', 'Income', 'Age', 'Tenure', 'Bandwidth_GB_Year']. The missing data will be addressed using standard imputation techniques based in distribution. Detailed technique used will be individually explored below.\n",
    "\n",
    "4. Some qualitative columns have missing data ['Techie', 'Phone', 'TechSupport']\n",
    "\n",
    "5. Empty unnamed first column that corresponds to index should be dropped and Case Order should be set to index\n",
    "\n",
    "6. Education levels should be standardized\n",
    "\n",
    "7. Rename Survey `item` columns to be more descriptive\n",
    "\n",
    "Each cleaning step will include a justification and summary to meet requirements D3-4 below."
   ]
  },
  {
   "cell_type": "markdown",
   "metadata": {
    "pycharm": {
     "name": "#%% md\n"
    }
   },
   "source": [
    "#### 2.  Justify your methods for mitigating each type of discovered anomaly in the data set.\n",
    "\n",
    "As stated above, missing data anomalies will be handled by the appropriate imputation technique based on type of variable.\n",
    "\n",
    "1. Binary categorical variables with missing data will be set to \"No\" as a default as no data is the same as getting a No on a self reported survey. This includes ['Techie', 'Phone', 'TechSupport']\n",
    "2. Due to the trickiness of numeric outliers in self reported categories, outliers will not be treated unless noted below. Very few numeric columns had major outliers.\n",
    "    i. `Population` outliers, especially on the low-end match census data and will not be treated\n",
    "    ii.  `Income` outliers will not be treated due to being self reported by customers\n",
    "    iii. `Outage_sec_perweek` will have it's negative numbers treated via the method outlined above. The extreme outliers for outage time will be treated as valid.\n",
    "    vi. No other numeric columns had outliers that needed to be addressed.\n",
    "\n",
    "3.  No multivariate categorical data needed to be cleaned."
   ]
  },
  {
   "cell_type": "markdown",
   "metadata": {
    "pycharm": {
     "name": "#%% md\n"
    }
   },
   "source": [
    "Before addressing the data, a copy will be made so original dataset remains intact as is."
   ]
  },
  {
   "cell_type": "code",
   "execution_count": 22,
   "metadata": {
    "collapsed": false,
    "jupyter": {
     "outputs_hidden": false
    },
    "pycharm": {
     "name": "#%%\n"
    }
   },
   "outputs": [],
   "source": [
    "# Creating a copy of the dataset to ensure original file and dataframe is not compromised during analysis.\n",
    "df_clean = raw_churn.copy()"
   ]
  },
  {
   "cell_type": "code",
   "execution_count": 23,
   "metadata": {
    "collapsed": false,
    "jupyter": {
     "outputs_hidden": false
    },
    "pycharm": {
     "name": "#%%\n"
    }
   },
   "outputs": [
    {
     "data": {
      "text/html": [
       "<div>\n",
       "<style scoped>\n",
       "    .dataframe tbody tr th:only-of-type {\n",
       "        vertical-align: middle;\n",
       "    }\n",
       "\n",
       "    .dataframe tbody tr th {\n",
       "        vertical-align: top;\n",
       "    }\n",
       "\n",
       "    .dataframe thead th {\n",
       "        text-align: right;\n",
       "    }\n",
       "</style>\n",
       "<table border=\"1\" class=\"dataframe\">\n",
       "  <thead>\n",
       "    <tr style=\"text-align: right;\">\n",
       "      <th></th>\n",
       "      <th>Unnamed: 0</th>\n",
       "      <th>CaseOrder</th>\n",
       "      <th>Customer_id</th>\n",
       "      <th>Interaction</th>\n",
       "      <th>City</th>\n",
       "      <th>State</th>\n",
       "      <th>County</th>\n",
       "      <th>Zip</th>\n",
       "      <th>Lat</th>\n",
       "      <th>Lng</th>\n",
       "      <th>Population</th>\n",
       "      <th>Area</th>\n",
       "      <th>Timezone</th>\n",
       "      <th>Job</th>\n",
       "      <th>Children</th>\n",
       "      <th>Age</th>\n",
       "      <th>Education</th>\n",
       "      <th>Employment</th>\n",
       "      <th>Income</th>\n",
       "      <th>Marital</th>\n",
       "      <th>Gender</th>\n",
       "      <th>Churn</th>\n",
       "      <th>Outage_sec_perweek</th>\n",
       "      <th>Email</th>\n",
       "      <th>Contacts</th>\n",
       "      <th>Yearly_equip_failure</th>\n",
       "      <th>Techie</th>\n",
       "      <th>Contract</th>\n",
       "      <th>Port_modem</th>\n",
       "      <th>Tablet</th>\n",
       "      <th>InternetService</th>\n",
       "      <th>Phone</th>\n",
       "      <th>Multiple</th>\n",
       "      <th>OnlineSecurity</th>\n",
       "      <th>OnlineBackup</th>\n",
       "      <th>DeviceProtection</th>\n",
       "      <th>TechSupport</th>\n",
       "      <th>StreamingTV</th>\n",
       "      <th>StreamingMovies</th>\n",
       "      <th>PaperlessBilling</th>\n",
       "      <th>PaymentMethod</th>\n",
       "      <th>Tenure</th>\n",
       "      <th>MonthlyCharge</th>\n",
       "      <th>Bandwidth_GB_Year</th>\n",
       "      <th>item1</th>\n",
       "      <th>item2</th>\n",
       "      <th>item3</th>\n",
       "      <th>item4</th>\n",
       "      <th>item5</th>\n",
       "      <th>item6</th>\n",
       "      <th>item7</th>\n",
       "      <th>item8</th>\n",
       "    </tr>\n",
       "  </thead>\n",
       "  <tbody>\n",
       "    <tr>\n",
       "      <th>0</th>\n",
       "      <td>1</td>\n",
       "      <td>1</td>\n",
       "      <td>K409198</td>\n",
       "      <td>aa90260b-4141-4a24-8e36-b04ce1f4f77b</td>\n",
       "      <td>Point Baker</td>\n",
       "      <td>AK</td>\n",
       "      <td>Prince of Wales-Hyder</td>\n",
       "      <td>99927</td>\n",
       "      <td>56.25100</td>\n",
       "      <td>-133.37571</td>\n",
       "      <td>38</td>\n",
       "      <td>Urban</td>\n",
       "      <td>America/Sitka</td>\n",
       "      <td>Environmental health practitioner</td>\n",
       "      <td>NaN</td>\n",
       "      <td>68.0</td>\n",
       "      <td>Master's Degree</td>\n",
       "      <td>Part Time</td>\n",
       "      <td>28561.99</td>\n",
       "      <td>Widowed</td>\n",
       "      <td>Male</td>\n",
       "      <td>No</td>\n",
       "      <td>6.972566</td>\n",
       "      <td>10</td>\n",
       "      <td>0</td>\n",
       "      <td>1</td>\n",
       "      <td>No</td>\n",
       "      <td>One year</td>\n",
       "      <td>Yes</td>\n",
       "      <td>Yes</td>\n",
       "      <td>Fiber Optic</td>\n",
       "      <td>Yes</td>\n",
       "      <td>No</td>\n",
       "      <td>Yes</td>\n",
       "      <td>Yes</td>\n",
       "      <td>No</td>\n",
       "      <td>No</td>\n",
       "      <td>No</td>\n",
       "      <td>Yes</td>\n",
       "      <td>Yes</td>\n",
       "      <td>Credit Card (automatic)</td>\n",
       "      <td>6.795513</td>\n",
       "      <td>171.449762</td>\n",
       "      <td>904.536110</td>\n",
       "      <td>5</td>\n",
       "      <td>5</td>\n",
       "      <td>5</td>\n",
       "      <td>3</td>\n",
       "      <td>4</td>\n",
       "      <td>4</td>\n",
       "      <td>3</td>\n",
       "      <td>4</td>\n",
       "    </tr>\n",
       "    <tr>\n",
       "      <th>1</th>\n",
       "      <td>2</td>\n",
       "      <td>2</td>\n",
       "      <td>S120509</td>\n",
       "      <td>fb76459f-c047-4a9d-8af9-e0f7d4ac2524</td>\n",
       "      <td>West Branch</td>\n",
       "      <td>MI</td>\n",
       "      <td>Ogemaw</td>\n",
       "      <td>48661</td>\n",
       "      <td>44.32893</td>\n",
       "      <td>-84.24080</td>\n",
       "      <td>10446</td>\n",
       "      <td>Urban</td>\n",
       "      <td>America/Detroit</td>\n",
       "      <td>Programmer, multimedia</td>\n",
       "      <td>1.0</td>\n",
       "      <td>27.0</td>\n",
       "      <td>Regular High School Diploma</td>\n",
       "      <td>Retired</td>\n",
       "      <td>21704.77</td>\n",
       "      <td>Married</td>\n",
       "      <td>Female</td>\n",
       "      <td>Yes</td>\n",
       "      <td>12.014541</td>\n",
       "      <td>12</td>\n",
       "      <td>0</td>\n",
       "      <td>1</td>\n",
       "      <td>Yes</td>\n",
       "      <td>Month-to-month</td>\n",
       "      <td>No</td>\n",
       "      <td>Yes</td>\n",
       "      <td>Fiber Optic</td>\n",
       "      <td>Yes</td>\n",
       "      <td>Yes</td>\n",
       "      <td>Yes</td>\n",
       "      <td>No</td>\n",
       "      <td>No</td>\n",
       "      <td>No</td>\n",
       "      <td>Yes</td>\n",
       "      <td>Yes</td>\n",
       "      <td>Yes</td>\n",
       "      <td>Bank Transfer(automatic)</td>\n",
       "      <td>1.156681</td>\n",
       "      <td>242.948015</td>\n",
       "      <td>800.982766</td>\n",
       "      <td>3</td>\n",
       "      <td>4</td>\n",
       "      <td>3</td>\n",
       "      <td>3</td>\n",
       "      <td>4</td>\n",
       "      <td>3</td>\n",
       "      <td>4</td>\n",
       "      <td>4</td>\n",
       "    </tr>\n",
       "    <tr>\n",
       "      <th>2</th>\n",
       "      <td>3</td>\n",
       "      <td>3</td>\n",
       "      <td>K191035</td>\n",
       "      <td>344d114c-3736-4be5-98f7-c72c281e2d35</td>\n",
       "      <td>Yamhill</td>\n",
       "      <td>OR</td>\n",
       "      <td>Yamhill</td>\n",
       "      <td>97148</td>\n",
       "      <td>45.35589</td>\n",
       "      <td>-123.24657</td>\n",
       "      <td>3735</td>\n",
       "      <td>Urban</td>\n",
       "      <td>America/Los_Angeles</td>\n",
       "      <td>Chief Financial Officer</td>\n",
       "      <td>4.0</td>\n",
       "      <td>50.0</td>\n",
       "      <td>Regular High School Diploma</td>\n",
       "      <td>Student</td>\n",
       "      <td>NaN</td>\n",
       "      <td>Widowed</td>\n",
       "      <td>Female</td>\n",
       "      <td>No</td>\n",
       "      <td>10.245616</td>\n",
       "      <td>9</td>\n",
       "      <td>0</td>\n",
       "      <td>1</td>\n",
       "      <td>Yes</td>\n",
       "      <td>Two Year</td>\n",
       "      <td>Yes</td>\n",
       "      <td>No</td>\n",
       "      <td>DSL</td>\n",
       "      <td>Yes</td>\n",
       "      <td>Yes</td>\n",
       "      <td>No</td>\n",
       "      <td>No</td>\n",
       "      <td>No</td>\n",
       "      <td>No</td>\n",
       "      <td>No</td>\n",
       "      <td>Yes</td>\n",
       "      <td>Yes</td>\n",
       "      <td>Credit Card (automatic)</td>\n",
       "      <td>15.754144</td>\n",
       "      <td>159.440398</td>\n",
       "      <td>2054.706961</td>\n",
       "      <td>4</td>\n",
       "      <td>4</td>\n",
       "      <td>2</td>\n",
       "      <td>4</td>\n",
       "      <td>4</td>\n",
       "      <td>3</td>\n",
       "      <td>3</td>\n",
       "      <td>3</td>\n",
       "    </tr>\n",
       "    <tr>\n",
       "      <th>3</th>\n",
       "      <td>4</td>\n",
       "      <td>4</td>\n",
       "      <td>D90850</td>\n",
       "      <td>abfa2b40-2d43-4994-b15a-989b8c79e311</td>\n",
       "      <td>Del Mar</td>\n",
       "      <td>CA</td>\n",
       "      <td>San Diego</td>\n",
       "      <td>92014</td>\n",
       "      <td>32.96687</td>\n",
       "      <td>-117.24798</td>\n",
       "      <td>13863</td>\n",
       "      <td>Suburban</td>\n",
       "      <td>America/Los_Angeles</td>\n",
       "      <td>Solicitor</td>\n",
       "      <td>1.0</td>\n",
       "      <td>48.0</td>\n",
       "      <td>Doctorate Degree</td>\n",
       "      <td>Retired</td>\n",
       "      <td>18925.23</td>\n",
       "      <td>Married</td>\n",
       "      <td>Male</td>\n",
       "      <td>No</td>\n",
       "      <td>15.206193</td>\n",
       "      <td>15</td>\n",
       "      <td>2</td>\n",
       "      <td>0</td>\n",
       "      <td>Yes</td>\n",
       "      <td>Two Year</td>\n",
       "      <td>No</td>\n",
       "      <td>No</td>\n",
       "      <td>DSL</td>\n",
       "      <td>Yes</td>\n",
       "      <td>No</td>\n",
       "      <td>Yes</td>\n",
       "      <td>No</td>\n",
       "      <td>No</td>\n",
       "      <td>No</td>\n",
       "      <td>Yes</td>\n",
       "      <td>No</td>\n",
       "      <td>Yes</td>\n",
       "      <td>Mailed Check</td>\n",
       "      <td>17.087227</td>\n",
       "      <td>120.249493</td>\n",
       "      <td>2164.579412</td>\n",
       "      <td>4</td>\n",
       "      <td>4</td>\n",
       "      <td>4</td>\n",
       "      <td>2</td>\n",
       "      <td>5</td>\n",
       "      <td>4</td>\n",
       "      <td>3</td>\n",
       "      <td>3</td>\n",
       "    </tr>\n",
       "    <tr>\n",
       "      <th>4</th>\n",
       "      <td>5</td>\n",
       "      <td>5</td>\n",
       "      <td>K662701</td>\n",
       "      <td>68a861fd-0d20-4e51-a587-8a90407ee574</td>\n",
       "      <td>Needville</td>\n",
       "      <td>TX</td>\n",
       "      <td>Fort Bend</td>\n",
       "      <td>77461</td>\n",
       "      <td>29.38012</td>\n",
       "      <td>-95.80673</td>\n",
       "      <td>11352</td>\n",
       "      <td>Suburban</td>\n",
       "      <td>America/Chicago</td>\n",
       "      <td>Medical illustrator</td>\n",
       "      <td>0.0</td>\n",
       "      <td>83.0</td>\n",
       "      <td>Master's Degree</td>\n",
       "      <td>Student</td>\n",
       "      <td>40074.19</td>\n",
       "      <td>Separated</td>\n",
       "      <td>Male</td>\n",
       "      <td>Yes</td>\n",
       "      <td>8.960316</td>\n",
       "      <td>16</td>\n",
       "      <td>2</td>\n",
       "      <td>1</td>\n",
       "      <td>No</td>\n",
       "      <td>Month-to-month</td>\n",
       "      <td>Yes</td>\n",
       "      <td>No</td>\n",
       "      <td>Fiber Optic</td>\n",
       "      <td>No</td>\n",
       "      <td>No</td>\n",
       "      <td>No</td>\n",
       "      <td>No</td>\n",
       "      <td>No</td>\n",
       "      <td>Yes</td>\n",
       "      <td>Yes</td>\n",
       "      <td>No</td>\n",
       "      <td>No</td>\n",
       "      <td>Mailed Check</td>\n",
       "      <td>1.670972</td>\n",
       "      <td>150.761216</td>\n",
       "      <td>271.493436</td>\n",
       "      <td>4</td>\n",
       "      <td>4</td>\n",
       "      <td>4</td>\n",
       "      <td>3</td>\n",
       "      <td>4</td>\n",
       "      <td>4</td>\n",
       "      <td>4</td>\n",
       "      <td>5</td>\n",
       "    </tr>\n",
       "  </tbody>\n",
       "</table>\n",
       "</div>"
      ],
      "text/plain": [
       "   Unnamed: 0  CaseOrder Customer_id                           Interaction  \\\n",
       "0           1          1     K409198  aa90260b-4141-4a24-8e36-b04ce1f4f77b   \n",
       "1           2          2     S120509  fb76459f-c047-4a9d-8af9-e0f7d4ac2524   \n",
       "2           3          3     K191035  344d114c-3736-4be5-98f7-c72c281e2d35   \n",
       "3           4          4      D90850  abfa2b40-2d43-4994-b15a-989b8c79e311   \n",
       "4           5          5     K662701  68a861fd-0d20-4e51-a587-8a90407ee574   \n",
       "\n",
       "          City State                 County    Zip       Lat        Lng  \\\n",
       "0  Point Baker    AK  Prince of Wales-Hyder  99927  56.25100 -133.37571   \n",
       "1  West Branch    MI                 Ogemaw  48661  44.32893  -84.24080   \n",
       "2      Yamhill    OR                Yamhill  97148  45.35589 -123.24657   \n",
       "3      Del Mar    CA              San Diego  92014  32.96687 -117.24798   \n",
       "4    Needville    TX              Fort Bend  77461  29.38012  -95.80673   \n",
       "\n",
       "   Population      Area             Timezone  \\\n",
       "0          38     Urban        America/Sitka   \n",
       "1       10446     Urban      America/Detroit   \n",
       "2        3735     Urban  America/Los_Angeles   \n",
       "3       13863  Suburban  America/Los_Angeles   \n",
       "4       11352  Suburban      America/Chicago   \n",
       "\n",
       "                                 Job  Children   Age  \\\n",
       "0  Environmental health practitioner       NaN  68.0   \n",
       "1             Programmer, multimedia       1.0  27.0   \n",
       "2            Chief Financial Officer       4.0  50.0   \n",
       "3                          Solicitor       1.0  48.0   \n",
       "4                Medical illustrator       0.0  83.0   \n",
       "\n",
       "                     Education Employment    Income    Marital  Gender Churn  \\\n",
       "0              Master's Degree  Part Time  28561.99    Widowed    Male    No   \n",
       "1  Regular High School Diploma    Retired  21704.77    Married  Female   Yes   \n",
       "2  Regular High School Diploma    Student       NaN    Widowed  Female    No   \n",
       "3             Doctorate Degree    Retired  18925.23    Married    Male    No   \n",
       "4              Master's Degree    Student  40074.19  Separated    Male   Yes   \n",
       "\n",
       "   Outage_sec_perweek  Email  Contacts  Yearly_equip_failure Techie  \\\n",
       "0            6.972566     10         0                     1     No   \n",
       "1           12.014541     12         0                     1    Yes   \n",
       "2           10.245616      9         0                     1    Yes   \n",
       "3           15.206193     15         2                     0    Yes   \n",
       "4            8.960316     16         2                     1     No   \n",
       "\n",
       "         Contract Port_modem Tablet InternetService Phone Multiple  \\\n",
       "0        One year        Yes    Yes     Fiber Optic   Yes       No   \n",
       "1  Month-to-month         No    Yes     Fiber Optic   Yes      Yes   \n",
       "2        Two Year        Yes     No             DSL   Yes      Yes   \n",
       "3        Two Year         No     No             DSL   Yes       No   \n",
       "4  Month-to-month        Yes     No     Fiber Optic    No       No   \n",
       "\n",
       "  OnlineSecurity OnlineBackup DeviceProtection TechSupport StreamingTV  \\\n",
       "0            Yes          Yes               No          No          No   \n",
       "1            Yes           No               No          No         Yes   \n",
       "2             No           No               No          No          No   \n",
       "3            Yes           No               No          No         Yes   \n",
       "4             No           No               No         Yes         Yes   \n",
       "\n",
       "  StreamingMovies PaperlessBilling             PaymentMethod     Tenure  \\\n",
       "0             Yes              Yes   Credit Card (automatic)   6.795513   \n",
       "1             Yes              Yes  Bank Transfer(automatic)   1.156681   \n",
       "2             Yes              Yes   Credit Card (automatic)  15.754144   \n",
       "3              No              Yes              Mailed Check  17.087227   \n",
       "4              No               No              Mailed Check   1.670972   \n",
       "\n",
       "   MonthlyCharge  Bandwidth_GB_Year  item1  item2  item3  item4  item5  item6  \\\n",
       "0     171.449762         904.536110      5      5      5      3      4      4   \n",
       "1     242.948015         800.982766      3      4      3      3      4      3   \n",
       "2     159.440398        2054.706961      4      4      2      4      4      3   \n",
       "3     120.249493        2164.579412      4      4      4      2      5      4   \n",
       "4     150.761216         271.493436      4      4      4      3      4      4   \n",
       "\n",
       "   item7  item8  \n",
       "0      3      4  \n",
       "1      4      4  \n",
       "2      3      3  \n",
       "3      3      3  \n",
       "4      4      5  "
      ]
     },
     "execution_count": 23,
     "metadata": {},
     "output_type": "execute_result"
    }
   ],
   "source": [
    "#verify copy worked as expected, 52 features\n",
    "df_clean.head()"
   ]
  },
  {
   "cell_type": "code",
   "execution_count": 24,
   "metadata": {
    "collapsed": false,
    "jupyter": {
     "outputs_hidden": false
    },
    "pycharm": {
     "name": "#%%\n"
    }
   },
   "outputs": [
    {
     "data": {
      "text/plain": [
       "(10000, 52)"
      ]
     },
     "execution_count": 24,
     "metadata": {},
     "output_type": "execute_result"
    }
   ],
   "source": [
    "df_clean.shape"
   ]
  },
  {
   "cell_type": "code",
   "execution_count": 25,
   "metadata": {
    "collapsed": false,
    "jupyter": {
     "outputs_hidden": false
    },
    "pycharm": {
     "name": "#%%\n"
    }
   },
   "outputs": [
    {
     "data": {
      "text/plain": [
       "Index(['Unnamed: 0', 'CaseOrder', 'Customer_id', 'Interaction', 'City',\n",
       "       'State', 'County', 'Zip', 'Lat', 'Lng', 'Population', 'Area',\n",
       "       'Timezone', 'Job', 'Children', 'Age', 'Education', 'Employment',\n",
       "       'Income', 'Marital', 'Gender', 'Churn', 'Outage_sec_perweek', 'Email',\n",
       "       'Contacts', 'Yearly_equip_failure', 'Techie', 'Contract', 'Port_modem',\n",
       "       'Tablet', 'InternetService', 'Phone', 'Multiple', 'OnlineSecurity',\n",
       "       'OnlineBackup', 'DeviceProtection', 'TechSupport', 'StreamingTV',\n",
       "       'StreamingMovies', 'PaperlessBilling', 'PaymentMethod', 'Tenure',\n",
       "       'MonthlyCharge', 'Bandwidth_GB_Year', 'item1', 'item2', 'item3',\n",
       "       'item4', 'item5', 'item6', 'item7', 'item8'],\n",
       "      dtype='object')"
      ]
     },
     "execution_count": 25,
     "metadata": {},
     "output_type": "execute_result"
    }
   ],
   "source": [
    "df_clean.columns"
   ]
  },
  {
   "cell_type": "markdown",
   "metadata": {
    "pycharm": {
     "name": "#%% md\n"
    }
   },
   "source": [
    "#### Issue 1\n",
    "\n",
    "Change ZIP, Lat and Lng from number type to string using the inplace and astype function. These features functions as labels and not as numeric fields designed for calculations#"
   ]
  },
  {
   "cell_type": "code",
   "execution_count": 26,
   "metadata": {
    "collapsed": false,
    "jupyter": {
     "outputs_hidden": false
    },
    "pycharm": {
     "name": "#%%\n"
    }
   },
   "outputs": [],
   "source": [
    "str_columns = ['Zip', 'Lat', 'Lng']\n",
    "df_clean[str_columns] = df_clean[str_columns].astype(str)"
   ]
  },
  {
   "cell_type": "code",
   "execution_count": 27,
   "metadata": {
    "collapsed": false,
    "jupyter": {
     "outputs_hidden": false
    },
    "pycharm": {
     "name": "#%%\n"
    }
   },
   "outputs": [
    {
     "data": {
      "text/plain": [
       "dtype('O')"
      ]
     },
     "execution_count": 27,
     "metadata": {},
     "output_type": "execute_result"
    }
   ],
   "source": [
    "# Test should return 'O' for Numpy object. Strings are Numpy Objects. Since the above gave no error, only one feature needs to be tested\n",
    "df_clean['Zip'].dtype"
   ]
  },
  {
   "cell_type": "markdown",
   "metadata": {
    "pycharm": {
     "name": "#%% md\n"
    }
   },
   "source": [
    "##### Issue 2\n",
    "\n",
    "Outages should never be negative numbers. These items can be dropped or set to 0 depending on the amount of values with errors. Another approach could be to set the values to their absolute value but that would require more insight on  how the data was collected that is unpresent."
   ]
  },
  {
   "cell_type": "code",
   "execution_count": 28,
   "metadata": {
    "collapsed": false,
    "jupyter": {
     "outputs_hidden": false
    },
    "pycharm": {
     "name": "#%%\n"
    }
   },
   "outputs": [
    {
     "data": {
      "text/plain": [
       "count    10000.000000\n",
       "mean        11.452955\n",
       "std          7.025921\n",
       "min         -1.348571\n",
       "25%          8.054362\n",
       "50%         10.202896\n",
       "75%         12.487644\n",
       "max         47.049280\n",
       "Name: Outage_sec_perweek, dtype: float64"
      ]
     },
     "execution_count": 28,
     "metadata": {},
     "output_type": "execute_result"
    }
   ],
   "source": [
    "#Descriptive statistics to see outlier\n",
    "df_clean['Outage_sec_perweek'].describe()"
   ]
  },
  {
   "cell_type": "code",
   "execution_count": 29,
   "metadata": {
    "collapsed": false,
    "jupyter": {
     "outputs_hidden": false
    },
    "pycharm": {
     "name": "#%%\n"
    }
   },
   "outputs": [
    {
     "data": {
      "text/plain": [
       "(11, 52)"
      ]
     },
     "execution_count": 29,
     "metadata": {},
     "output_type": "execute_result"
    }
   ],
   "source": [
    "# to determine dataloss risk, shape is used her to get the length of negative values\n",
    "df_clean[df_clean['Outage_sec_perweek'] < 0].shape"
   ]
  },
  {
   "cell_type": "markdown",
   "metadata": {
    "pycharm": {
     "name": "#%% md\n"
    }
   },
   "source": [
    "At only 11 values, there would be more data loss for deleting these rows than setting them to 0."
   ]
  },
  {
   "cell_type": "code",
   "execution_count": 30,
   "metadata": {
    "collapsed": false,
    "jupyter": {
     "outputs_hidden": false
    },
    "pycharm": {
     "name": "#%%\n"
    }
   },
   "outputs": [],
   "source": [
    "# Use subframe replacement to set negatives to 0\n",
    "df_clean['Outage_sec_perweek'][df_clean['Outage_sec_perweek'] < 0] = 0"
   ]
  },
  {
   "cell_type": "code",
   "execution_count": 31,
   "metadata": {
    "collapsed": false,
    "jupyter": {
     "outputs_hidden": false
    },
    "pycharm": {
     "name": "#%%\n"
    }
   },
   "outputs": [
    {
     "data": {
      "text/plain": [
       "0.0"
      ]
     },
     "execution_count": 31,
     "metadata": {},
     "output_type": "execute_result"
    }
   ],
   "source": [
    "# unit test\n",
    "# If min = 0, this section has been appropirately cleaned\n",
    "df_clean['Outage_sec_perweek'].min()"
   ]
  },
  {
   "cell_type": "markdown",
   "metadata": {
    "pycharm": {
     "name": "#%% md\n"
    }
   },
   "source": [
    "##### Issue 2\n",
    "\n",
    "Impute numerical nulls with appropriate values"
   ]
  },
  {
   "cell_type": "code",
   "execution_count": 32,
   "metadata": {
    "collapsed": false,
    "jupyter": {
     "outputs_hidden": false
    },
    "pycharm": {
     "name": "#%%\n"
    }
   },
   "outputs": [],
   "source": [
    "# list of numeric columns with nulls. All columns are continuos with the exception of `Children` which is discrete\n",
    "num_cols = ['Children', 'Income', 'Age', 'Tenure', 'Bandwidth_GB_Year']"
   ]
  },
  {
   "cell_type": "code",
   "execution_count": 33,
   "metadata": {
    "collapsed": false,
    "jupyter": {
     "outputs_hidden": false
    },
    "pycharm": {
     "name": "#%%\n"
    }
   },
   "outputs": [
    {
     "data": {
      "text/html": [
       "<div>\n",
       "<style scoped>\n",
       "    .dataframe tbody tr th:only-of-type {\n",
       "        vertical-align: middle;\n",
       "    }\n",
       "\n",
       "    .dataframe tbody tr th {\n",
       "        vertical-align: top;\n",
       "    }\n",
       "\n",
       "    .dataframe thead th {\n",
       "        text-align: right;\n",
       "    }\n",
       "</style>\n",
       "<table border=\"1\" class=\"dataframe\">\n",
       "  <thead>\n",
       "    <tr style=\"text-align: right;\">\n",
       "      <th></th>\n",
       "      <th>Children</th>\n",
       "      <th>Income</th>\n",
       "      <th>Age</th>\n",
       "      <th>Tenure</th>\n",
       "      <th>Bandwidth_GB_Year</th>\n",
       "    </tr>\n",
       "  </thead>\n",
       "  <tbody>\n",
       "    <tr>\n",
       "      <th>count</th>\n",
       "      <td>7505.000000</td>\n",
       "      <td>7510.000000</td>\n",
       "      <td>7525.000000</td>\n",
       "      <td>9069.000000</td>\n",
       "      <td>8979.000000</td>\n",
       "    </tr>\n",
       "    <tr>\n",
       "      <th>mean</th>\n",
       "      <td>2.095936</td>\n",
       "      <td>39936.762226</td>\n",
       "      <td>53.275748</td>\n",
       "      <td>34.498858</td>\n",
       "      <td>3398.842752</td>\n",
       "    </tr>\n",
       "    <tr>\n",
       "      <th>std</th>\n",
       "      <td>2.154758</td>\n",
       "      <td>28358.469482</td>\n",
       "      <td>20.753928</td>\n",
       "      <td>26.438904</td>\n",
       "      <td>2187.396807</td>\n",
       "    </tr>\n",
       "    <tr>\n",
       "      <th>min</th>\n",
       "      <td>0.000000</td>\n",
       "      <td>740.660000</td>\n",
       "      <td>18.000000</td>\n",
       "      <td>1.000259</td>\n",
       "      <td>155.506715</td>\n",
       "    </tr>\n",
       "    <tr>\n",
       "      <th>25%</th>\n",
       "      <td>0.000000</td>\n",
       "      <td>19285.522500</td>\n",
       "      <td>35.000000</td>\n",
       "      <td>7.890442</td>\n",
       "      <td>1234.110529</td>\n",
       "    </tr>\n",
       "    <tr>\n",
       "      <th>50%</th>\n",
       "      <td>1.000000</td>\n",
       "      <td>33186.785000</td>\n",
       "      <td>53.000000</td>\n",
       "      <td>36.196030</td>\n",
       "      <td>3382.424000</td>\n",
       "    </tr>\n",
       "    <tr>\n",
       "      <th>75%</th>\n",
       "      <td>3.000000</td>\n",
       "      <td>53472.395000</td>\n",
       "      <td>71.000000</td>\n",
       "      <td>61.426670</td>\n",
       "      <td>5587.096500</td>\n",
       "    </tr>\n",
       "    <tr>\n",
       "      <th>max</th>\n",
       "      <td>10.000000</td>\n",
       "      <td>258900.700000</td>\n",
       "      <td>89.000000</td>\n",
       "      <td>71.999280</td>\n",
       "      <td>7158.982000</td>\n",
       "    </tr>\n",
       "  </tbody>\n",
       "</table>\n",
       "</div>"
      ],
      "text/plain": [
       "          Children         Income          Age       Tenure  Bandwidth_GB_Year\n",
       "count  7505.000000    7510.000000  7525.000000  9069.000000        8979.000000\n",
       "mean      2.095936   39936.762226    53.275748    34.498858        3398.842752\n",
       "std       2.154758   28358.469482    20.753928    26.438904        2187.396807\n",
       "min       0.000000     740.660000    18.000000     1.000259         155.506715\n",
       "25%       0.000000   19285.522500    35.000000     7.890442        1234.110529\n",
       "50%       1.000000   33186.785000    53.000000    36.196030        3382.424000\n",
       "75%       3.000000   53472.395000    71.000000    61.426670        5587.096500\n",
       "max      10.000000  258900.700000    89.000000    71.999280        7158.982000"
      ]
     },
     "execution_count": 33,
     "metadata": {},
     "output_type": "execute_result"
    }
   ],
   "source": [
    "# Use Pandas descritpive statistics to get a breakdown of the columns\n",
    "df_clean[num_cols].describe()"
   ]
  },
  {
   "cell_type": "code",
   "execution_count": 34,
   "metadata": {
    "collapsed": false,
    "jupyter": {
     "outputs_hidden": false
    },
    "pycharm": {
     "name": "#%%\n"
    }
   },
   "outputs": [
    {
     "data": {
      "image/png": "[encoded data removed]",
      "text/plain": [
       "<Figure size 432x288 with 1 Axes>"
      ]
     },
     "metadata": {
      "needs_background": "light"
     },
     "output_type": "display_data"
    },
    {
     "data": {
      "image/png": "[encoded data removed]",
      "text/plain": [
       "<Figure size 432x288 with 1 Axes>"
      ]
     },
     "metadata": {
      "needs_background": "light"
     },
     "output_type": "display_data"
    },
    {
     "data": {
      "image/png": "[encoded data removed]",
      "text/plain": [
       "<Figure size 432x288 with 1 Axes>"
      ]
     },
     "metadata": {
      "needs_background": "light"
     },
     "output_type": "display_data"
    },
    {
     "data": {
      "image/png": "[encoded data removed]",
      "text/plain": [
       "<Figure size 432x288 with 1 Axes>"
      ]
     },
     "metadata": {
      "needs_background": "light"
     },
     "output_type": "display_data"
    },
    {
     "data": {
      "image/png": "[encoded data removed]",
      "text/plain": [
       "<Figure size 432x288 with 1 Axes>"
      ]
     },
     "metadata": {
      "needs_background": "light"
     },
     "output_type": "display_data"
    }
   ],
   "source": [
    "#visualize distributions via histogram\n",
    "for i, col in enumerate(raw_churn[num_cols]):\n",
    "    try:\n",
    "        plt.figure(i)\n",
    "        sns.histplot(raw_churn[col][raw_churn[col]>0], kde=True)\n",
    "    except Exception:\n",
    "        pass"
   ]
  },
  {
   "cell_type": "code",
   "execution_count": 35,
   "metadata": {
    "collapsed": false,
    "jupyter": {
     "outputs_hidden": false
    },
    "pycharm": {
     "name": "#%%\n"
    }
   },
   "outputs": [
    {
     "data": {
      "image/png": "[encoded data removed]",
      "text/plain": [
       "<Figure size 432x288 with 1 Axes>"
      ]
     },
     "metadata": {
      "needs_background": "light"
     },
     "output_type": "display_data"
    },
    {
     "data": {
      "image/png": "[encoded data removed]",
      "text/plain": [
       "<Figure size 432x288 with 1 Axes>"
      ]
     },
     "metadata": {
      "needs_background": "light"
     },
     "output_type": "display_data"
    },
    {
     "data": {
      "image/png": "[encoded data removed]",
      "text/plain": [
       "<Figure size 432x288 with 1 Axes>"
      ]
     },
     "metadata": {
      "needs_background": "light"
     },
     "output_type": "display_data"
    },
    {
     "data": {
      "image/png": "[encoded data removed]",
      "text/plain": [
       "<Figure size 432x288 with 1 Axes>"
      ]
     },
     "metadata": {
      "needs_background": "light"
     },
     "output_type": "display_data"
    },
    {
     "data": {
      "image/png": "[encoded data removed]",
      "text/plain": [
       "<Figure size 432x288 with 1 Axes>"
      ]
     },
     "metadata": {
      "needs_background": "light"
     },
     "output_type": "display_data"
    }
   ],
   "source": [
    "#visualize via boxplots\n",
    "for i, col in enumerate(raw_churn[num_cols]):\n",
    "    try:\n",
    "        plt.figure(i)\n",
    "        sns.boxplot(raw_churn[col][raw_churn[col]>0])\n",
    "    except Exception:\n",
    "        pass"
   ]
  },
  {
   "cell_type": "markdown",
   "metadata": {
    "pycharm": {
     "name": "#%% md\n"
    }
   },
   "source": [
    "Children and Income have a skewed normal distribution. Distributions that are skewed should be imputed with the median to reduce variance introduced via imputation in the dataset. (IBM, 2021)"
   ]
  },
  {
   "cell_type": "code",
   "execution_count": 36,
   "metadata": {
    "collapsed": false,
    "jupyter": {
     "outputs_hidden": false
    },
    "pycharm": {
     "name": "#%%\n"
    }
   },
   "outputs": [],
   "source": [
    "# list for imputation\n",
    "impute_median_cols = ['Children', \"Income\"]\n",
    "\n",
    "# inplace replacement of null values\n",
    "for col in impute_median_cols:\n",
    "    df_clean[col].fillna(df_clean[col].median(), inplace = True)"
   ]
  },
  {
   "cell_type": "code",
   "execution_count": 37,
   "metadata": {
    "collapsed": false,
    "jupyter": {
     "outputs_hidden": false
    },
    "pycharm": {
     "name": "#%%\n"
    }
   },
   "outputs": [
    {
     "data": {
      "text/plain": [
       "Children    0\n",
       "Income      0\n",
       "dtype: int64"
      ]
     },
     "execution_count": 37,
     "metadata": {},
     "output_type": "execute_result"
    }
   ],
   "source": [
    "# Unit test, should return 0\n",
    "df_clean[impute_median_cols].isna().sum()"
   ]
  },
  {
   "cell_type": "markdown",
   "metadata": {
    "pycharm": {
     "name": "#%% md\n"
    }
   },
   "source": [
    "Age has an even distriubtion. Due to the large size of data here, any number in the range of the dataset is likely to be here. The proper imputation technique for this distribution is random choice from the current dataset."
   ]
  },
  {
   "cell_type": "code",
   "execution_count": 38,
   "metadata": {
    "collapsed": false,
    "jupyter": {
     "outputs_hidden": false
    },
    "pycharm": {
     "name": "#%%\n"
    }
   },
   "outputs": [],
   "source": [
    "# setting random seed for reproducibility\n",
    "random.seed(42069)\n",
    "\n",
    "# Turning current ages present into a list\n",
    "age_list = df_clean[\"Age\"][df_clean['Age'].notna()].to_list()"
   ]
  },
  {
   "cell_type": "code",
   "execution_count": 39,
   "metadata": {
    "collapsed": false,
    "jupyter": {
     "outputs_hidden": false
    },
    "pycharm": {
     "name": "#%%\n"
    }
   },
   "outputs": [],
   "source": [
    "#use random.choice to assign ages from the distribution\n",
    "df_clean['Age'].fillna(pd.Series(np.random.choice(age_list, size=len(df_clean.index))), inplace=True)"
   ]
  },
  {
   "cell_type": "code",
   "execution_count": 40,
   "metadata": {
    "collapsed": false,
    "jupyter": {
     "outputs_hidden": false
    },
    "pycharm": {
     "name": "#%%\n"
    }
   },
   "outputs": [
    {
     "data": {
      "text/plain": [
       "(0, 0.0)"
      ]
     },
     "execution_count": 40,
     "metadata": {},
     "output_type": "execute_result"
    }
   ],
   "source": [
    "#unit test\n",
    "df_clean['Age'].isna().sum(), df_clean['Age'][df_clean['Age'] == 0].sum()"
   ]
  },
  {
   "attachments": {},
   "cell_type": "markdown",
   "metadata": {
    "pycharm": {
     "name": "#%% md\n"
    }
   },
   "source": [
    "`Bandwidth_GB_Year` and `Tenure` have a bimodal distribution. With the large sample size, random choice from the dataset is the best imputation technique."
   ]
  },
  {
   "cell_type": "code",
   "execution_count": 41,
   "metadata": {
    "collapsed": false,
    "jupyter": {
     "outputs_hidden": false
    },
    "pycharm": {
     "name": "#%%\n"
    }
   },
   "outputs": [],
   "source": [
    "# set columns for cleaning\n",
    "bimodal_cols = ['Bandwidth_GB_Year', 'Tenure']"
   ]
  },
  {
   "cell_type": "code",
   "execution_count": 42,
   "metadata": {
    "collapsed": false,
    "jupyter": {
     "outputs_hidden": false
    },
    "pycharm": {
     "name": "#%%\n"
    }
   },
   "outputs": [],
   "source": [
    "for col in bimodal_cols:\n",
    "    df_clean[col].fillna(pd.Series(np.random.choice(df_clean[col][df_clean[col] > 0], size=len(df_clean.index))), inplace=True)"
   ]
  },
  {
   "cell_type": "code",
   "execution_count": 43,
   "metadata": {
    "collapsed": false,
    "jupyter": {
     "outputs_hidden": false
    },
    "pycharm": {
     "name": "#%%\n"
    }
   },
   "outputs": [
    {
     "data": {
      "text/plain": [
       "Bandwidth_GB_Year    0\n",
       "Tenure               0\n",
       "dtype: int64"
      ]
     },
     "execution_count": 43,
     "metadata": {},
     "output_type": "execute_result"
    }
   ],
   "source": [
    "# Unit test\n",
    "# sum of nulls should return 0\n",
    "\n",
    "df_clean[bimodal_cols].isna().sum()"
   ]
  },
  {
   "cell_type": "markdown",
   "metadata": {
    "pycharm": {
     "name": "#%% md\n"
    }
   },
   "source": [
    "##### Issue 3\n",
    "\n",
    "Categorical variables, ['Techie', 'Phone', 'TechSupport'], have missing values\n",
    "\n",
    "These missing items will be set to \"No\" as `Techie` is an identification the customer provides and no data affirms the user is a techie. `Phone` and `TechSupport` will also be set to No as there is no indication otherwise."
   ]
  },
  {
   "cell_type": "code",
   "execution_count": 44,
   "metadata": {
    "collapsed": false,
    "jupyter": {
     "outputs_hidden": false
    },
    "pycharm": {
     "name": "#%%\n"
    }
   },
   "outputs": [],
   "source": [
    "# list to set variables\n",
    "cat_nulls = ['Techie', 'Phone', 'TechSupport']"
   ]
  },
  {
   "cell_type": "code",
   "execution_count": 45,
   "metadata": {
    "collapsed": false,
    "jupyter": {
     "outputs_hidden": false
    },
    "pycharm": {
     "name": "#%%\n"
    }
   },
   "outputs": [
    {
     "name": "stdout",
     "output_type": "stream",
     "text": [
      "No     6266\n",
      "Yes    1257\n",
      "Name: Techie, dtype: int64 10000\n",
      "Yes    8128\n",
      "No      846\n",
      "Name: Phone, dtype: int64 10000\n",
      "No     5635\n",
      "Yes    3374\n",
      "Name: TechSupport, dtype: int64 10000\n"
     ]
    }
   ],
   "source": [
    "#ensure values are to be Yes/No as expected\n",
    "\n",
    "for col in cat_nulls:\n",
    "    print(df_clean[col].value_counts(), len(df_clean[col]))"
   ]
  },
  {
   "cell_type": "code",
   "execution_count": 46,
   "metadata": {
    "collapsed": false,
    "jupyter": {
     "outputs_hidden": false
    },
    "pycharm": {
     "name": "#%%\n"
    }
   },
   "outputs": [
    {
     "name": "stdout",
     "output_type": "stream",
     "text": [
      "No     8743\n",
      "Yes    1257\n",
      "Name: Techie, dtype: int64 10000\n",
      "Yes    8128\n",
      "No     1872\n",
      "Name: Phone, dtype: int64 10000\n",
      "No     6626\n",
      "Yes    3374\n",
      "Name: TechSupport, dtype: int64 10000\n"
     ]
    }
   ],
   "source": [
    "#fill na\n",
    "\n",
    "for col in cat_nulls:\n",
    "    df_clean[col].fillna('No', inplace=True)\n",
    "    #built in unit test\n",
    "    print(df_clean[col].value_counts(), len(df_clean[col]))"
   ]
  },
  {
   "cell_type": "markdown",
   "metadata": {
    "pycharm": {
     "name": "#%% md\n"
    }
   },
   "source": [
    "##### Issue 4\n",
    "\n",
    "Empty unnamed first column that corresponds to index should be dropped and Case Order should be set to index\n",
    "\n",
    "Using drop and set index, a proper index well be made. This de-dupes data and structures it better."
   ]
  },
  {
   "cell_type": "code",
   "execution_count": 47,
   "metadata": {
    "collapsed": false,
    "jupyter": {
     "outputs_hidden": false
    },
    "pycharm": {
     "name": "#%%\n"
    }
   },
   "outputs": [
    {
     "data": {
      "text/html": [
       "<div>\n",
       "<style scoped>\n",
       "    .dataframe tbody tr th:only-of-type {\n",
       "        vertical-align: middle;\n",
       "    }\n",
       "\n",
       "    .dataframe tbody tr th {\n",
       "        vertical-align: top;\n",
       "    }\n",
       "\n",
       "    .dataframe thead th {\n",
       "        text-align: right;\n",
       "    }\n",
       "</style>\n",
       "<table border=\"1\" class=\"dataframe\">\n",
       "  <thead>\n",
       "    <tr style=\"text-align: right;\">\n",
       "      <th></th>\n",
       "      <th>Unnamed: 0</th>\n",
       "    </tr>\n",
       "  </thead>\n",
       "  <tbody>\n",
       "    <tr>\n",
       "      <th>0</th>\n",
       "      <td>1</td>\n",
       "    </tr>\n",
       "    <tr>\n",
       "      <th>1</th>\n",
       "      <td>2</td>\n",
       "    </tr>\n",
       "    <tr>\n",
       "      <th>2</th>\n",
       "      <td>3</td>\n",
       "    </tr>\n",
       "    <tr>\n",
       "      <th>3</th>\n",
       "      <td>4</td>\n",
       "    </tr>\n",
       "    <tr>\n",
       "      <th>4</th>\n",
       "      <td>5</td>\n",
       "    </tr>\n",
       "  </tbody>\n",
       "</table>\n",
       "</div>"
      ],
      "text/plain": [
       "   Unnamed: 0\n",
       "0           1\n",
       "1           2\n",
       "2           3\n",
       "3           4\n",
       "4           5"
      ]
     },
     "execution_count": 47,
     "metadata": {},
     "output_type": "execute_result"
    }
   ],
   "source": [
    "# View Unnamed column\n",
    "df_clean.iloc[:, 0:1].head()"
   ]
  },
  {
   "cell_type": "code",
   "execution_count": 48,
   "metadata": {
    "collapsed": false,
    "jupyter": {
     "outputs_hidden": false
    },
    "pycharm": {
     "name": "#%%\n"
    }
   },
   "outputs": [],
   "source": [
    "# Drop column inplace\n",
    "df_clean.drop(df_clean.columns[0],axis=1,inplace=True)"
   ]
  },
  {
   "cell_type": "code",
   "execution_count": 49,
   "metadata": {
    "collapsed": false,
    "jupyter": {
     "outputs_hidden": false
    },
    "pycharm": {
     "name": "#%%\n"
    }
   },
   "outputs": [],
   "source": [
    "# drop and reset index\n",
    "df_clean = df_clean.reset_index(drop=True)\n",
    "df_clean.set_index('CaseOrder', inplace=True)"
   ]
  },
  {
   "cell_type": "code",
   "execution_count": 50,
   "metadata": {
    "collapsed": false,
    "jupyter": {
     "outputs_hidden": false
    },
    "pycharm": {
     "name": "#%%\n"
    }
   },
   "outputs": [
    {
     "data": {
      "text/html": [
       "<div>\n",
       "<style scoped>\n",
       "    .dataframe tbody tr th:only-of-type {\n",
       "        vertical-align: middle;\n",
       "    }\n",
       "\n",
       "    .dataframe tbody tr th {\n",
       "        vertical-align: top;\n",
       "    }\n",
       "\n",
       "    .dataframe thead th {\n",
       "        text-align: right;\n",
       "    }\n",
       "</style>\n",
       "<table border=\"1\" class=\"dataframe\">\n",
       "  <thead>\n",
       "    <tr style=\"text-align: right;\">\n",
       "      <th></th>\n",
       "      <th>Customer_id</th>\n",
       "      <th>Interaction</th>\n",
       "      <th>City</th>\n",
       "      <th>State</th>\n",
       "      <th>County</th>\n",
       "      <th>Zip</th>\n",
       "      <th>Lat</th>\n",
       "      <th>Lng</th>\n",
       "      <th>Population</th>\n",
       "      <th>Area</th>\n",
       "      <th>Timezone</th>\n",
       "      <th>Job</th>\n",
       "      <th>Children</th>\n",
       "      <th>Age</th>\n",
       "      <th>Education</th>\n",
       "      <th>Employment</th>\n",
       "      <th>Income</th>\n",
       "      <th>Marital</th>\n",
       "      <th>Gender</th>\n",
       "      <th>Churn</th>\n",
       "      <th>Outage_sec_perweek</th>\n",
       "      <th>Email</th>\n",
       "      <th>Contacts</th>\n",
       "      <th>Yearly_equip_failure</th>\n",
       "      <th>Techie</th>\n",
       "      <th>Contract</th>\n",
       "      <th>Port_modem</th>\n",
       "      <th>Tablet</th>\n",
       "      <th>InternetService</th>\n",
       "      <th>Phone</th>\n",
       "      <th>Multiple</th>\n",
       "      <th>OnlineSecurity</th>\n",
       "      <th>OnlineBackup</th>\n",
       "      <th>DeviceProtection</th>\n",
       "      <th>TechSupport</th>\n",
       "      <th>StreamingTV</th>\n",
       "      <th>StreamingMovies</th>\n",
       "      <th>PaperlessBilling</th>\n",
       "      <th>PaymentMethod</th>\n",
       "      <th>Tenure</th>\n",
       "      <th>MonthlyCharge</th>\n",
       "      <th>Bandwidth_GB_Year</th>\n",
       "      <th>item1</th>\n",
       "      <th>item2</th>\n",
       "      <th>item3</th>\n",
       "      <th>item4</th>\n",
       "      <th>item5</th>\n",
       "      <th>item6</th>\n",
       "      <th>item7</th>\n",
       "      <th>item8</th>\n",
       "    </tr>\n",
       "    <tr>\n",
       "      <th>CaseOrder</th>\n",
       "      <th></th>\n",
       "      <th></th>\n",
       "      <th></th>\n",
       "      <th></th>\n",
       "      <th></th>\n",
       "      <th></th>\n",
       "      <th></th>\n",
       "      <th></th>\n",
       "      <th></th>\n",
       "      <th></th>\n",
       "      <th></th>\n",
       "      <th></th>\n",
       "      <th></th>\n",
       "      <th></th>\n",
       "      <th></th>\n",
       "      <th></th>\n",
       "      <th></th>\n",
       "      <th></th>\n",
       "      <th></th>\n",
       "      <th></th>\n",
       "      <th></th>\n",
       "      <th></th>\n",
       "      <th></th>\n",
       "      <th></th>\n",
       "      <th></th>\n",
       "      <th></th>\n",
       "      <th></th>\n",
       "      <th></th>\n",
       "      <th></th>\n",
       "      <th></th>\n",
       "      <th></th>\n",
       "      <th></th>\n",
       "      <th></th>\n",
       "      <th></th>\n",
       "      <th></th>\n",
       "      <th></th>\n",
       "      <th></th>\n",
       "      <th></th>\n",
       "      <th></th>\n",
       "      <th></th>\n",
       "      <th></th>\n",
       "      <th></th>\n",
       "      <th></th>\n",
       "      <th></th>\n",
       "      <th></th>\n",
       "      <th></th>\n",
       "      <th></th>\n",
       "      <th></th>\n",
       "      <th></th>\n",
       "      <th></th>\n",
       "    </tr>\n",
       "  </thead>\n",
       "  <tbody>\n",
       "    <tr>\n",
       "      <th>1</th>\n",
       "      <td>K409198</td>\n",
       "      <td>aa90260b-4141-4a24-8e36-b04ce1f4f77b</td>\n",
       "      <td>Point Baker</td>\n",
       "      <td>AK</td>\n",
       "      <td>Prince of Wales-Hyder</td>\n",
       "      <td>99927</td>\n",
       "      <td>56.251</td>\n",
       "      <td>-133.37571</td>\n",
       "      <td>38</td>\n",
       "      <td>Urban</td>\n",
       "      <td>America/Sitka</td>\n",
       "      <td>Environmental health practitioner</td>\n",
       "      <td>1.0</td>\n",
       "      <td>68.0</td>\n",
       "      <td>Master's Degree</td>\n",
       "      <td>Part Time</td>\n",
       "      <td>28561.990</td>\n",
       "      <td>Widowed</td>\n",
       "      <td>Male</td>\n",
       "      <td>No</td>\n",
       "      <td>6.972566</td>\n",
       "      <td>10</td>\n",
       "      <td>0</td>\n",
       "      <td>1</td>\n",
       "      <td>No</td>\n",
       "      <td>One year</td>\n",
       "      <td>Yes</td>\n",
       "      <td>Yes</td>\n",
       "      <td>Fiber Optic</td>\n",
       "      <td>Yes</td>\n",
       "      <td>No</td>\n",
       "      <td>Yes</td>\n",
       "      <td>Yes</td>\n",
       "      <td>No</td>\n",
       "      <td>No</td>\n",
       "      <td>No</td>\n",
       "      <td>Yes</td>\n",
       "      <td>Yes</td>\n",
       "      <td>Credit Card (automatic)</td>\n",
       "      <td>6.795513</td>\n",
       "      <td>171.449762</td>\n",
       "      <td>904.536110</td>\n",
       "      <td>5</td>\n",
       "      <td>5</td>\n",
       "      <td>5</td>\n",
       "      <td>3</td>\n",
       "      <td>4</td>\n",
       "      <td>4</td>\n",
       "      <td>3</td>\n",
       "      <td>4</td>\n",
       "    </tr>\n",
       "    <tr>\n",
       "      <th>2</th>\n",
       "      <td>S120509</td>\n",
       "      <td>fb76459f-c047-4a9d-8af9-e0f7d4ac2524</td>\n",
       "      <td>West Branch</td>\n",
       "      <td>MI</td>\n",
       "      <td>Ogemaw</td>\n",
       "      <td>48661</td>\n",
       "      <td>44.32893</td>\n",
       "      <td>-84.2408</td>\n",
       "      <td>10446</td>\n",
       "      <td>Urban</td>\n",
       "      <td>America/Detroit</td>\n",
       "      <td>Programmer, multimedia</td>\n",
       "      <td>1.0</td>\n",
       "      <td>27.0</td>\n",
       "      <td>Regular High School Diploma</td>\n",
       "      <td>Retired</td>\n",
       "      <td>21704.770</td>\n",
       "      <td>Married</td>\n",
       "      <td>Female</td>\n",
       "      <td>Yes</td>\n",
       "      <td>12.014541</td>\n",
       "      <td>12</td>\n",
       "      <td>0</td>\n",
       "      <td>1</td>\n",
       "      <td>Yes</td>\n",
       "      <td>Month-to-month</td>\n",
       "      <td>No</td>\n",
       "      <td>Yes</td>\n",
       "      <td>Fiber Optic</td>\n",
       "      <td>Yes</td>\n",
       "      <td>Yes</td>\n",
       "      <td>Yes</td>\n",
       "      <td>No</td>\n",
       "      <td>No</td>\n",
       "      <td>No</td>\n",
       "      <td>Yes</td>\n",
       "      <td>Yes</td>\n",
       "      <td>Yes</td>\n",
       "      <td>Bank Transfer(automatic)</td>\n",
       "      <td>1.156681</td>\n",
       "      <td>242.948015</td>\n",
       "      <td>800.982766</td>\n",
       "      <td>3</td>\n",
       "      <td>4</td>\n",
       "      <td>3</td>\n",
       "      <td>3</td>\n",
       "      <td>4</td>\n",
       "      <td>3</td>\n",
       "      <td>4</td>\n",
       "      <td>4</td>\n",
       "    </tr>\n",
       "    <tr>\n",
       "      <th>3</th>\n",
       "      <td>K191035</td>\n",
       "      <td>344d114c-3736-4be5-98f7-c72c281e2d35</td>\n",
       "      <td>Yamhill</td>\n",
       "      <td>OR</td>\n",
       "      <td>Yamhill</td>\n",
       "      <td>97148</td>\n",
       "      <td>45.35589</td>\n",
       "      <td>-123.24657</td>\n",
       "      <td>3735</td>\n",
       "      <td>Urban</td>\n",
       "      <td>America/Los_Angeles</td>\n",
       "      <td>Chief Financial Officer</td>\n",
       "      <td>4.0</td>\n",
       "      <td>50.0</td>\n",
       "      <td>Regular High School Diploma</td>\n",
       "      <td>Student</td>\n",
       "      <td>33186.785</td>\n",
       "      <td>Widowed</td>\n",
       "      <td>Female</td>\n",
       "      <td>No</td>\n",
       "      <td>10.245616</td>\n",
       "      <td>9</td>\n",
       "      <td>0</td>\n",
       "      <td>1</td>\n",
       "      <td>Yes</td>\n",
       "      <td>Two Year</td>\n",
       "      <td>Yes</td>\n",
       "      <td>No</td>\n",
       "      <td>DSL</td>\n",
       "      <td>Yes</td>\n",
       "      <td>Yes</td>\n",
       "      <td>No</td>\n",
       "      <td>No</td>\n",
       "      <td>No</td>\n",
       "      <td>No</td>\n",
       "      <td>No</td>\n",
       "      <td>Yes</td>\n",
       "      <td>Yes</td>\n",
       "      <td>Credit Card (automatic)</td>\n",
       "      <td>15.754144</td>\n",
       "      <td>159.440398</td>\n",
       "      <td>2054.706961</td>\n",
       "      <td>4</td>\n",
       "      <td>4</td>\n",
       "      <td>2</td>\n",
       "      <td>4</td>\n",
       "      <td>4</td>\n",
       "      <td>3</td>\n",
       "      <td>3</td>\n",
       "      <td>3</td>\n",
       "    </tr>\n",
       "    <tr>\n",
       "      <th>4</th>\n",
       "      <td>D90850</td>\n",
       "      <td>abfa2b40-2d43-4994-b15a-989b8c79e311</td>\n",
       "      <td>Del Mar</td>\n",
       "      <td>CA</td>\n",
       "      <td>San Diego</td>\n",
       "      <td>92014</td>\n",
       "      <td>32.96687</td>\n",
       "      <td>-117.24798</td>\n",
       "      <td>13863</td>\n",
       "      <td>Suburban</td>\n",
       "      <td>America/Los_Angeles</td>\n",
       "      <td>Solicitor</td>\n",
       "      <td>1.0</td>\n",
       "      <td>48.0</td>\n",
       "      <td>Doctorate Degree</td>\n",
       "      <td>Retired</td>\n",
       "      <td>18925.230</td>\n",
       "      <td>Married</td>\n",
       "      <td>Male</td>\n",
       "      <td>No</td>\n",
       "      <td>15.206193</td>\n",
       "      <td>15</td>\n",
       "      <td>2</td>\n",
       "      <td>0</td>\n",
       "      <td>Yes</td>\n",
       "      <td>Two Year</td>\n",
       "      <td>No</td>\n",
       "      <td>No</td>\n",
       "      <td>DSL</td>\n",
       "      <td>Yes</td>\n",
       "      <td>No</td>\n",
       "      <td>Yes</td>\n",
       "      <td>No</td>\n",
       "      <td>No</td>\n",
       "      <td>No</td>\n",
       "      <td>Yes</td>\n",
       "      <td>No</td>\n",
       "      <td>Yes</td>\n",
       "      <td>Mailed Check</td>\n",
       "      <td>17.087227</td>\n",
       "      <td>120.249493</td>\n",
       "      <td>2164.579412</td>\n",
       "      <td>4</td>\n",
       "      <td>4</td>\n",
       "      <td>4</td>\n",
       "      <td>2</td>\n",
       "      <td>5</td>\n",
       "      <td>4</td>\n",
       "      <td>3</td>\n",
       "      <td>3</td>\n",
       "    </tr>\n",
       "    <tr>\n",
       "      <th>5</th>\n",
       "      <td>K662701</td>\n",
       "      <td>68a861fd-0d20-4e51-a587-8a90407ee574</td>\n",
       "      <td>Needville</td>\n",
       "      <td>TX</td>\n",
       "      <td>Fort Bend</td>\n",
       "      <td>77461</td>\n",
       "      <td>29.38012</td>\n",
       "      <td>-95.80673</td>\n",
       "      <td>11352</td>\n",
       "      <td>Suburban</td>\n",
       "      <td>America/Chicago</td>\n",
       "      <td>Medical illustrator</td>\n",
       "      <td>0.0</td>\n",
       "      <td>83.0</td>\n",
       "      <td>Master's Degree</td>\n",
       "      <td>Student</td>\n",
       "      <td>40074.190</td>\n",
       "      <td>Separated</td>\n",
       "      <td>Male</td>\n",
       "      <td>Yes</td>\n",
       "      <td>8.960316</td>\n",
       "      <td>16</td>\n",
       "      <td>2</td>\n",
       "      <td>1</td>\n",
       "      <td>No</td>\n",
       "      <td>Month-to-month</td>\n",
       "      <td>Yes</td>\n",
       "      <td>No</td>\n",
       "      <td>Fiber Optic</td>\n",
       "      <td>No</td>\n",
       "      <td>No</td>\n",
       "      <td>No</td>\n",
       "      <td>No</td>\n",
       "      <td>No</td>\n",
       "      <td>Yes</td>\n",
       "      <td>Yes</td>\n",
       "      <td>No</td>\n",
       "      <td>No</td>\n",
       "      <td>Mailed Check</td>\n",
       "      <td>1.670972</td>\n",
       "      <td>150.761216</td>\n",
       "      <td>271.493436</td>\n",
       "      <td>4</td>\n",
       "      <td>4</td>\n",
       "      <td>4</td>\n",
       "      <td>3</td>\n",
       "      <td>4</td>\n",
       "      <td>4</td>\n",
       "      <td>4</td>\n",
       "      <td>5</td>\n",
       "    </tr>\n",
       "  </tbody>\n",
       "</table>\n",
       "</div>"
      ],
      "text/plain": [
       "          Customer_id                           Interaction         City  \\\n",
       "CaseOrder                                                                  \n",
       "1             K409198  aa90260b-4141-4a24-8e36-b04ce1f4f77b  Point Baker   \n",
       "2             S120509  fb76459f-c047-4a9d-8af9-e0f7d4ac2524  West Branch   \n",
       "3             K191035  344d114c-3736-4be5-98f7-c72c281e2d35      Yamhill   \n",
       "4              D90850  abfa2b40-2d43-4994-b15a-989b8c79e311      Del Mar   \n",
       "5             K662701  68a861fd-0d20-4e51-a587-8a90407ee574    Needville   \n",
       "\n",
       "          State                 County    Zip       Lat         Lng  \\\n",
       "CaseOrder                                                             \n",
       "1            AK  Prince of Wales-Hyder  99927    56.251  -133.37571   \n",
       "2            MI                 Ogemaw  48661  44.32893    -84.2408   \n",
       "3            OR                Yamhill  97148  45.35589  -123.24657   \n",
       "4            CA              San Diego  92014  32.96687  -117.24798   \n",
       "5            TX              Fort Bend  77461  29.38012   -95.80673   \n",
       "\n",
       "           Population      Area             Timezone  \\\n",
       "CaseOrder                                              \n",
       "1                  38     Urban        America/Sitka   \n",
       "2               10446     Urban      America/Detroit   \n",
       "3                3735     Urban  America/Los_Angeles   \n",
       "4               13863  Suburban  America/Los_Angeles   \n",
       "5               11352  Suburban      America/Chicago   \n",
       "\n",
       "                                         Job  Children   Age  \\\n",
       "CaseOrder                                                      \n",
       "1          Environmental health practitioner       1.0  68.0   \n",
       "2                     Programmer, multimedia       1.0  27.0   \n",
       "3                    Chief Financial Officer       4.0  50.0   \n",
       "4                                  Solicitor       1.0  48.0   \n",
       "5                        Medical illustrator       0.0  83.0   \n",
       "\n",
       "                             Education Employment     Income    Marital  \\\n",
       "CaseOrder                                                                 \n",
       "1                      Master's Degree  Part Time  28561.990    Widowed   \n",
       "2          Regular High School Diploma    Retired  21704.770    Married   \n",
       "3          Regular High School Diploma    Student  33186.785    Widowed   \n",
       "4                     Doctorate Degree    Retired  18925.230    Married   \n",
       "5                      Master's Degree    Student  40074.190  Separated   \n",
       "\n",
       "           Gender Churn  Outage_sec_perweek  Email  Contacts  \\\n",
       "CaseOrder                                                      \n",
       "1            Male    No            6.972566     10         0   \n",
       "2          Female   Yes           12.014541     12         0   \n",
       "3          Female    No           10.245616      9         0   \n",
       "4            Male    No           15.206193     15         2   \n",
       "5            Male   Yes            8.960316     16         2   \n",
       "\n",
       "           Yearly_equip_failure Techie        Contract Port_modem Tablet  \\\n",
       "CaseOrder                                                                  \n",
       "1                             1     No        One year        Yes    Yes   \n",
       "2                             1    Yes  Month-to-month         No    Yes   \n",
       "3                             1    Yes        Two Year        Yes     No   \n",
       "4                             0    Yes        Two Year         No     No   \n",
       "5                             1     No  Month-to-month        Yes     No   \n",
       "\n",
       "          InternetService Phone Multiple OnlineSecurity OnlineBackup  \\\n",
       "CaseOrder                                                              \n",
       "1             Fiber Optic   Yes       No            Yes          Yes   \n",
       "2             Fiber Optic   Yes      Yes            Yes           No   \n",
       "3                     DSL   Yes      Yes             No           No   \n",
       "4                     DSL   Yes       No            Yes           No   \n",
       "5             Fiber Optic    No       No             No           No   \n",
       "\n",
       "          DeviceProtection TechSupport StreamingTV StreamingMovies  \\\n",
       "CaseOrder                                                            \n",
       "1                       No          No          No             Yes   \n",
       "2                       No          No         Yes             Yes   \n",
       "3                       No          No          No             Yes   \n",
       "4                       No          No         Yes              No   \n",
       "5                       No         Yes         Yes              No   \n",
       "\n",
       "          PaperlessBilling             PaymentMethod     Tenure  \\\n",
       "CaseOrder                                                         \n",
       "1                      Yes   Credit Card (automatic)   6.795513   \n",
       "2                      Yes  Bank Transfer(automatic)   1.156681   \n",
       "3                      Yes   Credit Card (automatic)  15.754144   \n",
       "4                      Yes              Mailed Check  17.087227   \n",
       "5                       No              Mailed Check   1.670972   \n",
       "\n",
       "           MonthlyCharge  Bandwidth_GB_Year  item1  item2  item3  item4  \\\n",
       "CaseOrder                                                                 \n",
       "1             171.449762         904.536110      5      5      5      3   \n",
       "2             242.948015         800.982766      3      4      3      3   \n",
       "3             159.440398        2054.706961      4      4      2      4   \n",
       "4             120.249493        2164.579412      4      4      4      2   \n",
       "5             150.761216         271.493436      4      4      4      3   \n",
       "\n",
       "           item5  item6  item7  item8  \n",
       "CaseOrder                              \n",
       "1              4      4      3      4  \n",
       "2              4      3      4      4  \n",
       "3              4      3      3      3  \n",
       "4              5      4      3      3  \n",
       "5              4      4      4      5  "
      ]
     },
     "execution_count": 50,
     "metadata": {},
     "output_type": "execute_result"
    }
   ],
   "source": [
    "#unit test verification\n",
    "df_clean.head()"
   ]
  },
  {
   "cell_type": "markdown",
   "metadata": {
    "pycharm": {
     "name": "#%% md\n"
    }
   },
   "source": [
    "##### Issue 5\n",
    "\n",
    "The education levels require standardization to enhance analytical clarity. A dictionary has been developed to align the customer's education levels with the standards set by the U.S. Census. The current categorization is excessively detailed, making it challenging to derive meaningful general insights."
   ]
  },
  {
   "cell_type": "code",
   "execution_count": 51,
   "metadata": {
    "collapsed": false,
    "jupyter": {
     "outputs_hidden": false
    },
    "pycharm": {
     "name": "#%%\n"
    }
   },
   "outputs": [
    {
     "data": {
      "text/plain": [
       "Regular High School Diploma                 2421\n",
       "Bachelor's Degree                           1703\n",
       "Some College, 1 or More Years, No Degree    1562\n",
       "9th Grade to 12th Grade, No Diploma          870\n",
       "Master's Degree                              764\n",
       "Associate's Degree                           760\n",
       "Some College, Less than 1 Year               652\n",
       "Nursery School to 8th Grade                  449\n",
       "GED or Alternative Credential                387\n",
       "Professional School Degree                   198\n",
       "No Schooling Completed                       118\n",
       "Doctorate Degree                             116\n",
       "Name: Education, dtype: int64"
      ]
     },
     "execution_count": 51,
     "metadata": {},
     "output_type": "execute_result"
    }
   ],
   "source": [
    "df_clean['Education'].value_counts()"
   ]
  },
  {
   "cell_type": "code",
   "execution_count": 52,
   "metadata": {
    "collapsed": false,
    "jupyter": {
     "outputs_hidden": false
    },
    "pycharm": {
     "name": "#%%\n"
    }
   },
   "outputs": [],
   "source": [
    "education_levels ={\"Master's Degree\": 'Graduate Degree',\n",
    "                    'Regular High School Diploma': 'Highschool',\n",
    "                    'Doctorate Degree': 'Graduate Degree',\n",
    "                    'No Schooling Completed': 'No Diploma',\n",
    "                    \"Associate's Degree\": 'Associate\\'s/Some College',\n",
    "                    \"Bachelor's Degree\": 'Bachelor\\'s Degree',\n",
    "                    'Some College, Less than 1 Year': 'Associate\\'s/Some College',\n",
    "                    'GED or Alternative Credential': 'Graduate Degree',\n",
    "                    'Some College, 1 or More Years, No Degree': 'Associate\\'s/Some College',\n",
    "                    '9th Grade to 12th Grade, No Diploma': 'No Diploma',\n",
    "                    'Nursery School to 8th Grade': 'No Diploma',\n",
    "                    'Professional School Degree':'Graduate Degree'}\n",
    "\n",
    "# use mapping to the above dictionary\n",
    "\n",
    "df_clean['Education'] = df_clean['Education'].map(education_levels)"
   ]
  },
  {
   "cell_type": "code",
   "execution_count": 53,
   "metadata": {
    "collapsed": false,
    "jupyter": {
     "outputs_hidden": false
    },
    "pycharm": {
     "name": "#%%\n"
    }
   },
   "outputs": [
    {
     "data": {
      "text/plain": [
       "Associate's/Some College    2974\n",
       "Highschool                  2421\n",
       "Bachelor's Degree           1703\n",
       "Graduate Degree             1465\n",
       "No Diploma                  1437\n",
       "Name: Education, dtype: int64"
      ]
     },
     "execution_count": 53,
     "metadata": {},
     "output_type": "execute_result"
    }
   ],
   "source": [
    "# Unit Test\n",
    "\n",
    "df_clean['Education'].value_counts()"
   ]
  },
  {
   "cell_type": "markdown",
   "metadata": {
    "pycharm": {
     "name": "#%% md\n"
    }
   },
   "source": [
    "##### Issue 6\n",
    "\n",
    "Rename Survey `item` columns to be more descriptive. This allows easier parsing of data meaning."
   ]
  },
  {
   "cell_type": "code",
   "execution_count": 54,
   "metadata": {
    "collapsed": false,
    "jupyter": {
     "outputs_hidden": false
    },
    "pycharm": {
     "name": "#%%\n"
    }
   },
   "outputs": [],
   "source": [
    "df_clean.rename(columns = {'item1':'Timeliness',\n",
    "                     'item2':'Fixes',\n",
    "                     'item3':'Replacements',\n",
    "                     'item4':'Reliability',\n",
    "                     'item5':'Options',\n",
    "                     'item6':'Respectfulness',\n",
    "                     'item7':'Courteous',\n",
    "                     'item8':'Listening'},\n",
    "          inplace=True)"
   ]
  },
  {
   "cell_type": "code",
   "execution_count": 55,
   "metadata": {
    "collapsed": false,
    "jupyter": {
     "outputs_hidden": false
    },
    "pycharm": {
     "name": "#%%\n"
    }
   },
   "outputs": [
    {
     "data": {
      "text/plain": [
       "Index(['Customer_id', 'Interaction', 'City', 'State', 'County', 'Zip', 'Lat',\n",
       "       'Lng', 'Population', 'Area', 'Timezone', 'Job', 'Children', 'Age',\n",
       "       'Education', 'Employment', 'Income', 'Marital', 'Gender', 'Churn',\n",
       "       'Outage_sec_perweek', 'Email', 'Contacts', 'Yearly_equip_failure',\n",
       "       'Techie', 'Contract', 'Port_modem', 'Tablet', 'InternetService',\n",
       "       'Phone', 'Multiple', 'OnlineSecurity', 'OnlineBackup',\n",
       "       'DeviceProtection', 'TechSupport', 'StreamingTV', 'StreamingMovies',\n",
       "       'PaperlessBilling', 'PaymentMethod', 'Tenure', 'MonthlyCharge',\n",
       "       'Bandwidth_GB_Year', 'Timeliness', 'Fixes', 'Replacements',\n",
       "       'Reliability', 'Options', 'Respectfulness', 'Courteous', 'Listening'],\n",
       "      dtype='object')"
      ]
     },
     "execution_count": 55,
     "metadata": {},
     "output_type": "execute_result"
    }
   ],
   "source": [
    "#unit test\n",
    "df_clean.columns"
   ]
  },
  {
   "cell_type": "markdown",
   "metadata": {
    "pycharm": {
     "name": "#%% md\n"
    }
   },
   "source": [
    "#### D5  Provide a copy of the cleaned data set.\n",
    "\n",
    "The data has been cleaned and structured. A CSV with the cleaned structure will be saved."
   ]
  },
  {
   "cell_type": "code",
   "execution_count": 56,
   "metadata": {
    "collapsed": false,
    "jupyter": {
     "outputs_hidden": false
    },
    "pycharm": {
     "name": "#%%\n"
    }
   },
   "outputs": [],
   "source": [
    "df_clean.to_csv('churn_clean.csv')"
   ]
  },
  {
   "cell_type": "markdown",
   "metadata": {
    "pycharm": {
     "name": "#%% md\n"
    }
   },
   "source": [
    "#### D6 Summarize the limitations of the data-cleaning process.\n",
    "\n",
    "The limitations inherent in this dataset are primarily linked to the nature of the data source. Since the data is self-reported by customers, its quality and accuracy are inherently constrained. Verification of this data would ideally require more rigorous methods, such as income verification through credit checks or employment confirmation. The imputation techniques used in this analysis, while necessary, may not be as robust as advanced methods like K-Nearest Neighbors (KNN) or decision tree classifiers (e.g., random forests). However, these methods are computationally expensive and can also be adversely affected by the quality of self-reported data. These factors significantly limit the reliability of hypothesis testing or ANOVA on the cleaned dataset.\n",
    "\n",
    "Several quality issues arise from inconsistencies in the data, such as implausible combinations of age, employment status, and number of children. For example, there are cases where an 18-year-old customer is marked as retired with multiple children, or younger individuals are labeled as widowed or divorced. Given the self-reported nature of the data, there is no feasible method to correct these entries accurately. Even using K-Nearest Neighbors for imputation could lead to incorrect results due to these inconsistencies.\n",
    "\n",
    "Additionally, there are anomalies in data that the firm should reasonably possess. For instance, a telecommunications provider's customer dataset should not contain null values for the services provided to each customer. This suggests a need for a reevaluation of data collection methods. Consequently, it remains challenging to ascertain whether the imputed data is truly representative of real-world conditions."
   ]
  },
  {
   "cell_type": "markdown",
   "metadata": {
    "pycharm": {
     "name": "#%% md\n"
    }
   },
   "source": [
    "#### D7 Discuss how the limitations in part D6 affect the analysis of the question or decision from part A.\n",
    "\n",
    "These limitations point to using this dataset only for tentative testing. For example, Age had 25% of its data missing. With that missing data assuming the distribution was valid, bias can be introduced into the dataset that would not be reflective of the real customer ages. This could also impact machine learning training in ways causing bad predictions.\n"
   ]
  },
  {
   "cell_type": "markdown",
   "metadata": {
    "pycharm": {
     "name": "#%% md\n"
    }
   },
   "source": [
    "## PCA\n",
    "\n",
    "### Approach\n",
    "\n",
    "PCA will be applied to the continuous variables in the dataset. Before applying PCA, the data will be scaled via RobustScaler. Many of the items in this dataset were self-reported causing anomalies in data quality and mismatched categorization. For example, a customer in Yamhill Oregon is noted to be a CFO but income is listed $33000. Due to these outliers and the nature of this data being a self-reported survey, providing treatment corrections to this data without another similar sample is not recommended. Instead, RobustScaler limits the effects of outliers by assuming the interquartile range of data correctly corresponds to the data distribution (Hale, 2019)\n",
    "\n",
    "The scaled data will consist of the following continuous variables:\n",
    "['Outage_sec_perweek', 'Yearly_equip_failure', 'Age', 'Contacts', 'Tenure', 'MonthlyCharge', 'Bandwidth_GB_Year']"
   ]
  },
  {
   "cell_type": "code",
   "execution_count": 57,
   "metadata": {
    "collapsed": false,
    "jupyter": {
     "outputs_hidden": false
    },
    "pycharm": {
     "name": "#%%\n"
    }
   },
   "outputs": [],
   "source": [
    "# set scaler\n",
    "from sklearn.preprocessing import RobustScaler, StandardScaler\n",
    "\n",
    "# instantiate scaler\n",
    "scaler = RobustScaler()"
   ]
  },
  {
   "cell_type": "code",
   "execution_count": 58,
   "metadata": {
    "collapsed": false,
    "jupyter": {
     "outputs_hidden": false
    },
    "pycharm": {
     "name": "#%%\n"
    }
   },
   "outputs": [],
   "source": [
    "# set scaling metrics\n",
    "cont_cols = ['Outage_sec_perweek', 'Yearly_equip_failure', 'Age', 'Contacts', 'Tenure', 'MonthlyCharge', 'Bandwidth_GB_Year']"
   ]
  },
  {
   "cell_type": "code",
   "execution_count": 59,
   "metadata": {
    "collapsed": false,
    "jupyter": {
     "outputs_hidden": false
    },
    "pycharm": {
     "name": "#%%\n"
    }
   },
   "outputs": [],
   "source": [
    "# a copy of the clean dataframe will be made to preserve dataframe integrity\n",
    "\n",
    "df_scaled = df_clean.copy()"
   ]
  },
  {
   "cell_type": "code",
   "execution_count": 60,
   "metadata": {
    "collapsed": false,
    "jupyter": {
     "outputs_hidden": false
    },
    "pycharm": {
     "name": "#%%\n"
    }
   },
   "outputs": [
    {
     "data": {
      "text/html": [
       "<div>\n",
       "<style scoped>\n",
       "    .dataframe tbody tr th:only-of-type {\n",
       "        vertical-align: middle;\n",
       "    }\n",
       "\n",
       "    .dataframe tbody tr th {\n",
       "        vertical-align: top;\n",
       "    }\n",
       "\n",
       "    .dataframe thead th {\n",
       "        text-align: right;\n",
       "    }\n",
       "</style>\n",
       "<table border=\"1\" class=\"dataframe\">\n",
       "  <thead>\n",
       "    <tr style=\"text-align: right;\">\n",
       "      <th></th>\n",
       "      <th>Customer_id</th>\n",
       "      <th>Interaction</th>\n",
       "      <th>City</th>\n",
       "      <th>State</th>\n",
       "      <th>County</th>\n",
       "      <th>Zip</th>\n",
       "      <th>Lat</th>\n",
       "      <th>Lng</th>\n",
       "      <th>Population</th>\n",
       "      <th>Area</th>\n",
       "      <th>Timezone</th>\n",
       "      <th>Job</th>\n",
       "      <th>Children</th>\n",
       "      <th>Age</th>\n",
       "      <th>Education</th>\n",
       "      <th>Employment</th>\n",
       "      <th>Income</th>\n",
       "      <th>Marital</th>\n",
       "      <th>Gender</th>\n",
       "      <th>Churn</th>\n",
       "      <th>Outage_sec_perweek</th>\n",
       "      <th>Email</th>\n",
       "      <th>Contacts</th>\n",
       "      <th>Yearly_equip_failure</th>\n",
       "      <th>Techie</th>\n",
       "      <th>Contract</th>\n",
       "      <th>Port_modem</th>\n",
       "      <th>Tablet</th>\n",
       "      <th>InternetService</th>\n",
       "      <th>Phone</th>\n",
       "      <th>Multiple</th>\n",
       "      <th>OnlineSecurity</th>\n",
       "      <th>OnlineBackup</th>\n",
       "      <th>DeviceProtection</th>\n",
       "      <th>TechSupport</th>\n",
       "      <th>StreamingTV</th>\n",
       "      <th>StreamingMovies</th>\n",
       "      <th>PaperlessBilling</th>\n",
       "      <th>PaymentMethod</th>\n",
       "      <th>Tenure</th>\n",
       "      <th>MonthlyCharge</th>\n",
       "      <th>Bandwidth_GB_Year</th>\n",
       "      <th>Timeliness</th>\n",
       "      <th>Fixes</th>\n",
       "      <th>Replacements</th>\n",
       "      <th>Reliability</th>\n",
       "      <th>Options</th>\n",
       "      <th>Respectfulness</th>\n",
       "      <th>Courteous</th>\n",
       "      <th>Listening</th>\n",
       "    </tr>\n",
       "    <tr>\n",
       "      <th>CaseOrder</th>\n",
       "      <th></th>\n",
       "      <th></th>\n",
       "      <th></th>\n",
       "      <th></th>\n",
       "      <th></th>\n",
       "      <th></th>\n",
       "      <th></th>\n",
       "      <th></th>\n",
       "      <th></th>\n",
       "      <th></th>\n",
       "      <th></th>\n",
       "      <th></th>\n",
       "      <th></th>\n",
       "      <th></th>\n",
       "      <th></th>\n",
       "      <th></th>\n",
       "      <th></th>\n",
       "      <th></th>\n",
       "      <th></th>\n",
       "      <th></th>\n",
       "      <th></th>\n",
       "      <th></th>\n",
       "      <th></th>\n",
       "      <th></th>\n",
       "      <th></th>\n",
       "      <th></th>\n",
       "      <th></th>\n",
       "      <th></th>\n",
       "      <th></th>\n",
       "      <th></th>\n",
       "      <th></th>\n",
       "      <th></th>\n",
       "      <th></th>\n",
       "      <th></th>\n",
       "      <th></th>\n",
       "      <th></th>\n",
       "      <th></th>\n",
       "      <th></th>\n",
       "      <th></th>\n",
       "      <th></th>\n",
       "      <th></th>\n",
       "      <th></th>\n",
       "      <th></th>\n",
       "      <th></th>\n",
       "      <th></th>\n",
       "      <th></th>\n",
       "      <th></th>\n",
       "      <th></th>\n",
       "      <th></th>\n",
       "      <th></th>\n",
       "    </tr>\n",
       "  </thead>\n",
       "  <tbody>\n",
       "    <tr>\n",
       "      <th>1</th>\n",
       "      <td>K409198</td>\n",
       "      <td>aa90260b-4141-4a24-8e36-b04ce1f4f77b</td>\n",
       "      <td>Point Baker</td>\n",
       "      <td>AK</td>\n",
       "      <td>Prince of Wales-Hyder</td>\n",
       "      <td>99927</td>\n",
       "      <td>56.251</td>\n",
       "      <td>-133.37571</td>\n",
       "      <td>38</td>\n",
       "      <td>Urban</td>\n",
       "      <td>America/Sitka</td>\n",
       "      <td>Environmental health practitioner</td>\n",
       "      <td>1.0</td>\n",
       "      <td>68.0</td>\n",
       "      <td>Graduate Degree</td>\n",
       "      <td>Part Time</td>\n",
       "      <td>28561.990</td>\n",
       "      <td>Widowed</td>\n",
       "      <td>Male</td>\n",
       "      <td>No</td>\n",
       "      <td>6.972566</td>\n",
       "      <td>10</td>\n",
       "      <td>0</td>\n",
       "      <td>1</td>\n",
       "      <td>No</td>\n",
       "      <td>One year</td>\n",
       "      <td>Yes</td>\n",
       "      <td>Yes</td>\n",
       "      <td>Fiber Optic</td>\n",
       "      <td>Yes</td>\n",
       "      <td>No</td>\n",
       "      <td>Yes</td>\n",
       "      <td>Yes</td>\n",
       "      <td>No</td>\n",
       "      <td>No</td>\n",
       "      <td>No</td>\n",
       "      <td>Yes</td>\n",
       "      <td>Yes</td>\n",
       "      <td>Credit Card (automatic)</td>\n",
       "      <td>6.795513</td>\n",
       "      <td>171.449762</td>\n",
       "      <td>904.536110</td>\n",
       "      <td>5</td>\n",
       "      <td>5</td>\n",
       "      <td>5</td>\n",
       "      <td>3</td>\n",
       "      <td>4</td>\n",
       "      <td>4</td>\n",
       "      <td>3</td>\n",
       "      <td>4</td>\n",
       "    </tr>\n",
       "    <tr>\n",
       "      <th>2</th>\n",
       "      <td>S120509</td>\n",
       "      <td>fb76459f-c047-4a9d-8af9-e0f7d4ac2524</td>\n",
       "      <td>West Branch</td>\n",
       "      <td>MI</td>\n",
       "      <td>Ogemaw</td>\n",
       "      <td>48661</td>\n",
       "      <td>44.32893</td>\n",
       "      <td>-84.2408</td>\n",
       "      <td>10446</td>\n",
       "      <td>Urban</td>\n",
       "      <td>America/Detroit</td>\n",
       "      <td>Programmer, multimedia</td>\n",
       "      <td>1.0</td>\n",
       "      <td>27.0</td>\n",
       "      <td>Highschool</td>\n",
       "      <td>Retired</td>\n",
       "      <td>21704.770</td>\n",
       "      <td>Married</td>\n",
       "      <td>Female</td>\n",
       "      <td>Yes</td>\n",
       "      <td>12.014541</td>\n",
       "      <td>12</td>\n",
       "      <td>0</td>\n",
       "      <td>1</td>\n",
       "      <td>Yes</td>\n",
       "      <td>Month-to-month</td>\n",
       "      <td>No</td>\n",
       "      <td>Yes</td>\n",
       "      <td>Fiber Optic</td>\n",
       "      <td>Yes</td>\n",
       "      <td>Yes</td>\n",
       "      <td>Yes</td>\n",
       "      <td>No</td>\n",
       "      <td>No</td>\n",
       "      <td>No</td>\n",
       "      <td>Yes</td>\n",
       "      <td>Yes</td>\n",
       "      <td>Yes</td>\n",
       "      <td>Bank Transfer(automatic)</td>\n",
       "      <td>1.156681</td>\n",
       "      <td>242.948015</td>\n",
       "      <td>800.982766</td>\n",
       "      <td>3</td>\n",
       "      <td>4</td>\n",
       "      <td>3</td>\n",
       "      <td>3</td>\n",
       "      <td>4</td>\n",
       "      <td>3</td>\n",
       "      <td>4</td>\n",
       "      <td>4</td>\n",
       "    </tr>\n",
       "    <tr>\n",
       "      <th>3</th>\n",
       "      <td>K191035</td>\n",
       "      <td>344d114c-3736-4be5-98f7-c72c281e2d35</td>\n",
       "      <td>Yamhill</td>\n",
       "      <td>OR</td>\n",
       "      <td>Yamhill</td>\n",
       "      <td>97148</td>\n",
       "      <td>45.35589</td>\n",
       "      <td>-123.24657</td>\n",
       "      <td>3735</td>\n",
       "      <td>Urban</td>\n",
       "      <td>America/Los_Angeles</td>\n",
       "      <td>Chief Financial Officer</td>\n",
       "      <td>4.0</td>\n",
       "      <td>50.0</td>\n",
       "      <td>Highschool</td>\n",
       "      <td>Student</td>\n",
       "      <td>33186.785</td>\n",
       "      <td>Widowed</td>\n",
       "      <td>Female</td>\n",
       "      <td>No</td>\n",
       "      <td>10.245616</td>\n",
       "      <td>9</td>\n",
       "      <td>0</td>\n",
       "      <td>1</td>\n",
       "      <td>Yes</td>\n",
       "      <td>Two Year</td>\n",
       "      <td>Yes</td>\n",
       "      <td>No</td>\n",
       "      <td>DSL</td>\n",
       "      <td>Yes</td>\n",
       "      <td>Yes</td>\n",
       "      <td>No</td>\n",
       "      <td>No</td>\n",
       "      <td>No</td>\n",
       "      <td>No</td>\n",
       "      <td>No</td>\n",
       "      <td>Yes</td>\n",
       "      <td>Yes</td>\n",
       "      <td>Credit Card (automatic)</td>\n",
       "      <td>15.754144</td>\n",
       "      <td>159.440398</td>\n",
       "      <td>2054.706961</td>\n",
       "      <td>4</td>\n",
       "      <td>4</td>\n",
       "      <td>2</td>\n",
       "      <td>4</td>\n",
       "      <td>4</td>\n",
       "      <td>3</td>\n",
       "      <td>3</td>\n",
       "      <td>3</td>\n",
       "    </tr>\n",
       "    <tr>\n",
       "      <th>4</th>\n",
       "      <td>D90850</td>\n",
       "      <td>abfa2b40-2d43-4994-b15a-989b8c79e311</td>\n",
       "      <td>Del Mar</td>\n",
       "      <td>CA</td>\n",
       "      <td>San Diego</td>\n",
       "      <td>92014</td>\n",
       "      <td>32.96687</td>\n",
       "      <td>-117.24798</td>\n",
       "      <td>13863</td>\n",
       "      <td>Suburban</td>\n",
       "      <td>America/Los_Angeles</td>\n",
       "      <td>Solicitor</td>\n",
       "      <td>1.0</td>\n",
       "      <td>48.0</td>\n",
       "      <td>Graduate Degree</td>\n",
       "      <td>Retired</td>\n",
       "      <td>18925.230</td>\n",
       "      <td>Married</td>\n",
       "      <td>Male</td>\n",
       "      <td>No</td>\n",
       "      <td>15.206193</td>\n",
       "      <td>15</td>\n",
       "      <td>2</td>\n",
       "      <td>0</td>\n",
       "      <td>Yes</td>\n",
       "      <td>Two Year</td>\n",
       "      <td>No</td>\n",
       "      <td>No</td>\n",
       "      <td>DSL</td>\n",
       "      <td>Yes</td>\n",
       "      <td>No</td>\n",
       "      <td>Yes</td>\n",
       "      <td>No</td>\n",
       "      <td>No</td>\n",
       "      <td>No</td>\n",
       "      <td>Yes</td>\n",
       "      <td>No</td>\n",
       "      <td>Yes</td>\n",
       "      <td>Mailed Check</td>\n",
       "      <td>17.087227</td>\n",
       "      <td>120.249493</td>\n",
       "      <td>2164.579412</td>\n",
       "      <td>4</td>\n",
       "      <td>4</td>\n",
       "      <td>4</td>\n",
       "      <td>2</td>\n",
       "      <td>5</td>\n",
       "      <td>4</td>\n",
       "      <td>3</td>\n",
       "      <td>3</td>\n",
       "    </tr>\n",
       "    <tr>\n",
       "      <th>5</th>\n",
       "      <td>K662701</td>\n",
       "      <td>68a861fd-0d20-4e51-a587-8a90407ee574</td>\n",
       "      <td>Needville</td>\n",
       "      <td>TX</td>\n",
       "      <td>Fort Bend</td>\n",
       "      <td>77461</td>\n",
       "      <td>29.38012</td>\n",
       "      <td>-95.80673</td>\n",
       "      <td>11352</td>\n",
       "      <td>Suburban</td>\n",
       "      <td>America/Chicago</td>\n",
       "      <td>Medical illustrator</td>\n",
       "      <td>0.0</td>\n",
       "      <td>83.0</td>\n",
       "      <td>Graduate Degree</td>\n",
       "      <td>Student</td>\n",
       "      <td>40074.190</td>\n",
       "      <td>Separated</td>\n",
       "      <td>Male</td>\n",
       "      <td>Yes</td>\n",
       "      <td>8.960316</td>\n",
       "      <td>16</td>\n",
       "      <td>2</td>\n",
       "      <td>1</td>\n",
       "      <td>No</td>\n",
       "      <td>Month-to-month</td>\n",
       "      <td>Yes</td>\n",
       "      <td>No</td>\n",
       "      <td>Fiber Optic</td>\n",
       "      <td>No</td>\n",
       "      <td>No</td>\n",
       "      <td>No</td>\n",
       "      <td>No</td>\n",
       "      <td>No</td>\n",
       "      <td>Yes</td>\n",
       "      <td>Yes</td>\n",
       "      <td>No</td>\n",
       "      <td>No</td>\n",
       "      <td>Mailed Check</td>\n",
       "      <td>1.670972</td>\n",
       "      <td>150.761216</td>\n",
       "      <td>271.493436</td>\n",
       "      <td>4</td>\n",
       "      <td>4</td>\n",
       "      <td>4</td>\n",
       "      <td>3</td>\n",
       "      <td>4</td>\n",
       "      <td>4</td>\n",
       "      <td>4</td>\n",
       "      <td>5</td>\n",
       "    </tr>\n",
       "  </tbody>\n",
       "</table>\n",
       "</div>"
      ],
      "text/plain": [
       "          Customer_id                           Interaction         City  \\\n",
       "CaseOrder                                                                  \n",
       "1             K409198  aa90260b-4141-4a24-8e36-b04ce1f4f77b  Point Baker   \n",
       "2             S120509  fb76459f-c047-4a9d-8af9-e0f7d4ac2524  West Branch   \n",
       "3             K191035  344d114c-3736-4be5-98f7-c72c281e2d35      Yamhill   \n",
       "4              D90850  abfa2b40-2d43-4994-b15a-989b8c79e311      Del Mar   \n",
       "5             K662701  68a861fd-0d20-4e51-a587-8a90407ee574    Needville   \n",
       "\n",
       "          State                 County    Zip       Lat         Lng  \\\n",
       "CaseOrder                                                             \n",
       "1            AK  Prince of Wales-Hyder  99927    56.251  -133.37571   \n",
       "2            MI                 Ogemaw  48661  44.32893    -84.2408   \n",
       "3            OR                Yamhill  97148  45.35589  -123.24657   \n",
       "4            CA              San Diego  92014  32.96687  -117.24798   \n",
       "5            TX              Fort Bend  77461  29.38012   -95.80673   \n",
       "\n",
       "           Population      Area             Timezone  \\\n",
       "CaseOrder                                              \n",
       "1                  38     Urban        America/Sitka   \n",
       "2               10446     Urban      America/Detroit   \n",
       "3                3735     Urban  America/Los_Angeles   \n",
       "4               13863  Suburban  America/Los_Angeles   \n",
       "5               11352  Suburban      America/Chicago   \n",
       "\n",
       "                                         Job  Children   Age        Education  \\\n",
       "CaseOrder                                                                       \n",
       "1          Environmental health practitioner       1.0  68.0  Graduate Degree   \n",
       "2                     Programmer, multimedia       1.0  27.0       Highschool   \n",
       "3                    Chief Financial Officer       4.0  50.0       Highschool   \n",
       "4                                  Solicitor       1.0  48.0  Graduate Degree   \n",
       "5                        Medical illustrator       0.0  83.0  Graduate Degree   \n",
       "\n",
       "          Employment     Income    Marital  Gender Churn  Outage_sec_perweek  \\\n",
       "CaseOrder                                                                      \n",
       "1          Part Time  28561.990    Widowed    Male    No            6.972566   \n",
       "2            Retired  21704.770    Married  Female   Yes           12.014541   \n",
       "3            Student  33186.785    Widowed  Female    No           10.245616   \n",
       "4            Retired  18925.230    Married    Male    No           15.206193   \n",
       "5            Student  40074.190  Separated    Male   Yes            8.960316   \n",
       "\n",
       "           Email  Contacts  Yearly_equip_failure Techie        Contract  \\\n",
       "CaseOrder                                                                 \n",
       "1             10         0                     1     No        One year   \n",
       "2             12         0                     1    Yes  Month-to-month   \n",
       "3              9         0                     1    Yes        Two Year   \n",
       "4             15         2                     0    Yes        Two Year   \n",
       "5             16         2                     1     No  Month-to-month   \n",
       "\n",
       "          Port_modem Tablet InternetService Phone Multiple OnlineSecurity  \\\n",
       "CaseOrder                                                                   \n",
       "1                Yes    Yes     Fiber Optic   Yes       No            Yes   \n",
       "2                 No    Yes     Fiber Optic   Yes      Yes            Yes   \n",
       "3                Yes     No             DSL   Yes      Yes             No   \n",
       "4                 No     No             DSL   Yes       No            Yes   \n",
       "5                Yes     No     Fiber Optic    No       No             No   \n",
       "\n",
       "          OnlineBackup DeviceProtection TechSupport StreamingTV  \\\n",
       "CaseOrder                                                         \n",
       "1                  Yes               No          No          No   \n",
       "2                   No               No          No         Yes   \n",
       "3                   No               No          No          No   \n",
       "4                   No               No          No         Yes   \n",
       "5                   No               No         Yes         Yes   \n",
       "\n",
       "          StreamingMovies PaperlessBilling             PaymentMethod  \\\n",
       "CaseOrder                                                              \n",
       "1                     Yes              Yes   Credit Card (automatic)   \n",
       "2                     Yes              Yes  Bank Transfer(automatic)   \n",
       "3                     Yes              Yes   Credit Card (automatic)   \n",
       "4                      No              Yes              Mailed Check   \n",
       "5                      No               No              Mailed Check   \n",
       "\n",
       "              Tenure  MonthlyCharge  Bandwidth_GB_Year  Timeliness  Fixes  \\\n",
       "CaseOrder                                                                   \n",
       "1           6.795513     171.449762         904.536110           5      5   \n",
       "2           1.156681     242.948015         800.982766           3      4   \n",
       "3          15.754144     159.440398        2054.706961           4      4   \n",
       "4          17.087227     120.249493        2164.579412           4      4   \n",
       "5           1.670972     150.761216         271.493436           4      4   \n",
       "\n",
       "           Replacements  Reliability  Options  Respectfulness  Courteous  \\\n",
       "CaseOrder                                                                  \n",
       "1                     5            3        4               4          3   \n",
       "2                     3            3        4               3          4   \n",
       "3                     2            4        4               3          3   \n",
       "4                     4            2        5               4          3   \n",
       "5                     4            3        4               4          4   \n",
       "\n",
       "           Listening  \n",
       "CaseOrder             \n",
       "1                  4  \n",
       "2                  4  \n",
       "3                  3  \n",
       "4                  3  \n",
       "5                  5  "
      ]
     },
     "execution_count": 60,
     "metadata": {},
     "output_type": "execute_result"
    }
   ],
   "source": [
    "# test copy\n",
    "df_scaled.head()"
   ]
  },
  {
   "cell_type": "code",
   "execution_count": 61,
   "metadata": {
    "collapsed": false,
    "jupyter": {
     "outputs_hidden": false
    },
    "pycharm": {
     "name": "#%%\n"
    }
   },
   "outputs": [
    {
     "data": {
      "text/html": [
       "<div>\n",
       "<style scoped>\n",
       "    .dataframe tbody tr th:only-of-type {\n",
       "        vertical-align: middle;\n",
       "    }\n",
       "\n",
       "    .dataframe tbody tr th {\n",
       "        vertical-align: top;\n",
       "    }\n",
       "\n",
       "    .dataframe thead th {\n",
       "        text-align: right;\n",
       "    }\n",
       "</style>\n",
       "<table border=\"1\" class=\"dataframe\">\n",
       "  <thead>\n",
       "    <tr style=\"text-align: right;\">\n",
       "      <th></th>\n",
       "      <th>Outage_sec_perweek</th>\n",
       "      <th>Yearly_equip_failure</th>\n",
       "      <th>Age</th>\n",
       "      <th>Contacts</th>\n",
       "      <th>Tenure</th>\n",
       "      <th>MonthlyCharge</th>\n",
       "      <th>Bandwidth_GB_Year</th>\n",
       "    </tr>\n",
       "  </thead>\n",
       "  <tbody>\n",
       "    <tr>\n",
       "      <th>count</th>\n",
       "      <td>10000.000000</td>\n",
       "      <td>10000.000000</td>\n",
       "      <td>10000.000000</td>\n",
       "      <td>10000.000000</td>\n",
       "      <td>10000.000000</td>\n",
       "      <td>10000.000000</td>\n",
       "      <td>10000.000000</td>\n",
       "    </tr>\n",
       "    <tr>\n",
       "      <th>mean</th>\n",
       "      <td>11.453592</td>\n",
       "      <td>0.398000</td>\n",
       "      <td>53.426600</td>\n",
       "      <td>0.994200</td>\n",
       "      <td>34.472212</td>\n",
       "      <td>174.076305</td>\n",
       "      <td>3413.214069</td>\n",
       "    </tr>\n",
       "    <tr>\n",
       "      <th>std</th>\n",
       "      <td>7.024842</td>\n",
       "      <td>0.635953</td>\n",
       "      <td>20.728936</td>\n",
       "      <td>0.988466</td>\n",
       "      <td>26.471578</td>\n",
       "      <td>43.335473</td>\n",
       "      <td>2184.706704</td>\n",
       "    </tr>\n",
       "    <tr>\n",
       "      <th>min</th>\n",
       "      <td>0.000000</td>\n",
       "      <td>0.000000</td>\n",
       "      <td>18.000000</td>\n",
       "      <td>0.000000</td>\n",
       "      <td>1.000259</td>\n",
       "      <td>77.505230</td>\n",
       "      <td>155.506715</td>\n",
       "    </tr>\n",
       "    <tr>\n",
       "      <th>25%</th>\n",
       "      <td>8.054362</td>\n",
       "      <td>0.000000</td>\n",
       "      <td>35.000000</td>\n",
       "      <td>0.000000</td>\n",
       "      <td>7.832862</td>\n",
       "      <td>141.071078</td>\n",
       "      <td>1239.362626</td>\n",
       "    </tr>\n",
       "    <tr>\n",
       "      <th>50%</th>\n",
       "      <td>10.202896</td>\n",
       "      <td>0.000000</td>\n",
       "      <td>54.000000</td>\n",
       "      <td>1.000000</td>\n",
       "      <td>35.430507</td>\n",
       "      <td>169.915400</td>\n",
       "      <td>3626.368500</td>\n",
       "    </tr>\n",
       "    <tr>\n",
       "      <th>75%</th>\n",
       "      <td>12.487644</td>\n",
       "      <td>1.000000</td>\n",
       "      <td>71.000000</td>\n",
       "      <td>2.000000</td>\n",
       "      <td>61.456150</td>\n",
       "      <td>203.777441</td>\n",
       "      <td>5591.796500</td>\n",
       "    </tr>\n",
       "    <tr>\n",
       "      <th>max</th>\n",
       "      <td>47.049280</td>\n",
       "      <td>6.000000</td>\n",
       "      <td>89.000000</td>\n",
       "      <td>7.000000</td>\n",
       "      <td>71.999280</td>\n",
       "      <td>315.878600</td>\n",
       "      <td>7158.982000</td>\n",
       "    </tr>\n",
       "  </tbody>\n",
       "</table>\n",
       "</div>"
      ],
      "text/plain": [
       "       Outage_sec_perweek  Yearly_equip_failure           Age      Contacts  \\\n",
       "count        10000.000000          10000.000000  10000.000000  10000.000000   \n",
       "mean            11.453592              0.398000     53.426600      0.994200   \n",
       "std              7.024842              0.635953     20.728936      0.988466   \n",
       "min              0.000000              0.000000     18.000000      0.000000   \n",
       "25%              8.054362              0.000000     35.000000      0.000000   \n",
       "50%             10.202896              0.000000     54.000000      1.000000   \n",
       "75%             12.487644              1.000000     71.000000      2.000000   \n",
       "max             47.049280              6.000000     89.000000      7.000000   \n",
       "\n",
       "             Tenure  MonthlyCharge  Bandwidth_GB_Year  \n",
       "count  10000.000000   10000.000000       10000.000000  \n",
       "mean      34.472212     174.076305        3413.214069  \n",
       "std       26.471578      43.335473        2184.706704  \n",
       "min        1.000259      77.505230         155.506715  \n",
       "25%        7.832862     141.071078        1239.362626  \n",
       "50%       35.430507     169.915400        3626.368500  \n",
       "75%       61.456150     203.777441        5591.796500  \n",
       "max       71.999280     315.878600        7158.982000  "
      ]
     },
     "execution_count": 61,
     "metadata": {},
     "output_type": "execute_result"
    }
   ],
   "source": [
    "# preview continuous variables descriptive stats as a baseline to review after scaling\n",
    "df_scaled[cont_cols].describe()"
   ]
  },
  {
   "cell_type": "code",
   "execution_count": 62,
   "metadata": {
    "collapsed": false,
    "jupyter": {
     "outputs_hidden": false
    },
    "pycharm": {
     "name": "#%%\n"
    }
   },
   "outputs": [],
   "source": [
    "# apply scaler\n",
    "df_scaled[cont_cols] = scaler.fit_transform(df_scaled[cont_cols])"
   ]
  },
  {
   "cell_type": "code",
   "execution_count": 63,
   "metadata": {
    "collapsed": false,
    "jupyter": {
     "outputs_hidden": false
    },
    "pycharm": {
     "name": "#%%\n"
    }
   },
   "outputs": [
    {
     "data": {
      "text/html": [
       "<div>\n",
       "<style scoped>\n",
       "    .dataframe tbody tr th:only-of-type {\n",
       "        vertical-align: middle;\n",
       "    }\n",
       "\n",
       "    .dataframe tbody tr th {\n",
       "        vertical-align: top;\n",
       "    }\n",
       "\n",
       "    .dataframe thead th {\n",
       "        text-align: right;\n",
       "    }\n",
       "</style>\n",
       "<table border=\"1\" class=\"dataframe\">\n",
       "  <thead>\n",
       "    <tr style=\"text-align: right;\">\n",
       "      <th></th>\n",
       "      <th>Outage_sec_perweek</th>\n",
       "      <th>Yearly_equip_failure</th>\n",
       "      <th>Age</th>\n",
       "      <th>Contacts</th>\n",
       "      <th>Tenure</th>\n",
       "      <th>MonthlyCharge</th>\n",
       "      <th>Bandwidth_GB_Year</th>\n",
       "    </tr>\n",
       "  </thead>\n",
       "  <tbody>\n",
       "    <tr>\n",
       "      <th>count</th>\n",
       "      <td>1.000000e+04</td>\n",
       "      <td>10000.000000</td>\n",
       "      <td>10000.000000</td>\n",
       "      <td>10000.000000</td>\n",
       "      <td>10000.000000</td>\n",
       "      <td>10000.000000</td>\n",
       "      <td>10000.000000</td>\n",
       "    </tr>\n",
       "    <tr>\n",
       "      <th>mean</th>\n",
       "      <td>2.821151e-01</td>\n",
       "      <td>0.398000</td>\n",
       "      <td>-0.015928</td>\n",
       "      <td>-0.002900</td>\n",
       "      <td>-0.017871</td>\n",
       "      <td>0.066355</td>\n",
       "      <td>-0.048974</td>\n",
       "    </tr>\n",
       "    <tr>\n",
       "      <th>std</th>\n",
       "      <td>1.584569e+00</td>\n",
       "      <td>0.635953</td>\n",
       "      <td>0.575804</td>\n",
       "      <td>0.494233</td>\n",
       "      <td>0.493658</td>\n",
       "      <td>0.691086</td>\n",
       "      <td>0.501951</td>\n",
       "    </tr>\n",
       "    <tr>\n",
       "      <th>min</th>\n",
       "      <td>-2.301432e+00</td>\n",
       "      <td>0.000000</td>\n",
       "      <td>-1.000000</td>\n",
       "      <td>-0.500000</td>\n",
       "      <td>-0.642076</td>\n",
       "      <td>-1.473697</td>\n",
       "      <td>-0.797453</td>\n",
       "    </tr>\n",
       "    <tr>\n",
       "      <th>25%</th>\n",
       "      <td>-4.846374e-01</td>\n",
       "      <td>0.000000</td>\n",
       "      <td>-0.527778</td>\n",
       "      <td>-0.500000</td>\n",
       "      <td>-0.514658</td>\n",
       "      <td>-0.459990</td>\n",
       "      <td>-0.548430</td>\n",
       "    </tr>\n",
       "    <tr>\n",
       "      <th>50%</th>\n",
       "      <td>-2.003606e-16</td>\n",
       "      <td>0.000000</td>\n",
       "      <td>0.000000</td>\n",
       "      <td>0.000000</td>\n",
       "      <td>0.000000</td>\n",
       "      <td>0.000000</td>\n",
       "      <td>0.000000</td>\n",
       "    </tr>\n",
       "    <tr>\n",
       "      <th>75%</th>\n",
       "      <td>5.153626e-01</td>\n",
       "      <td>1.000000</td>\n",
       "      <td>0.472222</td>\n",
       "      <td>0.500000</td>\n",
       "      <td>0.485342</td>\n",
       "      <td>0.540010</td>\n",
       "      <td>0.451570</td>\n",
       "    </tr>\n",
       "    <tr>\n",
       "      <th>max</th>\n",
       "      <td>8.311311e+00</td>\n",
       "      <td>6.000000</td>\n",
       "      <td>0.972222</td>\n",
       "      <td>3.000000</td>\n",
       "      <td>0.681957</td>\n",
       "      <td>2.327726</td>\n",
       "      <td>0.811641</td>\n",
       "    </tr>\n",
       "  </tbody>\n",
       "</table>\n",
       "</div>"
      ],
      "text/plain": [
       "       Outage_sec_perweek  Yearly_equip_failure           Age      Contacts  \\\n",
       "count        1.000000e+04          10000.000000  10000.000000  10000.000000   \n",
       "mean         2.821151e-01              0.398000     -0.015928     -0.002900   \n",
       "std          1.584569e+00              0.635953      0.575804      0.494233   \n",
       "min         -2.301432e+00              0.000000     -1.000000     -0.500000   \n",
       "25%         -4.846374e-01              0.000000     -0.527778     -0.500000   \n",
       "50%         -2.003606e-16              0.000000      0.000000      0.000000   \n",
       "75%          5.153626e-01              1.000000      0.472222      0.500000   \n",
       "max          8.311311e+00              6.000000      0.972222      3.000000   \n",
       "\n",
       "             Tenure  MonthlyCharge  Bandwidth_GB_Year  \n",
       "count  10000.000000   10000.000000       10000.000000  \n",
       "mean      -0.017871       0.066355          -0.048974  \n",
       "std        0.493658       0.691086           0.501951  \n",
       "min       -0.642076      -1.473697          -0.797453  \n",
       "25%       -0.514658      -0.459990          -0.548430  \n",
       "50%        0.000000       0.000000           0.000000  \n",
       "75%        0.485342       0.540010           0.451570  \n",
       "max        0.681957       2.327726           0.811641  "
      ]
     },
     "execution_count": 63,
     "metadata": {},
     "output_type": "execute_result"
    }
   ],
   "source": [
    "#unit test scaling\n",
    "df_scaled[cont_cols].describe()"
   ]
  },
  {
   "cell_type": "code",
   "execution_count": 64,
   "metadata": {
    "collapsed": false,
    "jupyter": {
     "outputs_hidden": false
    },
    "pycharm": {
     "name": "#%%\n"
    }
   },
   "outputs": [],
   "source": [
    "# save the scaled data to csv for future use\n",
    "df_scaled.to_csv('Churn_scaled_data.csv')"
   ]
  },
  {
   "cell_type": "markdown",
   "metadata": {
    "pycharm": {
     "name": "#%% md\n"
    }
   },
   "source": [
    "## PCA\n",
    "\n",
    "Now PCA will be applied to the continuous data"
   ]
  },
  {
   "cell_type": "code",
   "execution_count": 65,
   "metadata": {
    "collapsed": false,
    "jupyter": {
     "outputs_hidden": false
    },
    "pycharm": {
     "name": "#%%\n"
    }
   },
   "outputs": [
    {
     "data": {
      "text/html": [
       "<div>\n",
       "<style scoped>\n",
       "    .dataframe tbody tr th:only-of-type {\n",
       "        vertical-align: middle;\n",
       "    }\n",
       "\n",
       "    .dataframe tbody tr th {\n",
       "        vertical-align: top;\n",
       "    }\n",
       "\n",
       "    .dataframe thead th {\n",
       "        text-align: right;\n",
       "    }\n",
       "</style>\n",
       "<table border=\"1\" class=\"dataframe\">\n",
       "  <thead>\n",
       "    <tr style=\"text-align: right;\">\n",
       "      <th></th>\n",
       "      <th>Outage_sec_perweek</th>\n",
       "      <th>Yearly_equip_failure</th>\n",
       "      <th>Age</th>\n",
       "      <th>Contacts</th>\n",
       "      <th>Tenure</th>\n",
       "      <th>MonthlyCharge</th>\n",
       "      <th>Bandwidth_GB_Year</th>\n",
       "    </tr>\n",
       "  </thead>\n",
       "  <tbody>\n",
       "    <tr>\n",
       "      <th>0</th>\n",
       "      <td>-0.728654</td>\n",
       "      <td>1.0</td>\n",
       "      <td>0.388889</td>\n",
       "      <td>-0.5</td>\n",
       "      <td>-0.534003</td>\n",
       "      <td>0.024469</td>\n",
       "      <td>-0.625359</td>\n",
       "    </tr>\n",
       "    <tr>\n",
       "      <th>1</th>\n",
       "      <td>0.408646</td>\n",
       "      <td>1.0</td>\n",
       "      <td>-0.750000</td>\n",
       "      <td>-0.5</td>\n",
       "      <td>-0.639159</td>\n",
       "      <td>1.164676</td>\n",
       "      <td>-0.649151</td>\n",
       "    </tr>\n",
       "    <tr>\n",
       "      <th>2</th>\n",
       "      <td>0.009636</td>\n",
       "      <td>1.0</td>\n",
       "      <td>-0.111111</td>\n",
       "      <td>-0.5</td>\n",
       "      <td>-0.366937</td>\n",
       "      <td>-0.167048</td>\n",
       "      <td>-0.361099</td>\n",
       "    </tr>\n",
       "    <tr>\n",
       "      <th>3</th>\n",
       "      <td>1.128576</td>\n",
       "      <td>0.0</td>\n",
       "      <td>-0.166667</td>\n",
       "      <td>0.5</td>\n",
       "      <td>-0.342077</td>\n",
       "      <td>-0.792039</td>\n",
       "      <td>-0.335856</td>\n",
       "    </tr>\n",
       "    <tr>\n",
       "      <th>4</th>\n",
       "      <td>-0.280284</td>\n",
       "      <td>1.0</td>\n",
       "      <td>0.805556</td>\n",
       "      <td>0.5</td>\n",
       "      <td>-0.629569</td>\n",
       "      <td>-0.305458</td>\n",
       "      <td>-0.770804</td>\n",
       "    </tr>\n",
       "  </tbody>\n",
       "</table>\n",
       "</div>"
      ],
      "text/plain": [
       "   Outage_sec_perweek  Yearly_equip_failure       Age  Contacts    Tenure  \\\n",
       "0           -0.728654                   1.0  0.388889      -0.5 -0.534003   \n",
       "1            0.408646                   1.0 -0.750000      -0.5 -0.639159   \n",
       "2            0.009636                   1.0 -0.111111      -0.5 -0.366937   \n",
       "3            1.128576                   0.0 -0.166667       0.5 -0.342077   \n",
       "4           -0.280284                   1.0  0.805556       0.5 -0.629569   \n",
       "\n",
       "   MonthlyCharge  Bandwidth_GB_Year  \n",
       "0       0.024469          -0.625359  \n",
       "1       1.164676          -0.649151  \n",
       "2      -0.167048          -0.361099  \n",
       "3      -0.792039          -0.335856  \n",
       "4      -0.305458          -0.770804  "
      ]
     },
     "execution_count": 65,
     "metadata": {},
     "output_type": "execute_result"
    }
   ],
   "source": [
    "from sklearn.decomposition import PCA\n",
    "\n",
    "#create a dataframe with the scaled continuous variables\n",
    "\n",
    "df_pca = df_scaled[cont_cols]\n",
    "df_pca.reset_index(drop=True, inplace=True)\n",
    "df_pca.head()"
   ]
  },
  {
   "cell_type": "code",
   "execution_count": 66,
   "metadata": {
    "collapsed": false,
    "jupyter": {
     "outputs_hidden": false
    },
    "pycharm": {
     "name": "#%%\n"
    }
   },
   "outputs": [],
   "source": [
    "pca = PCA(7)\n",
    "X_pca = pca.fit_transform(df_pca)"
   ]
  },
  {
   "cell_type": "code",
   "execution_count": 67,
   "metadata": {
    "collapsed": false,
    "jupyter": {
     "outputs_hidden": false
    },
    "pycharm": {
     "name": "#%%\n"
    }
   },
   "outputs": [
    {
     "data": {
      "image/png": "[encoded data removed]",
      "text/plain": [
       "<Figure size 432x288 with 1 Axes>"
      ]
     },
     "metadata": {
      "needs_background": "light"
     },
     "output_type": "display_data"
    }
   ],
   "source": [
    "PC_values = np.arange(pca.n_components_) + 1\n",
    "\n",
    "vals = pca.explained_variance_ratio_\n",
    "cumvals = np.cumsum(vals)\n",
    "ax = plt.subplot(111)\n",
    "\n",
    "plt.bar(PC_values, pca.explained_variance_ratio_, color='blue')\n",
    "ax.plot(PC_values, cumvals)\n",
    "plt.title('Scree Plot')\n",
    "plt.xlabel('Principal Component')\n",
    "plt.ylabel('Variance Explained')\n",
    "plt.show()"
   ]
  },
  {
   "cell_type": "code",
   "execution_count": 68,
   "metadata": {
    "collapsed": false,
    "jupyter": {
     "outputs_hidden": false
    },
    "pycharm": {
     "name": "#%%\n"
    }
   },
   "outputs": [
    {
     "data": {
      "image/png": "[encoded data removed]",
      "text/plain": [
       "<Figure size 432x288 with 1 Axes>"
      ]
     },
     "metadata": {},
     "output_type": "display_data"
    }
   ],
   "source": [
    "PC_values = np.arange(pca.n_components_) + 1\n",
    "\n",
    "sns.set_theme(style=\"whitegrid\")\n",
    "ax = sns.barplot(x = PC_values, y = pca.explained_variance_ratio_)\n",
    "\n",
    "n = 7  # Keeps every 7th label\n",
    "[l.set_visible(False) for (i,l) in enumerate(ax.xaxis.get_ticklabels()) if i % n != 0]\n",
    "\n",
    "plt.title('Scree Plot')\n",
    "plt.xlabel('Principal Component')\n",
    "plt.ylabel('Variance Explained')\n",
    "plt.show()"
   ]
  },
  {
   "cell_type": "code",
   "execution_count": 69,
   "metadata": {
    "collapsed": false,
    "jupyter": {
     "outputs_hidden": false
    },
    "pycharm": {
     "name": "#%%\n"
    }
   },
   "outputs": [
    {
     "data": {
      "image/png": "[encoded data removed]",
      "text/plain": [
       "<Figure size 432x288 with 1 Axes>"
      ]
     },
     "metadata": {},
     "output_type": "display_data"
    }
   ],
   "source": [
    "plt.plot(pca.explained_variance_ratio_)\n",
    "plt.xlabel('number of survey metrics')\n",
    "plt.ylabel('explained variance')\n",
    "plt.show()"
   ]
  },
  {
   "cell_type": "code",
   "execution_count": 70,
   "metadata": {
    "collapsed": false,
    "jupyter": {
     "outputs_hidden": false
    },
    "pycharm": {
     "name": "#%%\n"
    }
   },
   "outputs": [
    {
     "data": {
      "text/plain": [
       "0.5647280857099315"
      ]
     },
     "execution_count": 70,
     "metadata": {},
     "output_type": "execute_result"
    }
   ],
   "source": [
    "pca.explained_variance_ratio_[0]"
   ]
  },
  {
   "cell_type": "code",
   "execution_count": 71,
   "metadata": {
    "collapsed": false,
    "jupyter": {
     "outputs_hidden": false
    },
    "pycharm": {
     "name": "#%%\n"
    }
   },
   "outputs": [],
   "source": [
    "# function to find PCA weights\n",
    "\n",
    "def weight(x,n,df):\n",
    "    pca_weights = pd.DataFrame(x.components_, columns=(df.columns))\n",
    "    weights = pca_weights.iloc[n].sort_values(ascending=False)\n",
    "    return weights"
   ]
  },
  {
   "cell_type": "code",
   "execution_count": 72,
   "metadata": {
    "collapsed": false,
    "jupyter": {
     "outputs_hidden": false
    },
    "pycharm": {
     "name": "#%%\n"
    }
   },
   "outputs": [
    {
     "data": {
      "text/plain": [
       "7"
      ]
     },
     "execution_count": 72,
     "metadata": {},
     "output_type": "execute_result"
    }
   ],
   "source": [
    "len(df_pca.columns)"
   ]
  },
  {
   "cell_type": "markdown",
   "metadata": {
    "pycharm": {
     "name": "#%% md\n"
    }
   },
   "source": [
    "### E1. List the principal components in the data set."
   ]
  },
  {
   "cell_type": "code",
   "execution_count": 73,
   "metadata": {
    "collapsed": false,
    "jupyter": {
     "outputs_hidden": false
    },
    "pycharm": {
     "name": "#%%\n"
    }
   },
   "outputs": [
    {
     "name": "stdout",
     "output_type": "stream",
     "text": [
      "Component 0 explains 56% of the data with these features contributing the most info:\n",
      "  Outage_sec_perweek      0.997491\n",
      "MonthlyCharge           0.069889\n",
      "Yearly_equip_failure    0.008045\n",
      "Bandwidth_GB_Year       0.005600\n",
      "Tenure                  0.003149\n",
      "Contacts               -0.000587\n",
      "Age                    -0.004541\n",
      "Name: 0, dtype: float64 \n",
      "\n",
      "Component 1 explains 11% of the data with these features contributing the most info:\n",
      "  MonthlyCharge           0.908426\n",
      "Bandwidth_GB_Year       0.312809\n",
      "Tenure                  0.268556\n",
      "Age                     0.016043\n",
      "Contacts                0.006444\n",
      "Yearly_equip_failure   -0.011150\n",
      "Outage_sec_perweek     -0.066086\n",
      "Name: 1, dtype: float64 \n",
      "\n",
      "Component 2 explains 10% of the data with these features contributing the most info:\n",
      "  Tenure                  0.639399\n",
      "Bandwidth_GB_Year       0.635098\n",
      "Yearly_equip_failure    0.152766\n",
      "Outage_sec_perweek      0.021324\n",
      "Contacts                0.000136\n",
      "Age                    -0.032226\n",
      "MonthlyCharge          -0.403720\n",
      "Name: 2, dtype: float64 \n",
      "\n",
      "Component 3 explains 9% of the data with these features contributing the most info:\n",
      "  Yearly_equip_failure    0.987246\n",
      "MonthlyCharge           0.070904\n",
      "Age                     0.046944\n",
      "Contacts               -0.010724\n",
      "Outage_sec_perweek     -0.011897\n",
      "Bandwidth_GB_Year      -0.093219\n",
      "Tenure                 -0.095748\n",
      "Name: 3, dtype: float64 \n",
      "\n",
      "Component 4 explains 7% of the data with these features contributing the most info:\n",
      "  Yearly_equip_failure    0.040642\n",
      "MonthlyCharge           0.030124\n",
      "Bandwidth_GB_Year      -0.002605\n",
      "Outage_sec_perweek     -0.006871\n",
      "Tenure                 -0.038092\n",
      "Contacts               -0.051708\n",
      "Age                    -0.996625\n",
      "Name: 4, dtype: float64 \n",
      "\n",
      "Component 5 explains 5% of the data with these features contributing the most info:\n",
      "  Contacts                0.998583\n",
      "Yearly_equip_failure    0.012765\n",
      "Outage_sec_perweek      0.000526\n",
      "MonthlyCharge          -0.003419\n",
      "Bandwidth_GB_Year      -0.003822\n",
      "Tenure                 -0.004224\n",
      "Age                    -0.051224\n",
      "Name: 5, dtype: float64 \n",
      "\n",
      "Component 6 explains 1% of the data with these features contributing the most info:\n",
      "  Bandwidth_GB_Year       0.700042\n",
      "Age                     0.024366\n",
      "Contacts                0.000833\n",
      "Outage_sec_perweek      0.000598\n",
      "Yearly_equip_failure   -0.001991\n",
      "MonthlyCharge          -0.030682\n",
      "Tenure                 -0.713022\n",
      "Name: 6, dtype: float64 \n",
      "\n"
     ]
    }
   ],
   "source": [
    "for i in range(len(df_pca.columns)):\n",
    "    print(f'Component {i} explains {int(round(pca.explained_variance_ratio_[i],2) * 100)}% of the data with these features contributing the most info:\\n ', weight(pca, i, df_pca), '\\n')"
   ]
  },
  {
   "cell_type": "markdown",
   "metadata": {
    "pycharm": {
     "name": "#%% md\n"
    }
   },
   "source": [
    "The principal components that explain 86% of the data are as follows:\n",
    "\n",
    "1. Outage seconds per week\n",
    "2. Monthly Charge\n",
    "3. Yearly Equipment failure"
   ]
  },
  {
   "cell_type": "markdown",
   "metadata": {
    "collapsed": false,
    "pycharm": {
     "name": "#%% md\n"
    }
   },
   "source": [
    "### E4. Describe how you identified the principal components of the data set.\n",
    "\n",
    "Using Sklearn's PCA and a subset of the dataframe with continuous variables, I was able to use a cumaltive some bar chart and screeplot to visualize component variance explanation of the components. From there, I was able to use a function to read out the explanation of variance that a component has to the entire dataset as well as the features in each component in how they contribute to variance in the data.\n",
    "\n",
    "### 5. Describe how the organization can benefit from the results of the PCA\n",
    "\n",
    "PCA can help identify the numeric variables that account the most for variance in the data. The primary benefit is reducing dimensions of large datasets without losing too much information from a column. Reducing dimensions allows for the dataset to be less computationally expensive while still being accurate/"
   ]
  },
  {
   "cell_type": "markdown",
   "metadata": {
    "collapsed": false,
    "pycharm": {
     "name": "#%% md\n"
    }
   },
   "source": [
    "## <center> References"
   ]
  },
  {
   "cell_type": "markdown",
   "metadata": {
    "collapsed": false,
    "pycharm": {
     "name": "#%% md\n"
    }
   },
   "source": [
    "(2021, August 17). Imputing or Filling Missing Values. Retrieved from IBM SPSS Documentation: ibm.com/docs/en/spss-modeler/SaaS?topic=values-imputing-filling-missing\n",
    "\n",
    "Kumar, A. (2021, October 3). Python – Replace Missing Values with Mean, Median & Mode. Retrieved from Vitaflux: https://vitalflux.com/pandas-impute-missing-values-mean-median-mode/\n",
    "\n",
    "Yıldırım, S. (2020, March 2). A Practical Guide for Data Analysis with Pandas. Retrieved from Toward Data Science: https://towardsdatascience.com/a-practical-guide-for-data-analysis-with-pandas-e24e467195a9"
   ]
  },
  {
   "cell_type": "code",
   "execution_count": 74,
   "metadata": {},
   "outputs": [
    {
     "data": {
      "text/plain": [
       "0"
      ]
     },
     "execution_count": 74,
     "metadata": {},
     "output_type": "execute_result"
    }
   ],
   "source": [
    "os.system('jupyter nbconvert --to html WGUd206.ipynb')"
   ]
  }
 ],
 "metadata": {
  "kernelspec": {
   "display_name": "base",
   "language": "python",
   "name": "python3"
  },
  "language_info": {
   "codemirror_mode": {
    "name": "ipython",
    "version": 3
   },
   "file_extension": ".py",
   "mimetype": "text/x-python",
   "name": "python",
   "nbconvert_exporter": "python",
   "pygments_lexer": "ipython3",
   "version": "3.9.12"
  },
  "vscode": {
   "interpreter": {
    "hash": "04cd323bcfca6d5122a158529f0e7b9beb1ef8bc4a464a63fcc23a16e9c333c3"
   }
  }
 },
 "nbformat": 4,
 "nbformat_minor": 4
}
