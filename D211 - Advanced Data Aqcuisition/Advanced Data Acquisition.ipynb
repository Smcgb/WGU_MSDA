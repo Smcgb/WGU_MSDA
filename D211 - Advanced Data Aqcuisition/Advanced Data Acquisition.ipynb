{
 "cells": [
  {
   "cell_type": "markdown",
   "source": [
    "# Western Governors University\n",
    "## D211 - Advanced Data Acquisition\n",
    "### Shane Boyce"
   ],
   "metadata": {
    "collapsed": false
   }
  },
  {
   "cell_type": "code",
   "execution_count": 17,
   "id": "6e5c8b9f-bdae-43a8-af3f-35b04b08a711",
   "metadata": {},
   "outputs": [],
   "source": [
    "import pandas as pd"
   ]
  },
  {
   "cell_type": "markdown",
   "id": "68023694",
   "metadata": {},
   "source": [
    "#### Data Preparation\n",
    "\n",
    "In order to normalize wa_fn as much as possible to make visualization easier, each CSV will be read into a pandas dataframe to assist with cleaning wa_fn before loading it into the Postgres database. The following code will read each CSV into a dataframe and then print the first 5 rows of each dataframe to verify the data was read correctly.\n"
   ]
  },
  {
   "cell_type": "code",
   "execution_count": 18,
   "id": "fe3d79cf",
   "metadata": {
    "collapsed": false,
    "jupyter": {
     "outputs_hidden": false
    }
   },
   "outputs": [
    {
     "data": {
      "text/plain": "   customerID  gender  SeniorCitizen Partner Dependents  tenure PhoneService  \\\n0  7590-VHVEG  Female              0     Yes         No       1           No   \n1  5575-GNVDE    Male              0      No         No      34          Yes   \n2  3668-QPYBK    Male              0      No         No       2          Yes   \n3  7795-CFOCW    Male              0      No         No      45           No   \n4  9237-HQITU  Female              0      No         No       2          Yes   \n\n      MultipleLines InternetService OnlineSecurity  ... DeviceProtection  \\\n0  No phone service             DSL             No  ...               No   \n1                No             DSL            Yes  ...              Yes   \n2                No             DSL            Yes  ...               No   \n3  No phone service             DSL            Yes  ...              Yes   \n4                No     Fiber optic             No  ...               No   \n\n  TechSupport StreamingTV StreamingMovies        Contract PaperlessBilling  \\\n0          No          No              No  Month-to-month              Yes   \n1          No          No              No        One year               No   \n2          No          No              No  Month-to-month              Yes   \n3         Yes          No              No        One year               No   \n4          No          No              No  Month-to-month              Yes   \n\n               PaymentMethod MonthlyCharges  TotalCharges Churn  \n0           Electronic check          29.85         29.85    No  \n1               Mailed check          56.95        1889.5    No  \n2               Mailed check          53.85        108.15   Yes  \n3  Bank transfer (automatic)          42.30       1840.75    No  \n4           Electronic check          70.70        151.65   Yes  \n\n[5 rows x 21 columns]",
      "text/html": "<div>\n<style scoped>\n    .dataframe tbody tr th:only-of-type {\n        vertical-align: middle;\n    }\n\n    .dataframe tbody tr th {\n        vertical-align: top;\n    }\n\n    .dataframe thead th {\n        text-align: right;\n    }\n</style>\n<table border=\"1\" class=\"dataframe\">\n  <thead>\n    <tr style=\"text-align: right;\">\n      <th></th>\n      <th>customerID</th>\n      <th>gender</th>\n      <th>SeniorCitizen</th>\n      <th>Partner</th>\n      <th>Dependents</th>\n      <th>tenure</th>\n      <th>PhoneService</th>\n      <th>MultipleLines</th>\n      <th>InternetService</th>\n      <th>OnlineSecurity</th>\n      <th>...</th>\n      <th>DeviceProtection</th>\n      <th>TechSupport</th>\n      <th>StreamingTV</th>\n      <th>StreamingMovies</th>\n      <th>Contract</th>\n      <th>PaperlessBilling</th>\n      <th>PaymentMethod</th>\n      <th>MonthlyCharges</th>\n      <th>TotalCharges</th>\n      <th>Churn</th>\n    </tr>\n  </thead>\n  <tbody>\n    <tr>\n      <th>0</th>\n      <td>7590-VHVEG</td>\n      <td>Female</td>\n      <td>0</td>\n      <td>Yes</td>\n      <td>No</td>\n      <td>1</td>\n      <td>No</td>\n      <td>No phone service</td>\n      <td>DSL</td>\n      <td>No</td>\n      <td>...</td>\n      <td>No</td>\n      <td>No</td>\n      <td>No</td>\n      <td>No</td>\n      <td>Month-to-month</td>\n      <td>Yes</td>\n      <td>Electronic check</td>\n      <td>29.85</td>\n      <td>29.85</td>\n      <td>No</td>\n    </tr>\n    <tr>\n      <th>1</th>\n      <td>5575-GNVDE</td>\n      <td>Male</td>\n      <td>0</td>\n      <td>No</td>\n      <td>No</td>\n      <td>34</td>\n      <td>Yes</td>\n      <td>No</td>\n      <td>DSL</td>\n      <td>Yes</td>\n      <td>...</td>\n      <td>Yes</td>\n      <td>No</td>\n      <td>No</td>\n      <td>No</td>\n      <td>One year</td>\n      <td>No</td>\n      <td>Mailed check</td>\n      <td>56.95</td>\n      <td>1889.5</td>\n      <td>No</td>\n    </tr>\n    <tr>\n      <th>2</th>\n      <td>3668-QPYBK</td>\n      <td>Male</td>\n      <td>0</td>\n      <td>No</td>\n      <td>No</td>\n      <td>2</td>\n      <td>Yes</td>\n      <td>No</td>\n      <td>DSL</td>\n      <td>Yes</td>\n      <td>...</td>\n      <td>No</td>\n      <td>No</td>\n      <td>No</td>\n      <td>No</td>\n      <td>Month-to-month</td>\n      <td>Yes</td>\n      <td>Mailed check</td>\n      <td>53.85</td>\n      <td>108.15</td>\n      <td>Yes</td>\n    </tr>\n    <tr>\n      <th>3</th>\n      <td>7795-CFOCW</td>\n      <td>Male</td>\n      <td>0</td>\n      <td>No</td>\n      <td>No</td>\n      <td>45</td>\n      <td>No</td>\n      <td>No phone service</td>\n      <td>DSL</td>\n      <td>Yes</td>\n      <td>...</td>\n      <td>Yes</td>\n      <td>Yes</td>\n      <td>No</td>\n      <td>No</td>\n      <td>One year</td>\n      <td>No</td>\n      <td>Bank transfer (automatic)</td>\n      <td>42.30</td>\n      <td>1840.75</td>\n      <td>No</td>\n    </tr>\n    <tr>\n      <th>4</th>\n      <td>9237-HQITU</td>\n      <td>Female</td>\n      <td>0</td>\n      <td>No</td>\n      <td>No</td>\n      <td>2</td>\n      <td>Yes</td>\n      <td>No</td>\n      <td>Fiber optic</td>\n      <td>No</td>\n      <td>...</td>\n      <td>No</td>\n      <td>No</td>\n      <td>No</td>\n      <td>No</td>\n      <td>Month-to-month</td>\n      <td>Yes</td>\n      <td>Electronic check</td>\n      <td>70.70</td>\n      <td>151.65</td>\n      <td>Yes</td>\n    </tr>\n  </tbody>\n</table>\n<p>5 rows × 21 columns</p>\n</div>"
     },
     "execution_count": 18,
     "metadata": {},
     "output_type": "execute_result"
    }
   ],
   "source": [
    "#unclean and unnormalized data to be read into pandas and then uploaded to Postgres\n",
    "wa_fn = pd.read_csv('WA_Fn-UseC_-Telco-Customer-Churn.csv')\n",
    "wa_fn.head()"
   ]
  },
  {
   "cell_type": "code",
   "execution_count": 19,
   "id": "266cca8c",
   "metadata": {
    "collapsed": false,
    "jupyter": {
     "outputs_hidden": false
    }
   },
   "outputs": [],
   "source": [
    "#normalized tables for referencing\n",
    "services = pd.read_csv('services.csv')\n",
    "contract = pd.read_csv('contract.csv')\n",
    "customer = pd.read_csv('customer.csv')\n",
    "payment = pd.read_csv('payment.csv', index_col=None)\n",
    "surveys = pd.read_csv('Survey_Responses.csv')"
   ]
  },
  {
   "cell_type": "code",
   "execution_count": 20,
   "id": "efec00a4",
   "metadata": {
    "collapsed": false,
    "jupyter": {
     "outputs_hidden": false
    }
   },
   "outputs": [
    {
     "data": {
      "text/plain": "  customer_id InternetService Phone Multiple OnlineSecurity OnlineBackup  \\\n0      A00088     Fiber Optic   Yes      Yes            Yes           No   \n1      A04204             DSL   Yes      Yes            Yes          Yes   \n2      A04378            None   Yes      Yes             No           No   \n3      A04830             DSL   Yes      Yes            Yes           No   \n4      A05946     Fiber Optic    No       No             No           No   \n\n  DeviceProtection TechSupport  \n0               No          No  \n1              Yes         Yes  \n2               No         Yes  \n3              Yes          No  \n4               No          No  ",
      "text/html": "<div>\n<style scoped>\n    .dataframe tbody tr th:only-of-type {\n        vertical-align: middle;\n    }\n\n    .dataframe tbody tr th {\n        vertical-align: top;\n    }\n\n    .dataframe thead th {\n        text-align: right;\n    }\n</style>\n<table border=\"1\" class=\"dataframe\">\n  <thead>\n    <tr style=\"text-align: right;\">\n      <th></th>\n      <th>customer_id</th>\n      <th>InternetService</th>\n      <th>Phone</th>\n      <th>Multiple</th>\n      <th>OnlineSecurity</th>\n      <th>OnlineBackup</th>\n      <th>DeviceProtection</th>\n      <th>TechSupport</th>\n    </tr>\n  </thead>\n  <tbody>\n    <tr>\n      <th>0</th>\n      <td>A00088</td>\n      <td>Fiber Optic</td>\n      <td>Yes</td>\n      <td>Yes</td>\n      <td>Yes</td>\n      <td>No</td>\n      <td>No</td>\n      <td>No</td>\n    </tr>\n    <tr>\n      <th>1</th>\n      <td>A04204</td>\n      <td>DSL</td>\n      <td>Yes</td>\n      <td>Yes</td>\n      <td>Yes</td>\n      <td>Yes</td>\n      <td>Yes</td>\n      <td>Yes</td>\n    </tr>\n    <tr>\n      <th>2</th>\n      <td>A04378</td>\n      <td>None</td>\n      <td>Yes</td>\n      <td>Yes</td>\n      <td>No</td>\n      <td>No</td>\n      <td>No</td>\n      <td>Yes</td>\n    </tr>\n    <tr>\n      <th>3</th>\n      <td>A04830</td>\n      <td>DSL</td>\n      <td>Yes</td>\n      <td>Yes</td>\n      <td>Yes</td>\n      <td>No</td>\n      <td>Yes</td>\n      <td>No</td>\n    </tr>\n    <tr>\n      <th>4</th>\n      <td>A05946</td>\n      <td>Fiber Optic</td>\n      <td>No</td>\n      <td>No</td>\n      <td>No</td>\n      <td>No</td>\n      <td>No</td>\n      <td>No</td>\n    </tr>\n  </tbody>\n</table>\n</div>"
     },
     "execution_count": 20,
     "metadata": {},
     "output_type": "execute_result"
    }
   ],
   "source": [
    "#verify tables were read correctly\n",
    "services.head()"
   ]
  },
  {
   "cell_type": "code",
   "execution_count": 21,
   "id": "5fea4747",
   "metadata": {
    "collapsed": false,
    "jupyter": {
     "outputs_hidden": false
    }
   },
   "outputs": [
    {
     "data": {
      "text/plain": "   payment_id             payment_type\n0           1  Bank Transfer Automatic\n1           2    Credit Card Automatic\n2           3         Electronic Check\n3           4             Mailed Check",
      "text/html": "<div>\n<style scoped>\n    .dataframe tbody tr th:only-of-type {\n        vertical-align: middle;\n    }\n\n    .dataframe tbody tr th {\n        vertical-align: top;\n    }\n\n    .dataframe thead th {\n        text-align: right;\n    }\n</style>\n<table border=\"1\" class=\"dataframe\">\n  <thead>\n    <tr style=\"text-align: right;\">\n      <th></th>\n      <th>payment_id</th>\n      <th>payment_type</th>\n    </tr>\n  </thead>\n  <tbody>\n    <tr>\n      <th>0</th>\n      <td>1</td>\n      <td>Bank Transfer Automatic</td>\n    </tr>\n    <tr>\n      <th>1</th>\n      <td>2</td>\n      <td>Credit Card Automatic</td>\n    </tr>\n    <tr>\n      <th>2</th>\n      <td>3</td>\n      <td>Electronic Check</td>\n    </tr>\n    <tr>\n      <th>3</th>\n      <td>4</td>\n      <td>Mailed Check</td>\n    </tr>\n  </tbody>\n</table>\n</div>"
     },
     "execution_count": 21,
     "metadata": {},
     "output_type": "execute_result"
    }
   ],
   "source": [
    "payment.head()"
   ]
  },
  {
   "cell_type": "code",
   "execution_count": 22,
   "id": "86a94cf4",
   "metadata": {
    "collapsed": false,
    "jupyter": {
     "outputs_hidden": false
    }
   },
   "outputs": [
    {
     "data": {
      "text/plain": "  customer_id       lat        lng  population  children  age    income  \\\n0     K409198  56.25100 -133.37571          38         0   68  28561.99   \n1     S120509  44.32893  -84.24080       10446         1   27  21704.77   \n2     K191035  45.35589 -123.24657        3735         4   50   9609.57   \n3      D90850  32.96687 -117.24798       13863         1   48  18925.23   \n4     K662701  29.38012  -95.80673       11352         0   83  40074.19   \n\n     marital churn  gender  ...  email  contacts  yearly_equip_faiure  techie  \\\n0    Widowed    No    Male  ...     10         0                    1      No   \n1    Married   Yes  Female  ...     12         0                    1     Yes   \n2    Widowed    No  Female  ...      9         0                    1     Yes   \n3    Married    No    Male  ...     15         2                    0     Yes   \n4  Separated   Yes    Male  ...     16         2                    1      No   \n\n   port_modem  tablet  job_id payment_id contract_id location_id  \n0         Yes     Yes     229          2           2        5599  \n1          No     Yes     468          1           1        2737  \n2         Yes      No      96          2           3        1297  \n3          No      No     552          4           3        5181  \n4         Yes      No     371          4           1          30  \n\n[5 rows x 24 columns]",
      "text/html": "<div>\n<style scoped>\n    .dataframe tbody tr th:only-of-type {\n        vertical-align: middle;\n    }\n\n    .dataframe tbody tr th {\n        vertical-align: top;\n    }\n\n    .dataframe thead th {\n        text-align: right;\n    }\n</style>\n<table border=\"1\" class=\"dataframe\">\n  <thead>\n    <tr style=\"text-align: right;\">\n      <th></th>\n      <th>customer_id</th>\n      <th>lat</th>\n      <th>lng</th>\n      <th>population</th>\n      <th>children</th>\n      <th>age</th>\n      <th>income</th>\n      <th>marital</th>\n      <th>churn</th>\n      <th>gender</th>\n      <th>...</th>\n      <th>email</th>\n      <th>contacts</th>\n      <th>yearly_equip_faiure</th>\n      <th>techie</th>\n      <th>port_modem</th>\n      <th>tablet</th>\n      <th>job_id</th>\n      <th>payment_id</th>\n      <th>contract_id</th>\n      <th>location_id</th>\n    </tr>\n  </thead>\n  <tbody>\n    <tr>\n      <th>0</th>\n      <td>K409198</td>\n      <td>56.25100</td>\n      <td>-133.37571</td>\n      <td>38</td>\n      <td>0</td>\n      <td>68</td>\n      <td>28561.99</td>\n      <td>Widowed</td>\n      <td>No</td>\n      <td>Male</td>\n      <td>...</td>\n      <td>10</td>\n      <td>0</td>\n      <td>1</td>\n      <td>No</td>\n      <td>Yes</td>\n      <td>Yes</td>\n      <td>229</td>\n      <td>2</td>\n      <td>2</td>\n      <td>5599</td>\n    </tr>\n    <tr>\n      <th>1</th>\n      <td>S120509</td>\n      <td>44.32893</td>\n      <td>-84.24080</td>\n      <td>10446</td>\n      <td>1</td>\n      <td>27</td>\n      <td>21704.77</td>\n      <td>Married</td>\n      <td>Yes</td>\n      <td>Female</td>\n      <td>...</td>\n      <td>12</td>\n      <td>0</td>\n      <td>1</td>\n      <td>Yes</td>\n      <td>No</td>\n      <td>Yes</td>\n      <td>468</td>\n      <td>1</td>\n      <td>1</td>\n      <td>2737</td>\n    </tr>\n    <tr>\n      <th>2</th>\n      <td>K191035</td>\n      <td>45.35589</td>\n      <td>-123.24657</td>\n      <td>3735</td>\n      <td>4</td>\n      <td>50</td>\n      <td>9609.57</td>\n      <td>Widowed</td>\n      <td>No</td>\n      <td>Female</td>\n      <td>...</td>\n      <td>9</td>\n      <td>0</td>\n      <td>1</td>\n      <td>Yes</td>\n      <td>Yes</td>\n      <td>No</td>\n      <td>96</td>\n      <td>2</td>\n      <td>3</td>\n      <td>1297</td>\n    </tr>\n    <tr>\n      <th>3</th>\n      <td>D90850</td>\n      <td>32.96687</td>\n      <td>-117.24798</td>\n      <td>13863</td>\n      <td>1</td>\n      <td>48</td>\n      <td>18925.23</td>\n      <td>Married</td>\n      <td>No</td>\n      <td>Male</td>\n      <td>...</td>\n      <td>15</td>\n      <td>2</td>\n      <td>0</td>\n      <td>Yes</td>\n      <td>No</td>\n      <td>No</td>\n      <td>552</td>\n      <td>4</td>\n      <td>3</td>\n      <td>5181</td>\n    </tr>\n    <tr>\n      <th>4</th>\n      <td>K662701</td>\n      <td>29.38012</td>\n      <td>-95.80673</td>\n      <td>11352</td>\n      <td>0</td>\n      <td>83</td>\n      <td>40074.19</td>\n      <td>Separated</td>\n      <td>Yes</td>\n      <td>Male</td>\n      <td>...</td>\n      <td>16</td>\n      <td>2</td>\n      <td>1</td>\n      <td>No</td>\n      <td>Yes</td>\n      <td>No</td>\n      <td>371</td>\n      <td>4</td>\n      <td>1</td>\n      <td>30</td>\n    </tr>\n  </tbody>\n</table>\n<p>5 rows × 24 columns</p>\n</div>"
     },
     "execution_count": 22,
     "metadata": {},
     "output_type": "execute_result"
    }
   ],
   "source": [
    "customer.head()"
   ]
  },
  {
   "cell_type": "code",
   "execution_count": 23,
   "id": "b57926d1",
   "metadata": {
    "collapsed": false,
    "jupyter": {
     "outputs_hidden": false
    }
   },
   "outputs": [
    {
     "data": {
      "text/plain": "   1 Month-to-month\n0  2       One year\n1  3       Two Year",
      "text/html": "<div>\n<style scoped>\n    .dataframe tbody tr th:only-of-type {\n        vertical-align: middle;\n    }\n\n    .dataframe tbody tr th {\n        vertical-align: top;\n    }\n\n    .dataframe thead th {\n        text-align: right;\n    }\n</style>\n<table border=\"1\" class=\"dataframe\">\n  <thead>\n    <tr style=\"text-align: right;\">\n      <th></th>\n      <th>1</th>\n      <th>Month-to-month</th>\n    </tr>\n  </thead>\n  <tbody>\n    <tr>\n      <th>0</th>\n      <td>2</td>\n      <td>One year</td>\n    </tr>\n    <tr>\n      <th>1</th>\n      <td>3</td>\n      <td>Two Year</td>\n    </tr>\n  </tbody>\n</table>\n</div>"
     },
     "execution_count": 23,
     "metadata": {},
     "output_type": "execute_result"
    }
   ],
   "source": [
    "#While this wasn't read in properly by pandas, it is a reference only to assist with cleaning wa_fn and will not be updated here.\n",
    "contract.head()"
   ]
  },
  {
   "cell_type": "code",
   "execution_count": 24,
   "id": "13ec8a4e",
   "metadata": {
    "collapsed": false,
    "jupyter": {
     "outputs_hidden": false
    }
   },
   "outputs": [
    {
     "data": {
      "text/plain": "  customer_id  Timely_Responses  Timely Fixes  Timely_Replacement  \\\n0      A00088                 2             3                   3   \n1      A04204                 5             3                   4   \n2      A04378                 4             5                   4   \n3      A04830                 3             3                   3   \n4      A05946                 3             3                   3   \n\n   Reliability  Options  Respectful  Courteous  Active_Listening  \n0            2        6           2          2                 4  \n1            1        6           3          3                 2  \n2            2        4           4          2                 3  \n3            5        3           4          5                 4  \n4            5        3           4          4                 4  ",
      "text/html": "<div>\n<style scoped>\n    .dataframe tbody tr th:only-of-type {\n        vertical-align: middle;\n    }\n\n    .dataframe tbody tr th {\n        vertical-align: top;\n    }\n\n    .dataframe thead th {\n        text-align: right;\n    }\n</style>\n<table border=\"1\" class=\"dataframe\">\n  <thead>\n    <tr style=\"text-align: right;\">\n      <th></th>\n      <th>customer_id</th>\n      <th>Timely_Responses</th>\n      <th>Timely Fixes</th>\n      <th>Timely_Replacement</th>\n      <th>Reliability</th>\n      <th>Options</th>\n      <th>Respectful</th>\n      <th>Courteous</th>\n      <th>Active_Listening</th>\n    </tr>\n  </thead>\n  <tbody>\n    <tr>\n      <th>0</th>\n      <td>A00088</td>\n      <td>2</td>\n      <td>3</td>\n      <td>3</td>\n      <td>2</td>\n      <td>6</td>\n      <td>2</td>\n      <td>2</td>\n      <td>4</td>\n    </tr>\n    <tr>\n      <th>1</th>\n      <td>A04204</td>\n      <td>5</td>\n      <td>3</td>\n      <td>4</td>\n      <td>1</td>\n      <td>6</td>\n      <td>3</td>\n      <td>3</td>\n      <td>2</td>\n    </tr>\n    <tr>\n      <th>2</th>\n      <td>A04378</td>\n      <td>4</td>\n      <td>5</td>\n      <td>4</td>\n      <td>2</td>\n      <td>4</td>\n      <td>4</td>\n      <td>2</td>\n      <td>3</td>\n    </tr>\n    <tr>\n      <th>3</th>\n      <td>A04830</td>\n      <td>3</td>\n      <td>3</td>\n      <td>3</td>\n      <td>5</td>\n      <td>3</td>\n      <td>4</td>\n      <td>5</td>\n      <td>4</td>\n    </tr>\n    <tr>\n      <th>4</th>\n      <td>A05946</td>\n      <td>3</td>\n      <td>3</td>\n      <td>3</td>\n      <td>5</td>\n      <td>3</td>\n      <td>4</td>\n      <td>4</td>\n      <td>4</td>\n    </tr>\n  </tbody>\n</table>\n</div>"
     },
     "execution_count": 24,
     "metadata": {},
     "output_type": "execute_result"
    }
   ],
   "source": [
    "surveys.head()"
   ]
  },
  {
   "cell_type": "code",
   "execution_count": 25,
   "id": "f8195629",
   "metadata": {
    "collapsed": false,
    "jupyter": {
     "outputs_hidden": false
    }
   },
   "outputs": [
    {
     "data": {
      "text/plain": "Index(['customerID', 'gender', 'SeniorCitizen', 'Partner', 'Dependents',\n       'tenure', 'PhoneService', 'MultipleLines', 'InternetService',\n       'OnlineSecurity', 'OnlineBackup', 'DeviceProtection', 'TechSupport',\n       'StreamingTV', 'StreamingMovies', 'Contract', 'PaperlessBilling',\n       'PaymentMethod', 'MonthlyCharges', 'TotalCharges', 'Churn'],\n      dtype='object')"
     },
     "execution_count": 25,
     "metadata": {},
     "output_type": "execute_result"
    }
   ],
   "source": [
    "#view columns in wa_fn to assist with cleaning\n",
    "wa_fn.columns"
   ]
  },
  {
   "cell_type": "code",
   "execution_count": 26,
   "id": "68e04b55",
   "metadata": {
    "collapsed": false,
    "jupyter": {
     "outputs_hidden": false
    }
   },
   "outputs": [
    {
     "data": {
      "text/plain": "Index(['customer_id', 'lat', 'lng', 'population', 'children', 'age', 'income',\n       'marital', 'churn', 'gender', 'tenure', 'monthly_charge',\n       'bandwidth_gp_year', 'outage_sec_week', 'email', 'contacts',\n       'yearly_equip_faiure', 'techie', 'port_modem', 'tablet', 'job_id',\n       'payment_id', 'contract_id', 'location_id'],\n      dtype='object')"
     },
     "execution_count": 26,
     "metadata": {},
     "output_type": "execute_result"
    }
   ],
   "source": [
    "customer.columns"
   ]
  },
  {
   "cell_type": "code",
   "execution_count": 27,
   "outputs": [
    {
     "data": {
      "text/plain": "(['customerID',\n  'gender',\n  'SeniorCitizen',\n  'Partner',\n  'Dependents',\n  'tenure',\n  'PhoneService',\n  'MultipleLines',\n  'InternetService',\n  'OnlineSecurity',\n  'OnlineBackup',\n  'DeviceProtection',\n  'TechSupport',\n  'StreamingTV',\n  'StreamingMovies',\n  'Contract',\n  'PaperlessBilling',\n  'PaymentMethod',\n  'MonthlyCharges',\n  'TotalCharges',\n  'Churn'],\n ['customer_id',\n  'lat',\n  'lng',\n  'population',\n  'children',\n  'age',\n  'income',\n  'marital',\n  'churn',\n  'gender',\n  'tenure',\n  'monthly_charge',\n  'bandwidth_gp_year',\n  'outage_sec_week',\n  'email',\n  'contacts',\n  'yearly_equip_faiure',\n  'techie',\n  'port_modem',\n  'tablet',\n  'job_id',\n  'payment_id',\n  'contract_id',\n  'location_id'],\n ['customer_id',\n  'InternetService',\n  'Phone',\n  'Multiple',\n  'OnlineSecurity',\n  'OnlineBackup',\n  'DeviceProtection',\n  'TechSupport'])"
     },
     "execution_count": 27,
     "metadata": {},
     "output_type": "execute_result"
    }
   ],
   "source": [
    "wafncols = wa_fn.columns.tolist()\n",
    "cuscols = customer.columns.tolist()\n",
    "serv_cols = services.columns.tolist()\n",
    "rename_dict = {}\n",
    "wafncols, cuscols, serv_cols"
   ],
   "metadata": {
    "collapsed": false
   }
  },
  {
   "cell_type": "code",
   "execution_count": 28,
   "outputs": [
    {
     "data": {
      "text/plain": "{'customerID': 'customer_id',\n 'Churn': 'churn',\n 'gender': 'gender',\n 'tenure': 'tenure',\n 'MonthlyCharges': 'monthly_charge',\n 'PaymentMethod': 'payment_id',\n 'Contract': 'contract_id'}"
     },
     "execution_count": 28,
     "metadata": {},
     "output_type": "execute_result"
    }
   ],
   "source": [
    "for col in cuscols:\n",
    "    for col2 in wafncols:\n",
    "        if col[:5] == col2[:5].lower():\n",
    "            rename_dict[col2] = col\n",
    "        else:\n",
    "            pass\n",
    "\n",
    "\n",
    "rename_dict\n"
   ],
   "metadata": {
    "collapsed": false
   }
  },
  {
   "cell_type": "code",
   "execution_count": 32,
   "id": "a9a8156a",
   "metadata": {
    "collapsed": false,
    "jupyter": {
     "outputs_hidden": false
    }
   },
   "outputs": [
    {
     "data": {
      "text/plain": "                                 0\ncustomer_id             7590-VHVEG\ngender                      Female\nSeniorCitizen                    0\nPartner                        Yes\nDependents                      No\ntenure                           1\nPhoneService                    No\nMultipleLines     No phone service\nInternetService                DSL\nOnlineSecurity                  No\nOnlineBackup                   Yes\nDeviceProtection                No\nTechSupport                     No\nStreamingTV                     No\nStreamingMovies                 No\ncontract_id         Month-to-month\nPaperlessBilling               Yes\npayment_id        Electronic check\nmonthly_charge               29.85\nTotalCharges                 29.85\nchurn                           No",
      "text/html": "<div>\n<style scoped>\n    .dataframe tbody tr th:only-of-type {\n        vertical-align: middle;\n    }\n\n    .dataframe tbody tr th {\n        vertical-align: top;\n    }\n\n    .dataframe thead th {\n        text-align: right;\n    }\n</style>\n<table border=\"1\" class=\"dataframe\">\n  <thead>\n    <tr style=\"text-align: right;\">\n      <th></th>\n      <th>0</th>\n    </tr>\n  </thead>\n  <tbody>\n    <tr>\n      <th>customer_id</th>\n      <td>7590-VHVEG</td>\n    </tr>\n    <tr>\n      <th>gender</th>\n      <td>Female</td>\n    </tr>\n    <tr>\n      <th>SeniorCitizen</th>\n      <td>0</td>\n    </tr>\n    <tr>\n      <th>Partner</th>\n      <td>Yes</td>\n    </tr>\n    <tr>\n      <th>Dependents</th>\n      <td>No</td>\n    </tr>\n    <tr>\n      <th>tenure</th>\n      <td>1</td>\n    </tr>\n    <tr>\n      <th>PhoneService</th>\n      <td>No</td>\n    </tr>\n    <tr>\n      <th>MultipleLines</th>\n      <td>No phone service</td>\n    </tr>\n    <tr>\n      <th>InternetService</th>\n      <td>DSL</td>\n    </tr>\n    <tr>\n      <th>OnlineSecurity</th>\n      <td>No</td>\n    </tr>\n    <tr>\n      <th>OnlineBackup</th>\n      <td>Yes</td>\n    </tr>\n    <tr>\n      <th>DeviceProtection</th>\n      <td>No</td>\n    </tr>\n    <tr>\n      <th>TechSupport</th>\n      <td>No</td>\n    </tr>\n    <tr>\n      <th>StreamingTV</th>\n      <td>No</td>\n    </tr>\n    <tr>\n      <th>StreamingMovies</th>\n      <td>No</td>\n    </tr>\n    <tr>\n      <th>contract_id</th>\n      <td>Month-to-month</td>\n    </tr>\n    <tr>\n      <th>PaperlessBilling</th>\n      <td>Yes</td>\n    </tr>\n    <tr>\n      <th>payment_id</th>\n      <td>Electronic check</td>\n    </tr>\n    <tr>\n      <th>monthly_charge</th>\n      <td>29.85</td>\n    </tr>\n    <tr>\n      <th>TotalCharges</th>\n      <td>29.85</td>\n    </tr>\n    <tr>\n      <th>churn</th>\n      <td>No</td>\n    </tr>\n  </tbody>\n</table>\n</div>"
     },
     "execution_count": 32,
     "metadata": {},
     "output_type": "execute_result"
    }
   ],
   "source": [
    "#rename customerID to customer_id to match the customer table\n",
    "wa_fn.rename(columns=rename_dict, inplace=True)\n",
    "wa_fn.head(1).transpose()some"
   ]
  },
  {
   "cell_type": "code",
   "execution_count": 29,
   "id": "4295a273",
   "metadata": {
    "collapsed": false,
    "jupyter": {
     "outputs_hidden": false
    }
   },
   "outputs": [],
   "source": []
  },
  {
   "cell_type": "code",
   "execution_count": 29,
   "id": "43579a8f",
   "metadata": {
    "collapsed": false,
    "jupyter": {
     "outputs_hidden": false
    }
   },
   "outputs": [],
   "source": []
  },
  {
   "cell_type": "code",
   "execution_count": 29,
   "id": "0dd814ab",
   "metadata": {
    "collapsed": false,
    "jupyter": {
     "outputs_hidden": false
    }
   },
   "outputs": [],
   "source": []
  },
  {
   "cell_type": "code",
   "execution_count": 29,
   "id": "4c5d1c0d",
   "metadata": {
    "collapsed": false,
    "jupyter": {
     "outputs_hidden": false
    }
   },
   "outputs": [],
   "source": []
  },
  {
   "cell_type": "code",
   "execution_count": 29,
   "id": "6a6337a0",
   "metadata": {
    "collapsed": false,
    "jupyter": {
     "outputs_hidden": false
    }
   },
   "outputs": [],
   "source": []
  },
  {
   "cell_type": "code",
   "execution_count": 29,
   "id": "e46d0cc6",
   "metadata": {
    "collapsed": false,
    "jupyter": {
     "outputs_hidden": false
    }
   },
   "outputs": [],
   "source": []
  },
  {
   "cell_type": "code",
   "execution_count": 29,
   "id": "c210d57b",
   "metadata": {
    "collapsed": false,
    "jupyter": {
     "outputs_hidden": false
    }
   },
   "outputs": [],
   "source": []
  },
  {
   "cell_type": "code",
   "execution_count": 29,
   "id": "ff96aef6",
   "metadata": {
    "collapsed": false,
    "jupyter": {
     "outputs_hidden": false
    }
   },
   "outputs": [],
   "source": []
  },
  {
   "cell_type": "code",
   "execution_count": 29,
   "id": "67f4c24d",
   "metadata": {
    "collapsed": false,
    "jupyter": {
     "outputs_hidden": false
    }
   },
   "outputs": [],
   "source": []
  },
  {
   "cell_type": "markdown",
   "id": "6d41b3eb-3f8f-44a5-9d84-c3a680ec7f4e",
   "metadata": {},
   "source": [
    "####Part 1:  Data Dashboards\n",
    "\n",
    "A.  Provide a copy of your dashboards that support executive decision-making.\n",
    "\n",
    "A Tableau workbook is provided within this repository.\n",
    "\n",
    "1.  Provide both data sets that serve as the data source for the dashboards.\n",
    "\n",
    "The datasets are included here as CSVs (A normalized `Customer` as 7 csvs dataset with an non-normalized `wa_fn` dataset).\n",
    "\n",
    "2.  Provide step-by-step instructions to guide users through the dashboard installation.\n",
    "\n",
    "This dashboarding experience requires the attached CSV files, a local instance of PostgreSql with the ability to use COPY in the DML query tool or \\copy in PSQL command line environment. In part 4, the Psycopg2 libary is used to connect to the database and execute the COPY command. The attached CSVs are used to create the tables in the database. The attached Tableau workbook is used to connect to the database and create the dashboards.\n",
    "\n",
    "3.  Provide clear instructions to help users navigate the dashboards.\n",
    "\n",
    "4.  Provide a copy of all SQL code and other code supporting the dashboards."
   ]
  },
  {
   "cell_type": "code",
   "execution_count": 30,
   "id": "6669ebad",
   "metadata": {
    "collapsed": false,
    "jupyter": {
     "outputs_hidden": false
    }
   },
   "outputs": [],
   "source": [
    "# DDL statements to create tables in the database\n",
    "\n"
   ]
  },
  {
   "cell_type": "code",
   "execution_count": 30,
   "id": "a2a07e40",
   "metadata": {
    "collapsed": false,
    "jupyter": {
     "outputs_hidden": false
    }
   },
   "outputs": [],
   "source": []
  },
  {
   "cell_type": "markdown",
   "id": "a97ed32e-eaea-4efa-89be-7b2584acf96b",
   "metadata": {},
   "source": [
    "#### Part 2:  Demonstration\n",
    "\n",
    "A video walkthrough was included via WGU's internal Panapto tool covering the following:\n",
    "\n",
    "B.\n",
    "\n",
    "1.  Describe the technical environment used to create the dashboards.\n",
    "\n",
    "2.  Demonstrate the functionality of the dashboards.\n",
    "\n",
    "3.  Explain the SQL scripts used to support the creation of the dashboards.\n",
    "\n",
    "4.  Explain how the data streams were prepared to support the analysis.\n",
    "\n",
    "5.  Describe how data were aligned with other data points.\n",
    "\n",
    "6.  Demonstrate how the databases were created.\n",
    "\n",
    "7.  Explain how referential integrity was enforced in the database."
   ]
  },
  {
   "cell_type": "markdown",
   "id": "d7464f5f-9cd9-4583-a401-6033211d650c",
   "metadata": {},
   "source": [
    "#### Part 3: Reflection\n",
    "\n",
    "Part 3:  Report\n",
    "\n",
    "C.  Write a report to outline the data exploration, use of advanced SQL operations, and the analysis of the data. Do the following as part of your report:\n",
    "\n",
    "1.  Explain how the purpose and function of your dashboard aligns with the needs outlined in the data dictionary associated with your chosen data set.\n",
    "\n",
    "2.  Justify the selection of the business intelligence tool you used.\n",
    "\n",
    "3.  Explain the steps used to clean and prepare the data for the analysis.\n",
    "\n",
    "4.  Summarize the steps used to create the dashboards.\n",
    "\n",
    "5.  Discuss the results of your data analysis and how it supports executive decision-making.\n",
    "\n",
    "6.  Discuss the limitation(s) of your data analysis."
   ]
  },
  {
   "cell_type": "code",
   "execution_count": 30,
   "id": "1420192a-5ea2-48b6-9ba2-299d515009e2",
   "metadata": {},
   "outputs": [],
   "source": []
  }
 ],
 "metadata": {
  "kernelspec": {
   "display_name": "Python 3 (ipykernel)",
   "language": "python",
   "name": "python3"
  },
  "language_info": {
   "codemirror_mode": {
    "name": "ipython",
    "version": 3
   },
   "file_extension": ".py",
   "mimetype": "text/x-python",
   "name": "python",
   "nbconvert_exporter": "python",
   "pygments_lexer": "ipython3",
   "version": "3.9.12"
  }
 },
 "nbformat": 4,
 "nbformat_minor": 5
}
